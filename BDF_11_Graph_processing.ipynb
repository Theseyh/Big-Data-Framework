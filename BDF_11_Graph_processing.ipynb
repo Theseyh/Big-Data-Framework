{
  "nbformat": 4,
  "nbformat_minor": 0,
  "metadata": {
    "colab": {
      "provenance": [],
      "include_colab_link": true
    },
    "kernelspec": {
      "name": "python3",
      "display_name": "Python 3"
    }
  },
  "cells": [
    {
      "cell_type": "markdown",
      "metadata": {
        "id": "view-in-github",
        "colab_type": "text"
      },
      "source": [
        "<a href=\"https://colab.research.google.com/github/Theseyh/Big-Data-Framework/blob/main/BDF_11_Graph_processing.ipynb\" target=\"_parent\"><img src=\"https://colab.research.google.com/assets/colab-badge.svg\" alt=\"Open In Colab\"/></a>"
      ]
    },
    {
      "cell_type": "markdown",
      "metadata": {
        "id": "uL0HHBxQa1Hc"
      },
      "source": [
        "#00 - Configuration of Apache Spark on Collaboratory\n"
      ]
    },
    {
      "cell_type": "markdown",
      "metadata": {
        "id": "AcWXhOxia5yZ"
      },
      "source": [
        "###Installing Java, Spark, and Findspark\n",
        "\n",
        "\n",
        "---\n",
        "\n",
        "\n",
        "This code installs Apache Spark 3.0.1, Java 8, and [Findspark](https://github.com/minrk/findspark), a library that makes it easy for Python to find Spark."
      ]
    },
    {
      "cell_type": "code",
      "metadata": {
        "id": "KsAfQ0CrgnWf",
        "colab": {
          "base_uri": "https://localhost:8080/"
        },
        "outputId": "66c9207d-af9b-4ec5-df67-98c410b1baa8"
      },
      "source": [
        "import os\n",
        "\n",
        "os.environ[\"SPARK_VERSION\"] = \"spark-3.2.3\"\n",
        "!apt-get update\n",
        "!apt-get install openjdk-8-jdk-headless -qq > /dev/null\n",
        "!wget  https://archive.apache.org/dist/spark/$SPARK_VERSION/$SPARK_VERSION-bin-hadoop2.7.tgz\n",
        "!tar xf $SPARK_VERSION-bin-hadoop2.7.tgz\n",
        "!echo $SPARK_VERSION-bin-hadoop2.7.tgz\n",
        "!pip install -q findspark"
      ],
      "execution_count": 1,
      "outputs": [
        {
          "output_type": "stream",
          "name": "stdout",
          "text": [
            "\r0% [Working]\r            \rGet:1 https://cloud.r-project.org/bin/linux/ubuntu jammy-cran40/ InRelease [3,626 B]\n",
            "\r0% [Waiting for headers] [Waiting for headers] [1 InRelease 3,626 B/3,626 B 100%] [Waiting for heade\r0% [Waiting for headers] [Waiting for headers] [Waiting for headers] [Waiting for headers] [Connecti\r                                                                                                    \rGet:2 http://security.ubuntu.com/ubuntu jammy-security InRelease [129 kB]\n",
            "Hit:3 http://archive.ubuntu.com/ubuntu jammy InRelease\n",
            "Hit:4 https://developer.download.nvidia.com/compute/cuda/repos/ubuntu2204/x86_64  InRelease\n",
            "Get:5 http://archive.ubuntu.com/ubuntu jammy-updates InRelease [128 kB]\n",
            "Get:6 https://r2u.stat.illinois.edu/ubuntu jammy InRelease [6,555 B]\n",
            "Get:7 http://archive.ubuntu.com/ubuntu jammy-backports InRelease [127 kB]\n",
            "Hit:8 https://ppa.launchpadcontent.net/deadsnakes/ppa/ubuntu jammy InRelease\n",
            "Hit:9 https://ppa.launchpadcontent.net/graphics-drivers/ppa/ubuntu jammy InRelease\n",
            "Hit:10 https://ppa.launchpadcontent.net/ubuntugis/ppa/ubuntu jammy InRelease\n",
            "Get:11 https://r2u.stat.illinois.edu/ubuntu jammy/main all Packages [8,513 kB]\n",
            "Get:12 http://security.ubuntu.com/ubuntu jammy-security/universe amd64 Packages [1,224 kB]\n",
            "Get:13 https://r2u.stat.illinois.edu/ubuntu jammy/main amd64 Packages [2,620 kB]\n",
            "Get:14 http://security.ubuntu.com/ubuntu jammy-security/main amd64 Packages [2,454 kB]\n",
            "Get:15 http://archive.ubuntu.com/ubuntu jammy-updates/main amd64 Packages [2,738 kB]\n",
            "Get:16 http://archive.ubuntu.com/ubuntu jammy-updates/universe amd64 Packages [1,513 kB]\n",
            "Get:17 http://archive.ubuntu.com/ubuntu jammy-backports/universe amd64 Packages [33.8 kB]\n",
            "Fetched 19.5 MB in 8s (2,427 kB/s)\n",
            "Reading package lists... Done\n",
            "W: Skipping acquire of configured file 'main/source/Sources' as repository 'https://r2u.stat.illinois.edu/ubuntu jammy InRelease' does not seem to provide it (sources.list entry misspelt?)\n",
            "--2024-11-29 14:13:48--  https://archive.apache.org/dist/spark/spark-3.2.3/spark-3.2.3-bin-hadoop2.7.tgz\n",
            "Resolving archive.apache.org (archive.apache.org)... 65.108.204.189, 2a01:4f9:1a:a084::2\n",
            "Connecting to archive.apache.org (archive.apache.org)|65.108.204.189|:443... connected.\n",
            "HTTP request sent, awaiting response... 200 OK\n",
            "Length: 272866820 (260M) [application/x-gzip]\n",
            "Saving to: ‘spark-3.2.3-bin-hadoop2.7.tgz’\n",
            "\n",
            "spark-3.2.3-bin-had 100%[===================>] 260.23M  21.5MB/s    in 14s     \n",
            "\n",
            "2024-11-29 14:14:02 (18.3 MB/s) - ‘spark-3.2.3-bin-hadoop2.7.tgz’ saved [272866820/272866820]\n",
            "\n",
            "spark-3.2.3-bin-hadoop2.7.tgz\n"
          ]
        }
      ]
    },
    {
      "cell_type": "code",
      "metadata": {
        "id": "2W8ScIqhafBT",
        "colab": {
          "base_uri": "https://localhost:8080/"
        },
        "outputId": "f820b95c-0c45-4e8f-ac4f-0b1946a229db"
      },
      "source": [
        "!wget https://repos.spark-packages.org/graphframes/graphframes/0.8.2-spark3.2-s_2.12/graphframes-0.8.2-spark3.2-s_2.12.jar"
      ],
      "execution_count": 2,
      "outputs": [
        {
          "output_type": "stream",
          "name": "stdout",
          "text": [
            "--2024-11-29 14:14:11--  https://repos.spark-packages.org/graphframes/graphframes/0.8.2-spark3.2-s_2.12/graphframes-0.8.2-spark3.2-s_2.12.jar\n",
            "Resolving repos.spark-packages.org (repos.spark-packages.org)... 52.84.125.114, 52.84.125.113, 52.84.125.73, ...\n",
            "Connecting to repos.spark-packages.org (repos.spark-packages.org)|52.84.125.114|:443... connected.\n",
            "HTTP request sent, awaiting response... 200 OK\n",
            "Length: 247880 (242K) [binary/octet-stream]\n",
            "Saving to: ‘graphframes-0.8.2-spark3.2-s_2.12.jar’\n",
            "\n",
            "\r          graphfram   0%[                    ]       0  --.-KB/s               \rgraphframes-0.8.2-s 100%[===================>] 242.07K  --.-KB/s    in 0.04s   \n",
            "\n",
            "2024-11-29 14:14:11 (5.93 MB/s) - ‘graphframes-0.8.2-spark3.2-s_2.12.jar’ saved [247880/247880]\n",
            "\n"
          ]
        }
      ]
    },
    {
      "cell_type": "markdown",
      "metadata": {
        "id": "urlhmQ_ra_ba"
      },
      "source": [
        "### Set Environment Variables\n",
        "Set the locations where Spark and Java are installed."
      ]
    },
    {
      "cell_type": "code",
      "metadata": {
        "id": "hiOoj3rUgnVx",
        "colab": {
          "base_uri": "https://localhost:8080/"
        },
        "outputId": "661768d3-649c-41e2-d9d0-d4b00a34d364"
      },
      "source": [
        "import os\n",
        "os.environ[\"JAVA_HOME\"] = \"/usr/lib/jvm/java-8-openjdk-amd64\"\n",
        "os.environ[\"SPARK_HOME\"] = \"/content/spark/\"\n",
        "os.environ[\"DRIVE_DATA\"] = \"/content/gdrive/My Drive/Big Data Framework/data/\"\n",
        "\n",
        "!rm /content/spark\n",
        "!ln -s /content/$SPARK_VERSION-bin-hadoop2.7 /content/spark\n",
        "\n",
        "!mv graphframes-0.8.2-spark3.2-s_2.12.jar /content/spark/jars/\n",
        "\n",
        "!export SPARK_HOME=/content/spark\n",
        "!export PATH=$PATH:$SPARK_HOME/bin:$SPARK_HOME/sbin\n",
        "\n",
        "!echo $SPARK_HOME\n",
        "!env |grep  \"DRIVE_DATA\"\n",
        "\n",
        "!ls -l /content/"
      ],
      "execution_count": 3,
      "outputs": [
        {
          "output_type": "stream",
          "name": "stdout",
          "text": [
            "rm: cannot remove '/content/spark': No such file or directory\n",
            "/content/spark/\n",
            "DRIVE_DATA=/content/gdrive/My Drive/Big Data Framework/data/\n",
            "total 266480\n",
            "drwxr-xr-x  1 root root      4096 Nov 25 19:13 sample_data\n",
            "lrwxrwxrwx  1 root root        34 Nov 29 14:14 spark -> /content/spark-3.2.3-bin-hadoop2.7\n",
            "drwxr-xr-x 13  501 1000      4096 Nov 14  2022 spark-3.2.3-bin-hadoop2.7\n",
            "-rw-r--r--  1 root root 272866820 Nov 14  2022 spark-3.2.3-bin-hadoop2.7.tgz\n"
          ]
        }
      ]
    },
    {
      "cell_type": "markdown",
      "metadata": {
        "id": "2URH7tCHbDqf"
      },
      "source": [
        "### Start a SparkSession\n",
        "This will start a local Spark session."
      ]
    },
    {
      "cell_type": "code",
      "metadata": {
        "id": "n8JD51WVauRN",
        "colab": {
          "base_uri": "https://localhost:8080/"
        },
        "outputId": "d1976599-63f8-4c43-ab03-32bef67601e4"
      },
      "source": [
        "!python -V\n",
        "\n",
        "import findspark\n",
        "findspark.init()\n",
        "\n",
        "from pyspark import SparkContext\n",
        "sc = SparkContext.getOrCreate()\n",
        "\n",
        "sc.addPyFile('/content/spark/jars/graphframes-0.8.2-spark3.2-s_2.12.jar')\n",
        "\n",
        "# Example: shows the PySpark version\n",
        "print(\"PySpark version {0}\".format(sc.version))\n",
        "\n",
        "# Example: parallelise an array and show the 2 first elements\n",
        "sc.parallelize([2, 3, 4, 5, 6]).cache().take(2)"
      ],
      "execution_count": 4,
      "outputs": [
        {
          "output_type": "stream",
          "name": "stdout",
          "text": [
            "Python 3.10.12\n",
            "PySpark version 3.2.3\n"
          ]
        },
        {
          "output_type": "execute_result",
          "data": {
            "text/plain": [
              "[2, 3]"
            ]
          },
          "metadata": {},
          "execution_count": 4
        }
      ]
    },
    {
      "cell_type": "code",
      "metadata": {
        "id": "Ar81vEOHauP2"
      },
      "source": [
        "from pyspark.sql import SparkSession\n",
        "# We create a SparkSession object (or we retrieve it if it is already created)\n",
        "spark = SparkSession \\\n",
        ".builder \\\n",
        ".appName(\"My application\") \\\n",
        ".config(\"packages\",\"graphframes:graphframes-0.8.2-spark3.2-s_2.12\") \\\n",
        ".master(\"local[4]\") \\\n",
        ".getOrCreate()\n",
        "# We get the SparkContext\n",
        "sc = spark.sparkContext"
      ],
      "execution_count": 5,
      "outputs": []
    },
    {
      "cell_type": "code",
      "metadata": {
        "id": "KBMAZitVauMT",
        "colab": {
          "base_uri": "https://localhost:8080/"
        },
        "outputId": "b20c6859-c8b5-49ca-deb7-f75770127fe0"
      },
      "source": [
        "# Mount Google Drive\n",
        "from google.colab import drive\n",
        "drive.mount('/content/gdrive')"
      ],
      "execution_count": 6,
      "outputs": [
        {
          "output_type": "stream",
          "name": "stdout",
          "text": [
            "Mounted at /content/gdrive\n"
          ]
        }
      ]
    },
    {
      "cell_type": "code",
      "source": [],
      "metadata": {
        "id": "tF2L0fcQJMRp"
      },
      "execution_count": 6,
      "outputs": []
    },
    {
      "cell_type": "markdown",
      "metadata": {
        "id": "jajoV8LDbTCe"
      },
      "source": [
        "\n",
        "---\n",
        "\n",
        "\n",
        "# 11 - Graph processing"
      ]
    },
    {
      "cell_type": "markdown",
      "metadata": {
        "id": "Tc96GG2FFzA5"
      },
      "source": [
        "## GraphX: Graph processing with RDDs\n",
        "\n",
        "Parallel graph programming using Spark\n",
        "\n",
        "- Main abstraction: [*Graph*](http://spark.apache.org/docs/latest/api/scala/index.html#org.apache.spark.graphx.Graph)\n",
        "    -   Directed multigraph with properties assigned to vertices and edges\n",
        "    -   It is an extension of the RDDs\n",
        "- It includes graph constructors, basic operators ( *reverse*, *subgraph*…) and graph algorithms ( *PageRank*, *Triangle Counting*…)\n",
        "- Only availabe on Scala.\n",
        "\n",
        "Documentation: [spark.apache.org/docs/latest/graphx-programming-guide.html](http://spark.apache.org/docs/latest/graphx-programming-guide.html)\n",
        "\n",
        "API: https://spark.apache.org/docs/latest/api/scala/index.html#org.apache.spark.graphx.package"
      ]
    },
    {
      "cell_type": "markdown",
      "metadata": {
        "id": "szq16u_cIKxA"
      },
      "source": [
        "## Graphs in GraphX\n",
        "<img src=\"http://persoal.citius.usc.es/tf.pena/TCDM/figs/grapxgraph.png\" alt=\"Grafo en GraphX\" style=\"width: 50px;\"/>\n",
        "(Source: M.S. Malak, R. East \"Spark GraphX in action\", Manning, 2016)"
      ]
    },
    {
      "cell_type": "markdown",
      "metadata": {
        "id": "5HkF-qEfIZrO"
      },
      "source": [
        "### Example of a simple graph\n",
        "<img src=\"http://persoal.citius.usc.es/tf.pena/TCDM/figs/simpsonsgraph.png\" alt=\"Grafo de los Simpson\" style=\"width: 600px;\"/>\n",
        "(Source: P. Zecević, M. Bonaći \"Spark in action\", Manning, 2017)"
      ]
    },
    {
      "cell_type": "markdown",
      "metadata": {
        "id": "L6bmE-QvGf2r"
      },
      "source": [
        "## GraphFrames: : Graph processing with DataFrames\n",
        "\n",
        "In Python we can use [*GraphFrames*](https://graphframes.github.io/graphframes/docs/_site/quick-start.html) which wraps GraphX algorithms under the DataFrames API, providing a Python interface.\n",
        "\n",
        "- Support for multiple languages is on the works\n",
        "    - For now,  available for Scala and Python\n",
        "- Not yet integrated on Spark\n",
        "    - Available as an external package (https://spark-packages.org/package/graphframes/graphframes)\n",
        "\n",
        "More information:\n",
        "- Project web: https://graphframes.github.io/graphframes/docs/_site/\n",
        "- Python API : https://graphframes.github.io/graphframes/docs/_site/api/python/index.html\n"
      ]
    },
    {
      "cell_type": "markdown",
      "metadata": {
        "id": "l07_p2RRIu_f"
      },
      "source": [
        "### Graphs using pyspark and GraphFrames"
      ]
    },
    {
      "cell_type": "code",
      "metadata": {
        "id": "1enKNqmMIy1Z",
        "colab": {
          "base_uri": "https://localhost:8080/"
        },
        "outputId": "594e6af1-b70c-4dd9-a218-a80caa943023"
      },
      "source": [
        "# The following example shows how to create a GraphFrame, query it, and run the PageRank algorithm.\n",
        "# Source: https://graphframes.github.io/graphframes/docs/_site/quick-start.html\n",
        "\n",
        "from pyspark.sql import SQLContext\n",
        "sqlContext = SQLContext(sc)\n",
        "\n",
        "from graphframes import *\n",
        "\n",
        "# Create a Vertex DataFrame with unique ID column \"id\"\n",
        "v = sqlContext.createDataFrame([\n",
        "  (\"a\", \"Alice\", 34),\n",
        "  (\"b\", \"Bob\", 36),\n",
        "  (\"c\", \"Charlie\", 30),\n",
        "], [\"id\", \"name\", \"age\"])\n",
        "# Create an Edge DataFrame with \"src\" and \"dst\" columns\n",
        "e = sqlContext.createDataFrame([\n",
        "  (\"a\", \"b\", \"friend\"),\n",
        "  (\"b\", \"c\", \"follow\"),\n",
        "  (\"c\", \"b\", \"follow\"),\n",
        "], [\"src\", \"dst\", \"relationship\"])\n",
        "# Create a GraphFrame\n",
        "\n",
        "g = GraphFrame(v, e)\n",
        "\n",
        "# Query: Get in-degree of each vertex.\n",
        "g.inDegrees.show()\n",
        "\n",
        "# Query: Count the number of \"follow\" connections in the graph.\n",
        "g.edges.filter(\"relationship = 'follow'\").count()\n",
        "\n",
        "# Run PageRank algorithm, and show results.\n",
        "results = g.pageRank(resetProbability=0.01, maxIter=20)\n",
        "results.vertices.select(\"id\", \"pagerank\").show()"
      ],
      "execution_count": 7,
      "outputs": [
        {
          "output_type": "stream",
          "name": "stderr",
          "text": [
            "/content/spark/python/pyspark/sql/context.py:77: FutureWarning: Deprecated in 3.0.0. Use SparkSession.builder.getOrCreate() instead.\n",
            "  warnings.warn(\n"
          ]
        },
        {
          "output_type": "stream",
          "name": "stdout",
          "text": [
            "+---+--------+\n",
            "| id|inDegree|\n",
            "+---+--------+\n",
            "|  b|       2|\n",
            "|  c|       1|\n",
            "+---+--------+\n",
            "\n",
            "+---+------------------+\n",
            "| id|          pagerank|\n",
            "+---+------------------+\n",
            "|  c|1.8994109890559092|\n",
            "|  b|1.0905890109440908|\n",
            "|  a|              0.01|\n",
            "+---+------------------+\n",
            "\n"
          ]
        }
      ]
    },
    {
      "cell_type": "markdown",
      "metadata": {
        "id": "YIZQECRHuiDw"
      },
      "source": [
        "#Exercises"
      ]
    },
    {
      "cell_type": "markdown",
      "metadata": {
        "id": "usL5LynSI6rE"
      },
      "source": [
        "## Exercise 11.1:\n",
        "\n",
        "A long time ago in a galaxy far, far away, the characters of the Star Wars franchise interacted with each other in an endless series of films. An ancient Jedi order, called the *Data Guardians of the Galaxy* (not affiliated to Marvel's homonym :) registered all those interactions and saved them on a digital file so that they could be studied by the forthcoming generations. This file was originally called (guess it) `sw.txt`, and you will find it in the `/data` directory.\n",
        "\n",
        "Using pySpark, perform the following operations and answer the following questions:\n",
        "\n",
        "1. Load the `$DRIVE_DATA/sw.txt` file. Take into account that it is a JSON file.\n",
        "2. Using this information, create a graph of interactions between the Star Wars characters.\n",
        "3. How many different characters are there?\n",
        "4. How many interactions are there?\n",
        "5. Who is the central character in Star Wars (the one who interacts in most scenes)?\n",
        "6. Who is the character with the highest 'rank' in Star Wars (use the PageRank algorithm)?"
      ]
    },
    {
      "cell_type": "code",
      "metadata": {
        "id": "fM--zQhLyAYM",
        "colab": {
          "base_uri": "https://localhost:8080/"
        },
        "outputId": "11fe81a6-113c-481c-ae7a-ff770f204011"
      },
      "source": [
        "sw_DF = spark.read.option(\"multiline\", \"true\").json(os.environ[\"DRIVE_DATA\"] + \"sw.txt\").cache()\n",
        "sw = sw_DF.rdd\n",
        "\n",
        "print(sw.collect())\n"
      ],
      "execution_count": 8,
      "outputs": [
        {
          "output_type": "stream",
          "name": "stdout",
          "text": [
            "[Row(links=[Row(source=0, target=1, value=32), Row(source=2, target=0, value=2), Row(source=0, target=20, value=5), Row(source=0, target=4, value=22), Row(source=0, target=18, value=41), Row(source=0, target=21, value=2), Row(source=0, target=15, value=12), Row(source=0, target=22, value=2), Row(source=0, target=23, value=8), Row(source=24, target=0, value=11), Row(source=0, target=26, value=3), Row(source=0, target=27, value=2), Row(source=0, target=8, value=47), Row(source=0, target=29, value=1), Row(source=0, target=30, value=1), Row(source=13, target=0, value=2), Row(source=0, target=19, value=4), Row(source=0, target=32, value=9), Row(source=0, target=33, value=2), Row(source=0, target=34, value=9), Row(source=0, target=35, value=1), Row(source=17, target=0, value=1), Row(source=38, target=0, value=2), Row(source=39, target=0, value=1), Row(source=40, target=0, value=3), Row(source=0, target=14, value=1), Row(source=0, target=43, value=1), Row(source=0, target=44, value=1), Row(source=0, target=45, value=3), Row(source=0, target=50, value=3), Row(source=51, target=0, value=1), Row(source=52, target=0, value=2), Row(source=0, target=54, value=1), Row(source=0, target=55, value=1), Row(source=0, target=5, value=1), Row(source=53, target=0, value=3), Row(source=0, target=57, value=2), Row(source=0, target=12, value=21), Row(source=0, target=58, value=1), Row(source=36, target=0, value=2), Row(source=63, target=0, value=1), Row(source=0, target=69, value=2), Row(source=0, target=70, value=1), Row(source=0, target=71, value=7), Row(source=0, target=82, value=8), Row(source=0, target=83, value=2), Row(source=0, target=86, value=1), Row(source=48, target=0, value=3), Row(source=0, target=87, value=4), Row(source=0, target=72, value=2), Row(source=0, target=66, value=8), Row(source=0, target=88, value=1), Row(source=2, target=1, value=17), Row(source=3, target=1, value=2), Row(source=3, target=2, value=8), Row(source=8, target=1, value=28), Row(source=18, target=1, value=24), Row(source=4, target=1, value=13), Row(source=1, target=20, value=3), Row(source=24, target=1, value=55), Row(source=26, target=1, value=2), Row(source=29, target=1, value=4), Row(source=12, target=1, value=5), Row(source=40, target=1, value=1), Row(source=51, target=1, value=1), Row(source=50, target=1, value=2), Row(source=36, target=1, value=3), Row(source=1, target=34, value=5), Row(source=66, target=1, value=34), Row(source=69, target=1, value=23), Row(source=65, target=1, value=1), Row(source=68, target=1, value=1), Row(source=72, target=1, value=18), Row(source=87, target=1, value=5), Row(source=2, target=8, value=6), Row(source=24, target=2, value=39), Row(source=2, target=66, value=32), Row(source=2, target=72, value=77), Row(source=2, target=29, value=3), Row(source=2, target=69, value=48), Row(source=2, target=79, value=1), Row(source=2, target=87, value=20), Row(source=48, target=2, value=2), Row(source=2, target=96, value=20), Row(source=2, target=98, value=13), Row(source=101, target=2, value=1), Row(source=2, target=103, value=2), Row(source=2, target=93, value=2), Row(source=2, target=94, value=3), Row(source=95, target=2, value=1), Row(source=3, target=93, value=8), Row(source=3, target=92, value=2), Row(source=3, target=98, value=17), Row(source=3, target=97, value=1), Row(source=3, target=96, value=15), Row(source=3, target=72, value=9), Row(source=101, target=3, value=1), Row(source=3, target=103, value=3), Row(source=3, target=69, value=3), Row(source=3, target=24, value=3), Row(source=5, target=4, value=1), Row(source=6, target=7, value=1), Row(source=8, target=7, value=1), Row(source=4, target=7, value=1), Row(source=8, target=4, value=26), Row(source=5, target=7, value=1), Row(source=9, target=5, value=1), Row(source=9, target=7, value=1), Row(source=5, target=10, value=8), Row(source=10, target=11, value=2), Row(source=5, target=11, value=1), Row(source=13, target=12, value=3), Row(source=12, target=14, value=1), Row(source=13, target=14, value=3), Row(source=15, target=4, value=22), Row(source=15, target=8, value=15), Row(source=15, target=16, value=2), Row(source=17, target=4, value=2), Row(source=17, target=8, value=2), Row(source=17, target=15, value=2), Row(source=12, target=5, value=6), Row(source=12, target=10, value=3), Row(source=5, target=14, value=2), Row(source=15, target=14, value=1), Row(source=13, target=15, value=7), Row(source=4, target=14, value=2), Row(source=13, target=4, value=9), Row(source=13, target=18, value=7), Row(source=18, target=4, value=16), Row(source=18, target=14, value=1), Row(source=13, target=8, value=7), Row(source=8, target=19, value=3), Row(source=15, target=19, value=1), Row(source=4, target=19, value=2), Row(source=13, target=19, value=2), Row(source=15, target=18, value=10), Row(source=4, target=20, value=6), Row(source=18, target=20, value=3), Row(source=15, target=21, value=2), Row(source=4, target=21, value=2), Row(source=18, target=21, value=2), Row(source=22, target=4, value=2), Row(source=22, target=18, value=1), Row(source=15, target=23, value=3), Row(source=4, target=23, value=8), Row(source=18, target=23, value=5), Row(source=24, target=18, value=12), Row(source=8, target=14, value=1), Row(source=25, target=12, value=3), Row(source=26, target=27, value=1), Row(source=15, target=26, value=1), Row(source=26, target=4, value=2), Row(source=15, target=27, value=1), Row(source=4, target=27, value=2), Row(source=8, target=23, value=1), Row(source=24, target=20, value=1), Row(source=26, target=20, value=1), Row(source=24, target=4, value=1), Row(source=24, target=26, value=1), Row(source=26, target=18, value=1), Row(source=28, target=29, value=1), Row(source=29, target=23, value=1), Row(source=21, target=23, value=1), Row(source=29, target=15, value=1), Row(source=29, target=18, value=1), Row(source=29, target=21, value=1), Row(source=29, target=4, value=1), Row(source=28, target=15, value=2), Row(source=28, target=18, value=1), Row(source=30, target=4, value=1), Row(source=30, target=27, value=1), Row(source=26, target=23, value=1), Row(source=12, target=31, value=2), Row(source=12, target=15, value=5), Row(source=12, target=4, value=1), Row(source=15, target=31, value=1), Row(source=4, target=31, value=1), Row(source=32, target=4, value=2), Row(source=33, target=4, value=2), Row(source=4, target=34, value=3), Row(source=4, target=35, value=1), Row(source=33, target=32, value=4), Row(source=32, target=34, value=16), Row(source=32, target=35, value=1), Row(source=33, target=34, value=4), Row(source=33, target=35, value=1), Row(source=35, target=34, value=1), Row(source=36, target=12, value=6), Row(source=36, target=31, value=1), Row(source=8, target=34, value=20), Row(source=32, target=8, value=9), Row(source=33, target=8, value=1), Row(source=17, target=18, value=2), Row(source=25, target=5, value=3), Row(source=17, target=13, value=1), Row(source=8, target=18, value=9), Row(source=12, target=37, value=1), Row(source=37, target=5, value=1), Row(source=25, target=37, value=1), Row(source=25, target=10, value=1), Row(source=38, target=19, value=4), Row(source=37, target=15, value=1), Row(source=5, target=18, value=2), Row(source=9, target=11, value=1), Row(source=39, target=38, value=2), Row(source=39, target=19, value=2), Row(source=12, target=18, value=5), Row(source=12, target=41, value=2), Row(source=12, target=42, value=2), Row(source=42, target=41, value=1), Row(source=12, target=32, value=3), Row(source=12, target=34, value=2), Row(source=12, target=33, value=1), Row(source=36, target=32, value=2), Row(source=36, target=34, value=8), Row(source=36, target=33, value=1), Row(source=40, target=15, value=1), Row(source=40, target=8, value=2), Row(source=8, target=6, value=1), Row(source=18, target=43, value=1), Row(source=44, target=43, value=2), Row(source=45, target=43, value=1), Row(source=44, target=18, value=1), Row(source=18, target=45, value=1), Row(source=44, target=45, value=1), Row(source=8, target=46, value=5), Row(source=47, target=46, value=2), Row(source=47, target=8, value=6), Row(source=48, target=46, value=2), Row(source=48, target=49, value=3), Row(source=48, target=8, value=1), Row(source=49, target=46, value=1), Row(source=49, target=8, value=1), Row(source=24, target=50, value=4), Row(source=51, target=24, value=3), Row(source=24, target=52, value=1), Row(source=51, target=50, value=4), Row(source=50, target=18, value=4), Row(source=52, target=50, value=2), Row(source=51, target=18, value=1), Row(source=51, target=52, value=1), Row(source=52, target=18, value=2), Row(source=36, target=8, value=8), Row(source=12, target=8, value=5), Row(source=8, target=41, value=1), Row(source=36, target=41, value=1), Row(source=36, target=15, value=1), Row(source=41, target=34, value=1), Row(source=15, target=34, value=1), Row(source=32, target=41, value=1), Row(source=15, target=32, value=1), Row(source=15, target=41, value=1), Row(source=32, target=18, value=2), Row(source=15, target=42, value=1), Row(source=53, target=18, value=3), Row(source=53, target=49, value=1), Row(source=55, target=54, value=2), Row(source=5, target=54, value=2), Row(source=5, target=55, value=2), Row(source=8, target=54, value=1), Row(source=8, target=55, value=1), Row(source=5, target=8, value=1), Row(source=53, target=8, value=3), Row(source=18, target=54, value=1), Row(source=53, target=54, value=1), Row(source=18, target=55, value=1), Row(source=53, target=55, value=1), Row(source=53, target=5, value=1), Row(source=53, target=32, value=2), Row(source=33, target=56, value=1), Row(source=53, target=34, value=2), Row(source=18, target=34, value=1), Row(source=53, target=12, value=2), Row(source=8, target=57, value=2), Row(source=58, target=8, value=2), Row(source=24, target=8, value=9), Row(source=24, target=12, value=2), Row(source=36, target=24, value=3), Row(source=36, target=18, value=5), Row(source=36, target=59, value=2), Row(source=36, target=60, value=2), Row(source=36, target=61, value=1), Row(source=59, target=18, value=2), Row(source=59, target=60, value=2), Row(source=59, target=61, value=1), Row(source=60, target=18, value=2), Row(source=61, target=18, value=1), Row(source=61, target=60, value=1), Row(source=40, target=18, value=2), Row(source=24, target=40, value=2), Row(source=62, target=34, value=1), Row(source=63, target=8, value=2), Row(source=8, target=64, value=1), Row(source=58, target=5, value=1), Row(source=63, target=32, value=1), Row(source=63, target=34, value=1), Row(source=36, target=65, value=2), Row(source=36, target=4, value=1), Row(source=24, target=34, value=1), Row(source=24, target=65, value=1), Row(source=67, target=66, value=2), Row(source=68, target=67, value=2), Row(source=68, target=66, value=4), Row(source=51, target=66, value=3), Row(source=66, target=50, value=3), Row(source=24, target=66, value=29), Row(source=24, target=69, value=49), Row(source=69, target=66, value=26), Row(source=51, target=69, value=1), Row(source=66, target=8, value=22), Row(source=69, target=8, value=1), Row(source=70, target=71, value=2), Row(source=72, target=8, value=10), Row(source=72, target=66, value=43), Row(source=30, target=72, value=1), Row(source=72, target=29, value=1), Row(source=24, target=72, value=54), Row(source=69, target=70, value=1), Row(source=69, target=71, value=1), Row(source=72, target=69, value=69), Row(source=73, target=74, value=1), Row(source=73, target=75, value=1), Row(source=73, target=66, value=1), Row(source=74, target=75, value=1), Row(source=74, target=66, value=1), Row(source=66, target=75, value=4), Row(source=68, target=69, value=1), Row(source=69, target=76, value=1), Row(source=66, target=76, value=3), Row(source=68, target=76, value=3), Row(source=68, target=24, value=1), Row(source=24, target=76, value=1), Row(source=76, target=75, value=3), Row(source=74, target=76, value=1), Row(source=68, target=75, value=2), Row(source=76, target=77, value=1), Row(source=68, target=74, value=1), Row(source=66, target=77, value=1), Row(source=72, target=79, value=3), Row(source=69, target=79, value=4), Row(source=24, target=80, value=1), Row(source=72, target=81, value=1), Row(source=24, target=79, value=1), Row(source=83, target=82, value=2), Row(source=80, target=69, value=1), Row(source=84, target=66, value=3), Row(source=85, target=75, value=2), Row(source=66, target=81, value=1), Row(source=86, target=82, value=1), Row(source=66, target=34, value=6), Row(source=48, target=82, value=1), Row(source=72, target=87, value=12), Row(source=87, target=69, value=12), Row(source=24, target=87, value=8), Row(source=48, target=87, value=2), Row(source=48, target=24, value=1), Row(source=48, target=72, value=1), Row(source=48, target=69, value=1), Row(source=87, target=66, value=6), Row(source=89, target=24, value=2), Row(source=24, target=29, value=3), Row(source=29, target=66, value=2), Row(source=90, target=29, value=1), Row(source=90, target=24, value=2), Row(source=90, target=72, value=1), Row(source=90, target=69, value=1), Row(source=89, target=66, value=1), Row(source=89, target=29, value=1), Row(source=72, target=60, value=1), Row(source=91, target=72, value=2), Row(source=87, target=60, value=1), Row(source=91, target=87, value=5), Row(source=91, target=60, value=1), Row(source=24, target=60, value=1), Row(source=69, target=60, value=1), Row(source=66, target=60, value=1), Row(source=91, target=24, value=2), Row(source=91, target=69, value=2), Row(source=91, target=66, value=1), Row(source=12, target=66, value=3), Row(source=87, target=75, value=6), Row(source=91, target=75, value=1), Row(source=92, target=93, value=3), Row(source=94, target=92, value=1), Row(source=94, target=93, value=2), Row(source=95, target=94, value=1), Row(source=95, target=92, value=1), Row(source=95, target=93, value=1), Row(source=95, target=96, value=3), Row(source=99, target=94, value=5), Row(source=98, target=97, value=2), Row(source=96, target=93, value=11), Row(source=99, target=100, value=1), Row(source=94, target=100, value=2), Row(source=95, target=99, value=1), Row(source=96, target=98, value=29), Row(source=72, target=98, value=17), Row(source=96, target=72, value=23), Row(source=101, target=72, value=2), Row(source=101, target=98, value=1), Row(source=101, target=96, value=1), Row(source=99, target=102, value=3), Row(source=94, target=102, value=2), Row(source=72, target=103, value=4), Row(source=96, target=103, value=2), Row(source=103, target=98, value=2), Row(source=72, target=93, value=2), Row(source=69, target=93, value=3), Row(source=96, target=69, value=3), Row(source=94, target=98, value=4), Row(source=93, target=104, value=2), Row(source=91, target=93, value=1), Row(source=24, target=93, value=2), Row(source=105, target=93, value=1), Row(source=72, target=104, value=1), Row(source=91, target=104, value=1), Row(source=96, target=104, value=1), Row(source=69, target=104, value=1), Row(source=24, target=104, value=1), Row(source=105, target=104, value=1), Row(source=105, target=72, value=1), Row(source=91, target=96, value=1), Row(source=91, target=105, value=1), Row(source=24, target=96, value=1), Row(source=105, target=96, value=1), Row(source=105, target=69, value=2), Row(source=105, target=24, value=2), Row(source=95, target=72, value=2), Row(source=107, target=99, value=1), Row(source=108, target=93, value=3), Row(source=109, target=104, value=1), Row(source=72, target=94, value=3), Row(source=96, target=94, value=2), Row(source=109, target=110, value=2), Row(source=110, target=106, value=1), Row(source=110, target=93, value=2), Row(source=108, target=110, value=2), Row(source=109, target=106, value=1), Row(source=109, target=93, value=2), Row(source=108, target=109, value=2), Row(source=93, target=106, value=1), Row(source=108, target=106, value=1), Row(source=69, target=98, value=1), Row(source=66, target=98, value=1)], nodes=[Row(colour='#000000', name='DARTH VADER', value=190), Row(colour='#bde0f6', name='R2-D2', value=171), Row(colour='#A0522D', name='CHEWBACCA', value=145), Row(colour='#eb5d00', name='BB-8', value=40), Row(colour='#4f4fb1', name='QUI-GON', value=62), Row(colour='#808080', name='NUTE GUNRAY', value=25), Row(colour='#808080', name='PK-4', value=4), Row(colour='#808080', name='TC-14', value=5), Row(colour='#48D1CC', name='OBI-WAN', value=148), Row(colour='#808080', name='DOFINE', value=4), Row(colour='#808080', name='RUNE', value=11), Row(colour='#808080', name='TEY HOW', value=5), Row(colour='#191970', name='EMPEROR', value=52), Row(colour='#808080', name='CAPTAIN PANAKA', value=20), Row(colour='#808080', name='SIO BIBBLE', value=9), Row(colour='#9a9a00', name='JAR JAR', value=42), Row(colour='#808080', name='TARPALS', value=4), Row(colour='#808080', name='BOSS NASS', value=5), Row(colour='#DDA0DD', name='PADME', value=75), Row(colour='#808080', name='RIC OLIE', value=12), Row(colour='#808080', name='WATTO', value=9), Row(colour='#808080', name='SEBULBA', value=4), Row(colour='#808080', name='JIRA', value=4), Row(colour='#808080', name='SHMI', value=12), Row(colour='#FFD700', name='C-3PO', value=151), Row(colour='#808080', name='DARTH MAUL', value=6), Row(colour='#808080', name='KITSTER', value=5), Row(colour='#808080', name='WALD', value=4), Row(colour='#808080', name='FODE/BEED', value=12), Row(colour='#808080', name='JABBA', value=8), Row(colour='#808080', name='GREEDO', value=4), Row(colour='#808080', name='VALORUM', value=4), Row(colour='#808080', name='MACE WINDU', value=23), Row(colour='#808080', name='KI-ADI-MUNDI', value=7), Row(colour='#9ACD32', name='YODA', value=46), Row(colour='#808080', name='RABE', value=3), Row(colour='#808080', name='BAIL ORGANA', value=24), Row(colour='#808080', name='GENERAL CEEL', value=5), Row(colour='#808080', name='BRAVO TWO', value=6), Row(colour='#808080', name='BRAVO THREE', value=4), Row(colour='#808080', name='CAPTAIN TYPHO', value=7), Row(colour='#808080', name='SENATOR ASK AAK', value=4), Row(colour='#808080', name='ORN FREE TAA', value=4), Row(colour='#808080', name='SOLA', value=4), Row(colour='#808080', name='JOBAL', value=4), Row(colour='#808080', name='RUWEE', value=5), Row(colour='#808080', name='TAUN WE', value=8), Row(colour='#808080', name='LAMA SU', value=9), Row(colour='#808080', name='BOBA FETT', value=11), Row(colour='#808080', name='JANGO FETT', value=6), Row(colour='#808080', name='OWEN', value=11), Row(colour='#808080', name='BERU', value=7), Row(colour='#808080', name='CLIEGG', value=4), Row(colour='#808080', name='COUNT DOOKU', value=10), Row(colour='#808080', name='SUN RIT', value=4), Row(colour='#808080', name='POGGLE', value=4), Row(colour='#808080', name='PLO KOON', value=4), Row(colour='#808080', name='ODD BALL', value=5), Row(colour='#808080', name='GENERAL GRIEVOUS', value=13), Row(colour='#808080', name='FANG ZAR', value=4), Row(colour='#808080', name='MON MOTHMA', value=5), Row(colour='#808080', name='GIDDEAN DANU', value=3), Row(colour='#808080', name='CLONE COMMANDER GREE', value=5), Row(colour='#808080', name='CLONE COMMANDER CODY', value=5), Row(colour='#808080', name='TION MEDON', value=4), Row(colour='#808080', name='CAPTAIN ANTILLES', value=4), Row(colour='#3881e5', name='LUKE', value=161), Row(colour='#808080', name='CAMIE', value=4), Row(colour='#808080', name='BIGGS', value=19), Row(colour='#DCDCDC', name='LEIA', value=99), Row(colour='#808080', name='MOTTI', value=4), Row(colour='#808080', name='TARKIN', value=13), Row(colour='#ff9400', name='HAN', value=170), Row(colour='#808080', name='DODONNA', value=4), Row(colour='#808080', name='GOLD LEADER', value=15), Row(colour='#808080', name='WEDGE', value=29), Row(colour='#808080', name='RED LEADER', value=34), Row(colour='#808080', name='RED TEN', value=9), Row(colour='#808080', name='GOLD FIVE', value=9), Row(colour='#808080', name='RIEEKAN', value=8), Row(colour='#808080', name='DERLIN', value=4), Row(colour='#808080', name='ZEV', value=7), Row(colour='#808080', name='PIETT', value=13), Row(colour='#808080', name='OZZEL', value=4), Row(colour='#808080', name='DACK', value=5), Row(colour='#808080', name='JANSON', value=5), Row(colour='#808080', name='NEEDA', value=4), Row(colour='#808080', name='LANDO', value=42), Row(colour='#808080', name='JERJERROD', value=4), Row(colour='#808080', name='BIB FORTUNA', value=4), Row(colour='#808080', name='BOUSHH', value=4), Row(colour='#808080', name='ADMIRAL ACKBAR', value=13), Row(colour='#808080', name='LOR SAN TEKKA', value=5), Row(colour='#a15bea', name='POE', value=31), Row(colour='#000000', name='KYLO REN', value=23), Row(colour='#808080', name='CAPTAIN PHASMA', value=7), Row(colour='#07b19f', name='FINN', value=64), Row(colour='#808080', name='UNKAR PLUTT', value=6), Row(colour='#ffe0af', name='REY', value=57), Row(colour='#808080', name='GENERAL HUX', value=15), Row(colour='#808080', name='LIEUTENANT MITAKA', value=4), Row(colour='#808080', name='BALA-TIK', value=5), Row(colour='#191970', name='SNOKE', value=5), Row(colour='#808080', name='MAZ', value=7), Row(colour='#808080', name='SNAP', value=6), Row(colour='#808080', name='ADMIRAL STATURA', value=4), Row(colour='#808080', name='YOLO ZIFF', value=4), Row(colour='#808080', name='COLONEL DATOO', value=4), Row(colour='#808080', name='ELLO ASTY', value=5), Row(colour='#808080', name='JESS', value=5), Row(colour='#808080', name='NIV LEK', value=4)])]\n"
          ]
        }
      ]
    },
    {
      "cell_type": "code",
      "source": [
        "from pyspark.sql import SparkSession\n",
        "from graphframes import GraphFrame\n",
        "\n",
        "# Initialize Spark session\n",
        "spark = SparkSession.builder \\\n",
        "    .appName(\"Star Wars Graph Analysis\") \\\n",
        "    .getOrCreate()\n",
        "\n",
        "# Load the JSON file\n",
        "file_path = os.environ[\"DRIVE_DATA\"] + \"sw.txt\"\n",
        "sw_data = spark.read.option(\"multiline\", \"true\").json(file_path)\n",
        "\n",
        "# Show the structure of the data\n",
        "sw_data.printSchema()\n"
      ],
      "metadata": {
        "id": "KecWSvpDSZzD",
        "outputId": "a7f0a498-44ae-4c79-8ab6-7eaa009a83aa",
        "colab": {
          "base_uri": "https://localhost:8080/"
        }
      },
      "execution_count": 11,
      "outputs": [
        {
          "output_type": "stream",
          "name": "stdout",
          "text": [
            "root\n",
            " |-- links: array (nullable = true)\n",
            " |    |-- element: struct (containsNull = true)\n",
            " |    |    |-- source: long (nullable = true)\n",
            " |    |    |-- target: long (nullable = true)\n",
            " |    |    |-- value: long (nullable = true)\n",
            " |-- nodes: array (nullable = true)\n",
            " |    |-- element: struct (containsNull = true)\n",
            " |    |    |-- colour: string (nullable = true)\n",
            " |    |    |-- name: string (nullable = true)\n",
            " |    |    |-- value: long (nullable = true)\n",
            "\n"
          ]
        }
      ]
    },
    {
      "cell_type": "code",
      "source": [
        "# Verify nodes\n",
        "sw_data.selectExpr(\"explode(nodes) as node\").show(truncate=False)\n",
        "sw_data.selectExpr(\"explode(links) as link\").show(truncate=False)\n",
        "\n",
        "# Debug nodes DataFrame\n",
        "nodes = sw_data.selectExpr(\"explode(nodes) as node\").selectExpr(\"node.name as id\", \"node.value as value\", \"node.colour as colour\")\n",
        "nodes.show(truncate=False)\n",
        "\n",
        "# Debug links DataFrame\n",
        "links = sw_data.selectExpr(\"explode(links) as link\").selectExpr(\"link.source as src\", \"link.target as dst\", \"link.value as value\")\n",
        "links.show(truncate=False)\n"
      ],
      "metadata": {
        "colab": {
          "base_uri": "https://localhost:8080/"
        },
        "id": "Hb02wjrPOJ9r",
        "outputId": "1c7ac0a6-66fd-49d4-ebca-a555b8654e7a"
      },
      "execution_count": 12,
      "outputs": [
        {
          "output_type": "stream",
          "name": "stdout",
          "text": [
            "+-----------------------------+\n",
            "|node                         |\n",
            "+-----------------------------+\n",
            "|{#000000, DARTH VADER, 190}  |\n",
            "|{#bde0f6, R2-D2, 171}        |\n",
            "|{#A0522D, CHEWBACCA, 145}    |\n",
            "|{#eb5d00, BB-8, 40}          |\n",
            "|{#4f4fb1, QUI-GON, 62}       |\n",
            "|{#808080, NUTE GUNRAY, 25}   |\n",
            "|{#808080, PK-4, 4}           |\n",
            "|{#808080, TC-14, 5}          |\n",
            "|{#48D1CC, OBI-WAN, 148}      |\n",
            "|{#808080, DOFINE, 4}         |\n",
            "|{#808080, RUNE, 11}          |\n",
            "|{#808080, TEY HOW, 5}        |\n",
            "|{#191970, EMPEROR, 52}       |\n",
            "|{#808080, CAPTAIN PANAKA, 20}|\n",
            "|{#808080, SIO BIBBLE, 9}     |\n",
            "|{#9a9a00, JAR JAR, 42}       |\n",
            "|{#808080, TARPALS, 4}        |\n",
            "|{#808080, BOSS NASS, 5}      |\n",
            "|{#DDA0DD, PADME, 75}         |\n",
            "|{#808080, RIC OLIE, 12}      |\n",
            "+-----------------------------+\n",
            "only showing top 20 rows\n",
            "\n",
            "+-----------+\n",
            "|link       |\n",
            "+-----------+\n",
            "|{0, 1, 32} |\n",
            "|{2, 0, 2}  |\n",
            "|{0, 20, 5} |\n",
            "|{0, 4, 22} |\n",
            "|{0, 18, 41}|\n",
            "|{0, 21, 2} |\n",
            "|{0, 15, 12}|\n",
            "|{0, 22, 2} |\n",
            "|{0, 23, 8} |\n",
            "|{24, 0, 11}|\n",
            "|{0, 26, 3} |\n",
            "|{0, 27, 2} |\n",
            "|{0, 8, 47} |\n",
            "|{0, 29, 1} |\n",
            "|{0, 30, 1} |\n",
            "|{13, 0, 2} |\n",
            "|{0, 19, 4} |\n",
            "|{0, 32, 9} |\n",
            "|{0, 33, 2} |\n",
            "|{0, 34, 9} |\n",
            "+-----------+\n",
            "only showing top 20 rows\n",
            "\n",
            "+--------------+-----+-------+\n",
            "|id            |value|colour |\n",
            "+--------------+-----+-------+\n",
            "|DARTH VADER   |190  |#000000|\n",
            "|R2-D2         |171  |#bde0f6|\n",
            "|CHEWBACCA     |145  |#A0522D|\n",
            "|BB-8          |40   |#eb5d00|\n",
            "|QUI-GON       |62   |#4f4fb1|\n",
            "|NUTE GUNRAY   |25   |#808080|\n",
            "|PK-4          |4    |#808080|\n",
            "|TC-14         |5    |#808080|\n",
            "|OBI-WAN       |148  |#48D1CC|\n",
            "|DOFINE        |4    |#808080|\n",
            "|RUNE          |11   |#808080|\n",
            "|TEY HOW       |5    |#808080|\n",
            "|EMPEROR       |52   |#191970|\n",
            "|CAPTAIN PANAKA|20   |#808080|\n",
            "|SIO BIBBLE    |9    |#808080|\n",
            "|JAR JAR       |42   |#9a9a00|\n",
            "|TARPALS       |4    |#808080|\n",
            "|BOSS NASS     |5    |#808080|\n",
            "|PADME         |75   |#DDA0DD|\n",
            "|RIC OLIE      |12   |#808080|\n",
            "+--------------+-----+-------+\n",
            "only showing top 20 rows\n",
            "\n",
            "+---+---+-----+\n",
            "|src|dst|value|\n",
            "+---+---+-----+\n",
            "|0  |1  |32   |\n",
            "|2  |0  |2    |\n",
            "|0  |20 |5    |\n",
            "|0  |4  |22   |\n",
            "|0  |18 |41   |\n",
            "|0  |21 |2    |\n",
            "|0  |15 |12   |\n",
            "|0  |22 |2    |\n",
            "|0  |23 |8    |\n",
            "|24 |0  |11   |\n",
            "|0  |26 |3    |\n",
            "|0  |27 |2    |\n",
            "|0  |8  |47   |\n",
            "|0  |29 |1    |\n",
            "|0  |30 |1    |\n",
            "|13 |0  |2    |\n",
            "|0  |19 |4    |\n",
            "|0  |32 |9    |\n",
            "|0  |33 |2    |\n",
            "|0  |34 |9    |\n",
            "+---+---+-----+\n",
            "only showing top 20 rows\n",
            "\n"
          ]
        }
      ]
    },
    {
      "cell_type": "code",
      "source": [
        "from pyspark.sql.functions import monotonically_increasing_id\n",
        "\n",
        "# Assign unique indices to nodes\n",
        "nodes = nodes.withColumn(\"index\", monotonically_increasing_id())\n",
        "\n",
        "# Use indices directly to match links with nodes\n",
        "links = links \\\n",
        "    .join(nodes.withColumnRenamed(\"id\", \"src_id\").select(\"src_id\", \"index\"), links.src == nodes[\"index\"]) \\\n",
        "    .withColumnRenamed(\"index\", \"src_index\") \\\n",
        "    .join(nodes.withColumnRenamed(\"id\", \"dst_id\").select(\"dst_id\", \"index\"), links.dst == nodes[\"index\"]) \\\n",
        "    .withColumnRenamed(\"index\", \"dst_index\") \\\n",
        "    .selectExpr(\"src_index as src\", \"dst_index as dst\", \"value\")\n"
      ],
      "metadata": {
        "id": "CVIO3U0vPQnD"
      },
      "execution_count": 13,
      "outputs": []
    },
    {
      "cell_type": "markdown",
      "source": [
        "2"
      ],
      "metadata": {
        "id": "dgh8JxPQIT11"
      }
    },
    {
      "cell_type": "code",
      "source": [
        "from graphframes import GraphFrame\n",
        "\n",
        "# Create GraphFrame\n",
        "graph = GraphFrame(nodes.selectExpr(\"id\", \"value\", \"colour\"), links)\n",
        "graph.vertices.show()\n",
        "graph.edges.show()\n",
        "#graph.inDegrees.show()\n"
      ],
      "metadata": {
        "id": "2ektm0O-IBl7"
      },
      "execution_count": null,
      "outputs": []
    },
    {
      "cell_type": "markdown",
      "source": [
        "number of diff carracter"
      ],
      "metadata": {
        "id": "QjIPvsjHIaqm"
      }
    },
    {
      "cell_type": "code",
      "source": [
        "num_characters = nodes.select(\"id\").distinct().count()\n",
        "print(f\"Number of different characters: {num_characters}\")\n"
      ],
      "metadata": {
        "id": "61e_lPx7IDaU"
      },
      "execution_count": null,
      "outputs": []
    },
    {
      "cell_type": "code",
      "source": [
        "num_interactions = links.count()\n",
        "print(f\"Number of interactions: {num_interactions}\")\n"
      ],
      "metadata": {
        "id": "o0ZUKC_dInsP"
      },
      "execution_count": null,
      "outputs": []
    },
    {
      "cell_type": "code",
      "source": [
        "degree = graph.degrees\n",
        "central_character = degree.orderBy(\"degree\", ascending=False).first()\n",
        "print(f\"The central character is {central_character['id']} with {central_character['degree']} interactions.\")\n"
      ],
      "metadata": {
        "id": "dyJOXb01IqhS"
      },
      "execution_count": null,
      "outputs": []
    },
    {
      "cell_type": "code",
      "source": [
        "# Rename columns to avoid ambiguity\n",
        "degree = degree.withColumnRenamed(\"id\", \"degree_id\")\n",
        "nodes = nodes.withColumnRenamed(\"id\", \"node_id\")\n",
        "\n",
        "# Join degree with nodes on appropriate columns\n",
        "central_character = degree.join(nodes, degree[\"degree_id\"] == nodes[\"node_id\"]) \\\n",
        "                          .orderBy(\"degree\", ascending=False) \\\n",
        "                          .select(\"node_id\", \"degree\", \"name\") \\\n",
        "                          .first()\n",
        "\n",
        "# Print the result\n",
        "print(f\"The central character is {central_character['name']} with {central_character['degree']} interactions.\")\n"
      ],
      "metadata": {
        "id": "wIlCu09xO9tt"
      },
      "execution_count": null,
      "outputs": []
    },
    {
      "cell_type": "code",
      "source": [
        "pagerank = graph.pageRank(resetProbability=0.15, maxIter=10)\n",
        "top_pagerank = pagerank.vertices.orderBy(\"pagerank\", ascending=False).first()\n",
        "print(f\"The character with the highest PageRank is {top_pagerank['id']} with rank {top_pagerank['pagerank']}.\")\n"
      ],
      "metadata": {
        "id": "3bKCkikbJFb9"
      },
      "execution_count": null,
      "outputs": []
    }
  ]
}