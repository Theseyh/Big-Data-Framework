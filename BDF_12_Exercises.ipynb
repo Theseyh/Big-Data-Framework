{
  "nbformat": 4,
  "nbformat_minor": 0,
  "metadata": {
    "colab": {
      "provenance": [],
      "include_colab_link": true
    },
    "kernelspec": {
      "name": "python3",
      "display_name": "Python 3"
    }
  },
  "cells": [
    {
      "cell_type": "markdown",
      "metadata": {
        "id": "view-in-github",
        "colab_type": "text"
      },
      "source": [
        "<a href=\"https://colab.research.google.com/github/Theseyh/Big-Data-Framework/blob/main/BDF_12_Exercises.ipynb\" target=\"_parent\"><img src=\"https://colab.research.google.com/assets/colab-badge.svg\" alt=\"Open In Colab\"/></a>"
      ]
    },
    {
      "cell_type": "markdown",
      "metadata": {
        "id": "uL0HHBxQa1Hc"
      },
      "source": [
        "#00 - Configuration of Apache Spark on Collaboratory\n"
      ]
    },
    {
      "cell_type": "markdown",
      "metadata": {
        "id": "AcWXhOxia5yZ"
      },
      "source": [
        "###Installing Java, Spark, and Findspark\n",
        "\n",
        "\n",
        "---\n",
        "\n",
        "\n",
        "This code installs Apache Spark 3.0.1, Java 8, and [Findspark](https://github.com/minrk/findspark), a library that makes it easy for Python to find Spark."
      ]
    },
    {
      "cell_type": "code",
      "metadata": {
        "id": "KsAfQ0CrgnWf"
      },
      "source": [
        "import os\n",
        "\n",
        "os.environ[\"SPARK_VERSION\"] = \"spark-3.5.3\"\n",
        "!apt-get update\n",
        "!apt-get install openjdk-8-jdk-headless -qq > /dev/null\n",
        "!wget  http://apache.osuosl.org/spark/$SPARK_VERSION/$SPARK_VERSION-bin-hadoop3.tgz\n",
        "!tar xf $SPARK_VERSION-bin-hadoop3.tgz\n",
        "!echo $SPARK_VERSION-bin-hadoop3.tgz\n",
        "!rm $SPARK_VERSION-bin-hadoop3.tgz\n",
        "!pip install -q findspark"
      ],
      "execution_count": null,
      "outputs": []
    },
    {
      "cell_type": "markdown",
      "metadata": {
        "id": "urlhmQ_ra_ba"
      },
      "source": [
        "### Set Environment Variables\n",
        "Set the locations where Spark and Java are installed."
      ]
    },
    {
      "cell_type": "code",
      "metadata": {
        "id": "hiOoj3rUgnVx"
      },
      "source": [
        "import os\n",
        "os.environ[\"JAVA_HOME\"] = \"/usr/lib/jvm/java-8-openjdk-amd64\"\n",
        "os.environ[\"SPARK_HOME\"] = \"/content/spark/\"\n",
        "os.environ[\"DRIVE_DATA\"] = \"/content/gdrive/My Drive/Enseignement/2024-2025/ING3/HPDA/BigDataFrameworks/data/\"\n",
        "\n",
        "!rm /content/spark\n",
        "!ln -s /content/$SPARK_VERSION-bin-hadoop3 /content/spark\n",
        "!export PATH=$PATH:$SPARK_HOME/bin:$SPARK_HOME/sbin\n",
        "!echo $SPARK_HOME\n",
        "!env |grep  \"DRIVE_DATA\""
      ],
      "execution_count": null,
      "outputs": []
    },
    {
      "cell_type": "code",
      "source": [
        "\n",
        "\n",
        "# Install Java and PySpark\n",
        "!apt-get install openjdk-8-jdk-headless -qq > /dev/null\n",
        "!pip install pyspark findspark\n",
        "\n",
        "\n",
        "\n",
        "import os\n",
        "os.environ[\"JAVA_HOME\"] = \"/usr/lib/jvm/java-8-openjdk-amd64\"\n",
        "os.environ[\"SPARK_HOME\"] = \"/usr/local/lib/python3.11/dist-packages/pyspark\"\n",
        "os.environ[\"DRIVE_DATA\"] = \"/content/gdrive/My Drive/Big Data Framework/data/\""
      ],
      "metadata": {
        "id": "QG21BB91_X_M",
        "outputId": "f82f23db-e724-4b06-b6cd-96cb53fa419a",
        "colab": {
          "base_uri": "https://localhost:8080/"
        }
      },
      "execution_count": 1,
      "outputs": [
        {
          "output_type": "stream",
          "name": "stdout",
          "text": [
            "Requirement already satisfied: pyspark in /usr/local/lib/python3.11/dist-packages (3.5.4)\n",
            "Collecting findspark\n",
            "  Downloading findspark-2.0.1-py2.py3-none-any.whl.metadata (352 bytes)\n",
            "Requirement already satisfied: py4j==0.10.9.7 in /usr/local/lib/python3.11/dist-packages (from pyspark) (0.10.9.7)\n",
            "Downloading findspark-2.0.1-py2.py3-none-any.whl (4.4 kB)\n",
            "Installing collected packages: findspark\n",
            "Successfully installed findspark-2.0.1\n"
          ]
        }
      ]
    },
    {
      "cell_type": "markdown",
      "metadata": {
        "id": "2URH7tCHbDqf"
      },
      "source": [
        "### Start a SparkSession\n",
        "This will start a local Spark session."
      ]
    },
    {
      "cell_type": "code",
      "metadata": {
        "id": "n8JD51WVauRN",
        "outputId": "96a491e8-49e6-4349-95f5-9940234a6e6d",
        "colab": {
          "base_uri": "https://localhost:8080/"
        }
      },
      "source": [
        "!python -V\n",
        "\n",
        "import findspark\n",
        "findspark.init()\n",
        "\n",
        "from pyspark import SparkContext\n",
        "sc = SparkContext.getOrCreate()\n",
        "\n",
        "# Example: shows the PySpark version\n",
        "print(\"PySpark version {0}\".format(sc.version))\n",
        "\n",
        "# Example: parallelise an array and show the 2 first elements\n",
        "sc.parallelize([2, 3, 4, 5, 6]).cache().take(2)"
      ],
      "execution_count": 2,
      "outputs": [
        {
          "output_type": "stream",
          "name": "stdout",
          "text": [
            "Python 3.11.11\n",
            "PySpark version 3.5.4\n"
          ]
        },
        {
          "output_type": "execute_result",
          "data": {
            "text/plain": [
              "[2, 3]"
            ]
          },
          "metadata": {},
          "execution_count": 2
        }
      ]
    },
    {
      "cell_type": "code",
      "metadata": {
        "id": "Ar81vEOHauP2"
      },
      "source": [
        "from pyspark.sql import SparkSession\n",
        "# We create a SparkSession object (or we retrieve it if it is already created)\n",
        "spark = SparkSession \\\n",
        ".builder \\\n",
        ".appName(\"My application\") \\\n",
        ".config(\"spark.some.config.option\", \"some-value\") \\\n",
        ".master(\"local[4]\") \\\n",
        ".getOrCreate()\n",
        "# We get the SparkContext\n",
        "sc = spark.sparkContext"
      ],
      "execution_count": 3,
      "outputs": []
    },
    {
      "cell_type": "code",
      "metadata": {
        "id": "KBMAZitVauMT",
        "outputId": "a0b0a6cd-742c-45da-9b04-e4930c6e295b",
        "colab": {
          "base_uri": "https://localhost:8080/"
        }
      },
      "source": [
        "# Mount Google Drive\n",
        "from google.colab import drive\n",
        "drive.mount('/content/gdrive')"
      ],
      "execution_count": 4,
      "outputs": [
        {
          "output_type": "stream",
          "name": "stdout",
          "text": [
            "Mounted at /content/gdrive\n"
          ]
        }
      ]
    },
    {
      "cell_type": "markdown",
      "metadata": {
        "id": "jajoV8LDbTCe"
      },
      "source": [
        "\n",
        "---\n",
        "\n",
        "\n",
        "# 12 - Exercises. Final assignment"
      ]
    },
    {
      "cell_type": "markdown",
      "metadata": {
        "id": "za4qzjHXyxcn"
      },
      "source": [
        "## Exercise 12.1\n",
        "\n",
        "Let us extract information from the cite75_99.txt and apat63_99.txt files. Write a script that performs the following operations:\n",
        "\n",
        "1. From the cite75_99.txt file, obtain the number of citations received by each patent. You must produce a DataFrame with the following format:\n",
        "\n",
        "| PatentNum | ncitations |\n",
        "|-----------|------------|\n",
        "| 3060453   |    3       |\n",
        "| 3390168   |    6       |\n",
        "| 3626542   |   18       |\n",
        "| 3611507   |    5       |\n",
        "| 3000113   |    4       |\n",
        "\n",
        "\n",
        "2. From the apat63_99.txt file, create a DataFrame to show the patent number, its country and the patent year, discarding the rest of fields in the file. The DataFrame produced must have the following format:\n",
        "\n",
        "|PatentNum |country|Year |\n",
        "|----------|-------|-----|\n",
        "| 3070801  | BE    | 1963|\n",
        "| 3070802  | US    | 1963|\n",
        "| 3070803  | US    | 1963|\n",
        "| 3070804  | US    | 1963|\n",
        "| 3070805  | US    | 1963|\n",
        "\n",
        "\n",
        "**Requirements**\n",
        "\n",
        " - Both DataFrames must be stored in Parquet format with gzip compression. Check the number of partitions of each DataFrame and the number of files gererated.\n",
        "\n",
        " - It is **strongly advised** to copy the files from your Drive to a temporal directory in the notebook virtual machine and unzip them there. This will reduce the execution times. See the cell below:\n",
        "        "
      ]
    },
    {
      "cell_type": "code",
      "metadata": {
        "id": "aV_M6xMlB9hP",
        "outputId": "dad7b4ce-93ec-495d-8221-751e03274f95",
        "colab": {
          "base_uri": "https://localhost:8080/"
        }
      },
      "source": [
        "!mkdir /tmp/data/\n",
        "!cp \"$DRIVE_DATA\"apat63_99.txt.tar.bz2 \"$DRIVE_DATA\"cite75_99.txt.tar.bz2 \"$DRIVE_DATA\"country_codes.txt /tmp/data\n",
        "%cd /tmp/data\n",
        "!ls\n",
        "!tar -jxf apat63_99.txt.tar.bz2\n",
        "!tar -jxf cite75_99.txt.tar.bz2\n",
        "!rm /tmp/data/*.tar.bz2\n",
        "!ls"
      ],
      "execution_count": 19,
      "outputs": [
        {
          "output_type": "stream",
          "name": "stdout",
          "text": [
            "mkdir: cannot create directory ‘/tmp/data/’: File exists\n",
            "/tmp/data\n",
            "apat63_99.txt  apat63_99.txt.tar.bz2  cite75_99.txt  cite75_99.txt.tar.bz2  country_codes.txt\n",
            "apat63_99.txt  cite75_99.txt  country_codes.txt\n"
          ]
        }
      ]
    },
    {
      "cell_type": "code",
      "source": [
        "from pyspark.sql import SparkSession\n",
        "from pyspark.sql.functions import col, count\n",
        "\n",
        "# Initialize SparkSession\n",
        "spark = SparkSession.builder \\\n",
        "    .appName(\"Patent Analysis\") \\\n",
        "    .config(\"spark.sql.parquet.compression.codec\", \"gzip\") \\\n",
        "    .getOrCreate()\n",
        "\n",
        "# Path to the data files\n",
        "data_path = \"/tmp/data/\"\n",
        "\n",
        "# Load cite75_99.txt and extract the number of citations per patent\n",
        "cite_file = f\"{data_path}cite75_99.txt\"\n",
        "cite_schema = \"Citing INT, Cited INT\"\n",
        "\n",
        "# Load the cite75_99.txt file\n",
        "cite_df = spark.read.csv(cite_file, schema=cite_schema, sep=',', header=False)\n",
        "\n",
        "# Count citations for each patent\n",
        "ncitations_df = cite_df.groupBy(\"Cited\") \\\n",
        "    .agg(count(\"Citing\").alias(\"ncitations\")) \\\n",
        "    .withColumnRenamed(\"Cited\", \"PatentNum\")\n",
        "\n",
        "# Save ncitations DataFrame as Parquet with gzip compression\n",
        "ncitations_output = \"/tmp/ncitations.parquet\"\n",
        "ncitations_df.write.mode(\"overwrite\").parquet(ncitations_output)\n",
        "\n",
        "# Check the number of partitions and files generated\n",
        "print(f\"Number of partitions (ncitations): {ncitations_df.rdd.getNumPartitions()}\")\n",
        "!ls {ncitations_output}\n",
        "\n",
        "# Load apat63_99.txt and extract patent number, country, and year\n",
        "# Load the apat63_99.txt file with corrected schema\n",
        "apat_file = f\"{data_path}apat63_99.txt\"\n",
        "corrected_schema = \"\"\"\n",
        "PatentNum INT, GYear INT, GDate INT, AppYear INT, Country STRING,\n",
        "PostState STRING, Assignee INT, AssCode INT, Claims INT, NClass INT,\n",
        "Cat INT, SubCat INT, CMade INT, CReceive INT, RatioCit FLOAT,\n",
        "General FLOAT, Original FLOAT, FwdAplag FLOAT, BckgtLag FLOAT,\n",
        "SelfCtUb FLOAT, SelfCtLb FLOAT, SecDupBd FLOAT, SecDlwb FLOAT\n",
        "\"\"\"\n",
        "\n",
        "apat_df = spark.read.csv(\n",
        "    apat_file, schema=corrected_schema, sep=\",\", header=True\n",
        ")\n",
        "\n",
        "# Select relevant columns\n",
        "patent_info_df = apat_df.select(\"PatentNum\", \"Country\", \"GYear\").withColumnRenamed(\"GYear\", \"Year\")\n",
        "\n",
        "# Save as Parquet\n",
        "patent_info_output = \"/tmp/patent_info.parquet\"\n",
        "patent_info_df.write.mode(\"overwrite\").parquet(patent_info_output)\n",
        "\n",
        "# Verify results\n",
        "ncitations_df.show(5)\n",
        "patent_info_df.show(5)\n",
        "\n"
      ],
      "metadata": {
        "id": "qgr953NcB8gT",
        "outputId": "8c2afa7b-4ae1-4a28-e2da-b68173008502",
        "colab": {
          "base_uri": "https://localhost:8080/"
        }
      },
      "execution_count": 28,
      "outputs": [
        {
          "output_type": "stream",
          "name": "stdout",
          "text": [
            "Number of partitions (ncitations): 2\n",
            "part-00000-c1abb4b5-5495-4301-856e-2e86b352d8c9-c000.gz.parquet  _SUCCESS\n",
            "part-00001-c1abb4b5-5495-4301-856e-2e86b352d8c9-c000.gz.parquet\n",
            "+---------+----------+\n",
            "|PatentNum|ncitations|\n",
            "+---------+----------+\n",
            "|  3060453|         3|\n",
            "|  3390168|         6|\n",
            "|  3626542|        18|\n",
            "|  3611507|         5|\n",
            "|  3000113|         4|\n",
            "+---------+----------+\n",
            "only showing top 5 rows\n",
            "\n",
            "+---------+-------+----+\n",
            "|PatentNum|Country|Year|\n",
            "+---------+-------+----+\n",
            "|  3070801|     BE|1963|\n",
            "|  3070802|     US|1963|\n",
            "|  3070803|     US|1963|\n",
            "|  3070804|     US|1963|\n",
            "|  3070805|     US|1963|\n",
            "+---------+-------+----+\n",
            "only showing top 5 rows\n",
            "\n"
          ]
        }
      ]
    },
    {
      "cell_type": "code",
      "source": [
        "# prompt: show the 5 first row of cite75_99.txt\n",
        "\n",
        "!head -n 5 /tmp/data/cite75_99.txt\n",
        "\n",
        "!head -n 5 /tmp/data/apat63_99.txt\n",
        "\n"
      ],
      "metadata": {
        "id": "woUpI6w6Dn2u",
        "outputId": "6f9ed301-b556-4445-d92b-8cf2144605a2",
        "colab": {
          "base_uri": "https://localhost:8080/"
        }
      },
      "execution_count": 11,
      "outputs": [
        {
          "output_type": "stream",
          "name": "stdout",
          "text": [
            "\"CITING\",\"CITED\"\n",
            "3858241,956203\n",
            "3858241,1324234\n",
            "3858241,3398406\n",
            "3858241,3557384\n",
            "\"PATENT\",\"GYEAR\",\"GDATE\",\"APPYEAR\",\"COUNTRY\",\"POSTATE\",\"ASSIGNEE\",\"ASSCODE\",\"CLAIMS\",\"NCLASS\",\"CAT\",\"SUBCAT\",\"CMADE\",\"CRECEIVE\",\"RATIOCIT\",\"GENERAL\",\"ORIGINAL\",\"FWDAPLAG\",\"BCKGTLAG\",\"SELFCTUB\",\"SELFCTLB\",\"SECDUPBD\",\"SECDLWBD\"\n",
            "3070801,1963,1096,,\"BE\",\"\",,1,,269,6,69,,1,,0,,,,,,,\n",
            "3070802,1963,1096,,\"US\",\"TX\",,1,,2,6,63,,0,,,,,,,,,\n",
            "3070803,1963,1096,,\"US\",\"IL\",,1,,2,6,63,,9,,0.3704,,,,,,,\n",
            "3070804,1963,1096,,\"US\",\"OH\",,1,,2,6,63,,3,,0.6667,,,,,,,\n"
          ]
        }
      ]
    },
    {
      "cell_type": "markdown",
      "metadata": {
        "id": "HF1_LXZEnzMn"
      },
      "source": [
        "## Exercise 12.2\n",
        "\n",
        "Write a code that, from the Parquet files created in the previous exercise, obtains for each country and for each year: the total number of patents, the total number of citations from those patents, the average number of citations and the maximum number of citations. Compute only those values in which there are any values in both files (*inner join*). In addition, each country must show its whole name, obtained from the *country_codes.txt* file. The final DataFrame must look like this one:\n",
        "\n",
        "\n",
        "|Country            |Year|PatentsNum |TotalCitations|AvgCitations      |MaxCitations|\n",
        "|-------------------|----|-----------|--------------|------------------|------------|\n",
        "|Algeria            |1963|2          |7             |3.5               |4           |\n",
        "|Algeria            |1968|1          |2             |2.0               |2           |\n",
        "|Algeria            |1970|1          |2             |2.0               |2           |\n",
        "|Algeria            |1972|1          |1             |1.0               |1           |\n",
        "|Algeria            |1977|1          |2             |2.0               |2           |\n",
        "|Andorra            |1987|1          |3             |3.0               |3           |\n",
        "|Andorra            |1993|1          |1             |1.0               |1           |\n",
        "|Andorra            |1998|1          |1             |1.0               |1           |\n",
        "|Antigua and Barbuda|1978|1          |6             |6.0               |6           |\n",
        "|Antigua and Barbuda|1979|1          |14            |14.0              |14          |\n",
        "|Antigua and Barbuda|1991|1          |8             |8.0               |8           |\n",
        "|Antigua and Barbuda|1994|1          |19            |19.0              |19          |\n",
        "|Antigua and Barbuda|1995|2          |12            |6.0               |11          |\n",
        "|Antigua and Barbuda|1996|2          |3             |1.5               |2           |\n",
        "|Argentina          |1963|14         |35            |2.5               |7           |\n",
        "|Argentina          |1964|20         |60            |3.0               |8           |\n",
        "|Argentina          |1965|10         |35            |3.5               |10          |\n",
        "|Argentina          |1966|16         |44            |2.75              |9           |\n",
        "|Argentina          |1967|13         |60            |4.615384615384615 |14          |\n",
        "\n",
        "**Requirements**\n",
        "\n",
        "- The output DataFrame must be saved in a single CSV file, with a header and without any compression.\n"
      ]
    },
    {
      "cell_type": "code",
      "source": [
        "!head -n 5 /tmp/data/country_codes.txt\n",
        "!ls\n"
      ],
      "metadata": {
        "id": "yvgyCNZFHO45",
        "outputId": "8e36f1c2-537f-4ee1-8a43-b6bf3c47067e",
        "colab": {
          "base_uri": "https://localhost:8080/"
        }
      },
      "execution_count": 24,
      "outputs": [
        {
          "output_type": "stream",
          "name": "stdout",
          "text": [
            "AF\tAfghanistan\n",
            "AX\tAland Islands\n",
            "AL\tAlbania\n",
            "DZ\tAlgeria\n",
            "AS\tAmerican Samoa\n",
            "apat63_99.txt  cite75_99.txt  country_codes.txt\n"
          ]
        }
      ]
    },
    {
      "cell_type": "code",
      "source": [
        "from pyspark.sql import SparkSession\n",
        "from pyspark.sql.functions import col, avg, max, sum, count\n",
        "\n",
        "# Initialize SparkSession\n",
        "spark = SparkSession.builder.appName(\"Exercise 12.2\").getOrCreate()\n",
        "\n",
        "# Load Parquet files\n",
        "ncitations_path = \"/tmp/ncitations.parquet\"\n",
        "patent_info_path = \"/tmp/patent_info.parquet\"\n",
        "\n",
        "ncitations_df = spark.read.parquet(ncitations_path)\n",
        "patent_info_df = spark.read.parquet(patent_info_path)\n",
        "\n",
        "# Inner join on PatentNum\n",
        "joined_df = patent_info_df.join(ncitations_df, on=\"PatentNum\", how=\"inner\")\n",
        "\n",
        "# Group by Country and Year, then aggregate\n",
        "aggregated_df = joined_df.groupBy(\"Country\", \"Year\").agg(\n",
        "    count(\"PatentNum\").alias(\"PatentsNum\"),       # Total number of patents\n",
        "    sum(\"ncitations\").alias(\"TotalCitations\"),   # Total citations\n",
        "    avg(\"ncitations\").alias(\"AvgCitations\"),     # Average citations\n",
        "    max(\"ncitations\").alias(\"MaxCitations\")      # Maximum citations\n",
        ")\n",
        "\n",
        "# Load country codes and join with aggregated data\n",
        "country_codes_path = \"/tmp/data/country_codes.txt\"\n",
        "country_codes_df = spark.read.csv(country_codes_path, sep=\"\\t\", header=False, inferSchema=True) \\\n",
        "    .toDF(\"Code\", \"Name\")  # Rename columns for clarity\n",
        "\n",
        "# Join on the country code\n",
        "final_df = aggregated_df.join(country_codes_df, aggregated_df[\"Country\"] == country_codes_df[\"Code\"]) \\\n",
        "    .select(col(\"Name\").alias(\"Country\"), \"Year\", \"PatentsNum\", \"TotalCitations\", \"AvgCitations\", \"MaxCitations\")\n",
        "\n",
        "    # Sort by Country and Decade\n",
        "final_df = final_df.orderBy(\"Country\", \"Year\")\n",
        "\n",
        "# Display the first 20 rows of the final DataFrame\n",
        "final_df.show(n=20, truncate=False)\n",
        "\n",
        "# Save final DataFrame as CSV\n",
        "output_path = \"/tmp/exercise_12_2.csv\"\n",
        "final_df.write.csv(output_path, mode=\"overwrite\", header=True)\n",
        "\n"
      ],
      "metadata": {
        "id": "CRdzk48dFM91",
        "outputId": "8e4852d0-d606-4426-f612-4299750a8d91",
        "colab": {
          "base_uri": "https://localhost:8080/"
        }
      },
      "execution_count": 63,
      "outputs": [
        {
          "output_type": "stream",
          "name": "stdout",
          "text": [
            "+-------------------+----+----------+--------------+-----------------+------------+\n",
            "|Country            |Year|PatentsNum|TotalCitations|AvgCitations     |MaxCitations|\n",
            "+-------------------+----+----------+--------------+-----------------+------------+\n",
            "|Algeria            |1963|2         |7             |3.5              |4           |\n",
            "|Algeria            |1968|1         |2             |2.0              |2           |\n",
            "|Algeria            |1970|1         |2             |2.0              |2           |\n",
            "|Algeria            |1972|1         |1             |1.0              |1           |\n",
            "|Algeria            |1977|1         |2             |2.0              |2           |\n",
            "|Andorra            |1987|1         |3             |3.0              |3           |\n",
            "|Andorra            |1993|1         |1             |1.0              |1           |\n",
            "|Andorra            |1998|1         |1             |1.0              |1           |\n",
            "|Antigua and Barbuda|1978|1         |6             |6.0              |6           |\n",
            "|Antigua and Barbuda|1979|1         |14            |14.0             |14          |\n",
            "|Antigua and Barbuda|1991|1         |8             |8.0              |8           |\n",
            "|Antigua and Barbuda|1994|1         |19            |19.0             |19          |\n",
            "|Antigua and Barbuda|1995|2         |12            |6.0              |11          |\n",
            "|Antigua and Barbuda|1996|2         |3             |1.5              |2           |\n",
            "|Argentina          |1963|14        |35            |2.5              |7           |\n",
            "|Argentina          |1964|20        |60            |3.0              |8           |\n",
            "|Argentina          |1965|10        |35            |3.5              |10          |\n",
            "|Argentina          |1966|16        |44            |2.75             |9           |\n",
            "|Argentina          |1967|13        |60            |4.615384615384615|14          |\n",
            "|Argentina          |1968|14        |80            |5.714285714285714|21          |\n",
            "+-------------------+----+----------+--------------+-----------------+------------+\n",
            "only showing top 20 rows\n",
            "\n"
          ]
        }
      ]
    },
    {
      "cell_type": "markdown",
      "metadata": {
        "id": "wT3WU-1IwOPD"
      },
      "source": [
        "## Exercise 12.3\n",
        "\n",
        "From the apat63_99.txt file, obtain the number of patents per country and year **using RDDs** (do not use DataFrames). The resulting RDD must be a key/value RDD in which the key is a country and the value a list of tuples. Each tuple will be composed of a year and the number of patents of the country during that year. In addition, the resulting RDD must be sorted by  the country code and, for each country, values must be sorted by year.\n",
        "\n",
        "Example of output key/value entry:\n",
        "\n",
        "    (u'PA', [(u'1963', 2), (u'1964', 2), (u'1965', 1), (u'1966', 1), (u'1970', 1), (u'1971', 1), (u'1972', 6), (u'1974', 3), (u'1975', 5), (u'1976', 3), (u'1977', 2), (u'1978', 2), (u'1980', 2), (u'1982', 1), (u'1983', 1), (u'1985', 2), (u'1986', 1), (u'1987', 2), (u'1988', 1), (u'1990', 1), (u'1991', 2), (u'1993', 1), (u'1995', 1), (u'1996', 1), (u'1999', 1)])\n",
        "\n",
        "**Requirements:**\n",
        "\n",
        "- You must remove the double quotation marks from the country code.\n",
        "- Use 8 partitions to read the apat63_99.txt.bz2 file.\n"
      ]
    },
    {
      "cell_type": "code",
      "source": [
        "from pyspark import SparkContext, SparkConf\n",
        "\n",
        "# Reuse existing SparkContext if available\n",
        "sc = SparkContext.getOrCreate()\n",
        "# Path to the compressed file\n",
        "file_path = \"/tmp/data/apat63_99.txt\"\n",
        "\n",
        "# Read the file with 8 partitions\n",
        "rdd = sc.textFile(file_path, minPartitions=8)\n",
        "\n",
        "# Process the RDD\n",
        "result_rdd = (\n",
        "    rdd.map(lambda line: line.split(\",\"))  # Split each line by commas\n",
        "       .map(lambda fields: (fields[4].replace('\"', ''), fields[1]))  # Extract country (field 4) and year (field 1), removing quotes\n",
        "       .filter(lambda x: x[0] and x[1])  # Filter out rows with empty country or year\n",
        "       .map(lambda x: ((x[0], x[1]), 1))  # Create key as (country, year) and set value to 1\n",
        "       .reduceByKey(lambda a, b: a + b)  # Aggregate counts for each (country, year)\n",
        "       .map(lambda x: (x[0][0], (x[0][1], x[1])))  # Reformat to (country, (year, count))\n",
        "       .groupByKey()  # Group by country\n",
        "       .mapValues(lambda years: sorted(list(years), key=lambda y: y[0]))  # Sort years for each country\n",
        "       .sortByKey()  # Sort by country code\n",
        ")\n",
        "\n",
        "# Collect and display the output\n",
        "output = result_rdd.collect()\n",
        "for entry in output:\n",
        "    print(entry)\n",
        "\n",
        "# Stop the SparkContext\n",
        "sc.stop()\n"
      ],
      "metadata": {
        "id": "9wasIul5RCj3",
        "outputId": "55ceea59-19fe-4db4-bee8-f1e5a0f04464",
        "colab": {
          "base_uri": "https://localhost:8080/"
        }
      },
      "execution_count": 31,
      "outputs": [
        {
          "output_type": "stream",
          "name": "stdout",
          "text": [
            "('AD', [('1987', 1), ('1993', 1), ('1995', 1), ('1998', 2), ('1999', 1)])\n",
            "('AE', [('1984', 2), ('1985', 2), ('1987', 1), ('1989', 2), ('1990', 1), ('1991', 2), ('1992', 1), ('1993', 1), ('1994', 1), ('1996', 1), ('1998', 1), ('1999', 3)])\n",
            "('AG', [('1978', 1), ('1979', 1), ('1991', 1), ('1994', 1), ('1995', 2), ('1996', 2), ('1999', 1)])\n",
            "('AI', [('1998', 1)])\n",
            "('AL', [('1999', 1)])\n",
            "('AM', [('1995', 1), ('1999', 1)])\n",
            "('AN', [('1979', 1), ('1980', 1), ('1989', 1), ('1991', 2), ('1995', 1), ('1997', 1), ('1998', 1)])\n",
            "('AR', [('1963', 19), ('1964', 27), ('1965', 18), ('1966', 20), ('1967', 16), ('1968', 18), ('1969', 17), ('1970', 23), ('1971', 22), ('1972', 29), ('1973', 28), ('1974', 24), ('1975', 24), ('1976', 24), ('1977', 20), ('1978', 21), ('1979', 24), ('1980', 18), ('1981', 25), ('1982', 18), ('1983', 21), ('1984', 20), ('1985', 11), ('1986', 17), ('1987', 18), ('1988', 16), ('1989', 20), ('1990', 17), ('1991', 16), ('1992', 20), ('1993', 24), ('1994', 32), ('1995', 31), ('1996', 30), ('1997', 35), ('1998', 43), ('1999', 44)])\n",
            "('AT', [('1963', 86), ('1964', 91), ('1965', 143), ('1966', 128), ('1967', 151), ('1968', 160), ('1969', 191), ('1970', 189), ('1971', 251), ('1972', 271), ('1973', 237), ('1974', 294), ('1975', 310), ('1976', 296), ('1977', 243), ('1978', 274), ('1979', 223), ('1980', 267), ('1981', 279), ('1982', 229), ('1983', 267), ('1984', 256), ('1985', 318), ('1986', 357), ('1987', 345), ('1988', 337), ('1989', 402), ('1990', 393), ('1991', 359), ('1992', 371), ('1993', 312), ('1994', 289), ('1995', 337), ('1996', 362), ('1997', 376), ('1998', 387), ('1999', 479)])\n",
            "('AU', [('1963', 69), ('1964', 81), ('1965', 110), ('1966', 111), ('1967', 151), ('1968', 119), ('1969', 155), ('1970', 144), ('1971', 201), ('1972', 183), ('1973', 202), ('1974', 234), ('1975', 248), ('1976', 261), ('1977', 243), ('1978', 281), ('1979', 211), ('1980', 265), ('1981', 318), ('1982', 266), ('1983', 237), ('1984', 292), ('1985', 340), ('1986', 374), ('1987', 389), ('1988', 416), ('1989', 501), ('1990', 432), ('1991', 463), ('1992', 409), ('1993', 378), ('1994', 467), ('1995', 459), ('1996', 471), ('1997', 478), ('1998', 720), ('1999', 707)])\n",
            "('AW', [('1996', 1), ('1997', 1)])\n",
            "('AZ', [('1996', 2), ('1999', 1)])\n",
            "('BB', [('1967', 1), ('1975', 2), ('1977', 2), ('1986', 1), ('1988', 1), ('1989', 1), ('1999', 1)])\n",
            "('BE', [('1963', 85), ('1964', 130), ('1965', 184), ('1966', 185), ('1967', 176), ('1968', 169), ('1969', 220), ('1970', 233), ('1971', 305), ('1972', 319), ('1973', 283), ('1974', 348), ('1975', 277), ('1976', 334), ('1977', 255), ('1978', 264), ('1979', 185), ('1980', 244), ('1981', 263), ('1982', 224), ('1983', 205), ('1984', 240), ('1985', 240), ('1986', 243), ('1987', 295), ('1988', 302), ('1989', 359), ('1990', 313), ('1991', 324), ('1992', 325), ('1993', 350), ('1994', 352), ('1995', 397), ('1996', 488), ('1997', 515), ('1998', 693), ('1999', 648)])\n",
            "('BG', [('1964', 1), ('1965', 1), ('1967', 5), ('1968', 1), ('1969', 7), ('1970', 9), ('1971', 11), ('1972', 10), ('1973', 16), ('1974', 13), ('1975', 24), ('1976', 19), ('1977', 33), ('1978', 32), ('1979', 14), ('1980', 23), ('1981', 27), ('1982', 13), ('1983', 19), ('1984', 22), ('1985', 21), ('1986', 21), ('1987', 32), ('1988', 23), ('1989', 16), ('1990', 27), ('1991', 10), ('1992', 5), ('1993', 5), ('1994', 4), ('1995', 1), ('1996', 1), ('1997', 5), ('1998', 1), ('1999', 2)])\n",
            "('BH', [('1984', 1), ('1997', 1), ('1999', 1)])\n",
            "('BM', [('1975', 1), ('1976', 2), ('1977', 1), ('1979', 1), ('1980', 1), ('1981', 2), ('1982', 1), ('1983', 1), ('1984', 2), ('1985', 1), ('1986', 4), ('1987', 4), ('1988', 4), ('1989', 6), ('1990', 1), ('1991', 1), ('1992', 1), ('1994', 1), ('1995', 1), ('1996', 1), ('1997', 1), ('1998', 2), ('1999', 1)])\n",
            "('BN', [('1986', 1)])\n",
            "('BO', [('1967', 1), ('1968', 1), ('1969', 2), ('1970', 8), ('1971', 6), ('1972', 6), ('1973', 5), ('1974', 5), ('1976', 1), ('1977', 1), ('1978', 1), ('1980', 1), ('1981', 1), ('1985', 1), ('1987', 3), ('1989', 1), ('1996', 1), ('1998', 1), ('1999', 1)])\n",
            "('BR', [('1963', 17), ('1964', 10), ('1965', 11), ('1966', 17), ('1967', 12), ('1968', 13), ('1969', 18), ('1970', 17), ('1971', 14), ('1972', 16), ('1973', 18), ('1974', 21), ('1975', 17), ('1976', 18), ('1977', 21), ('1978', 24), ('1979', 19), ('1980', 24), ('1981', 23), ('1982', 27), ('1983', 19), ('1984', 20), ('1985', 30), ('1986', 27), ('1987', 34), ('1988', 29), ('1989', 36), ('1990', 41), ('1991', 62), ('1992', 40), ('1993', 57), ('1994', 60), ('1995', 63), ('1996', 63), ('1997', 62), ('1998', 74), ('1999', 91)])\n",
            "('BS', [('1963', 3), ('1964', 6), ('1965', 1), ('1966', 1), ('1967', 3), ('1968', 3), ('1969', 8), ('1971', 9), ('1972', 3), ('1973', 5), ('1974', 8), ('1975', 4), ('1976', 5), ('1977', 4), ('1978', 8), ('1979', 4), ('1980', 6), ('1981', 8), ('1982', 2), ('1983', 4), ('1984', 5), ('1985', 5), ('1987', 2), ('1988', 3), ('1989', 5), ('1990', 2), ('1991', 5), ('1992', 2), ('1993', 2), ('1994', 2), ('1995', 4), ('1996', 2), ('1997', 10), ('1998', 10), ('1999', 10)])\n",
            "('BY', [('1994', 2), ('1995', 3), ('1996', 4), ('1997', 2), ('1998', 7), ('1999', 5)])\n",
            "('BZ', [('1976', 1)])\n",
            "('CA', [('1963', 606), ('1964', 648), ('1965', 853), ('1966', 938), ('1967', 992), ('1968', 898), ('1969', 993), ('1970', 1068), ('1971', 1328), ('1972', 1242), ('1973', 1347), ('1974', 1326), ('1975', 1296), ('1976', 1193), ('1977', 1218), ('1978', 1226), ('1979', 863), ('1980', 1081), ('1981', 1135), ('1982', 990), ('1983', 1000), ('1984', 1206), ('1985', 1342), ('1986', 1314), ('1987', 1594), ('1988', 1489), ('1989', 1959), ('1990', 1859), ('1991', 2037), ('1992', 1964), ('1993', 1944), ('1994', 2008), ('1995', 2104), ('1996', 2232), ('1997', 2379), ('1998', 2974), ('1999', 3226)])\n",
            "('CC', [('1989', 1)])\n",
            "('CD', [('1981', 1), ('1997', 1)])\n",
            "('CH', [('1963', 668), ('1964', 666), ('1965', 862), ('1966', 983), ('1967', 948), ('1968', 822), ('1969', 1058), ('1970', 1112), ('1971', 1281), ('1972', 1305), ('1973', 1326), ('1974', 1454), ('1975', 1456), ('1976', 1475), ('1977', 1347), ('1978', 1330), ('1979', 1025), ('1980', 1266), ('1981', 1239), ('1982', 1147), ('1983', 1016), ('1984', 1174), ('1985', 1233), ('1986', 1211), ('1987', 1374), ('1988', 1245), ('1989', 1363), ('1990', 1284), ('1991', 1335), ('1992', 1197), ('1993', 1127), ('1994', 1169), ('1995', 1056), ('1996', 1112), ('1997', 1090), ('1998', 1278), ('1999', 1279)])\n",
            "('CI', [('1973', 1), ('1977', 1), ('1982', 1), ('1987', 1)])\n",
            "('CK', [('1996', 1)])\n",
            "('CL', [('1963', 1), ('1964', 1), ('1965', 3), ('1966', 1), ('1967', 3), ('1968', 2), ('1969', 8), ('1970', 2), ('1971', 8), ('1972', 4), ('1973', 5), ('1974', 3), ('1975', 7), ('1976', 1), ('1977', 4), ('1978', 4), ('1979', 1), ('1980', 5), ('1981', 1), ('1982', 1), ('1983', 1), ('1984', 4), ('1985', 2), ('1986', 2), ('1987', 5), ('1988', 7), ('1989', 3), ('1990', 2), ('1991', 8), ('1992', 5), ('1993', 9), ('1994', 8), ('1995', 7), ('1996', 4), ('1997', 5), ('1998', 16), ('1999', 12)])\n",
            "('CM', [('1966', 1), ('1972', 1)])\n",
            "('CN', [('1963', 4), ('1964', 3), ('1965', 4), ('1966', 2), ('1967', 9), ('1968', 5), ('1969', 5), ('1970', 6), ('1971', 15), ('1972', 8), ('1973', 10), ('1974', 22), ('1975', 1), ('1976', 5), ('1977', 1), ('1979', 1), ('1980', 1), ('1981', 3), ('1983', 1), ('1984', 2), ('1985', 1), ('1986', 9), ('1987', 23), ('1988', 47), ('1989', 52), ('1990', 47), ('1991', 50), ('1992', 41), ('1993', 53), ('1994', 48), ('1995', 62), ('1996', 46), ('1997', 62), ('1998', 72), ('1999', 90)])\n",
            "('CO', [('1963', 2), ('1964', 3), ('1965', 5), ('1966', 8), ('1967', 4), ('1968', 2), ('1969', 5), ('1970', 6), ('1971', 7), ('1972', 8), ('1973', 6), ('1974', 5), ('1975', 3), ('1976', 4), ('1977', 2), ('1978', 7), ('1979', 3), ('1980', 1), ('1981', 4), ('1982', 4), ('1983', 5), ('1984', 4), ('1985', 4), ('1986', 5), ('1987', 3), ('1988', 5), ('1989', 3), ('1990', 5), ('1991', 4), ('1992', 6), ('1993', 6), ('1994', 4), ('1995', 3), ('1996', 6), ('1997', 10), ('1998', 4), ('1999', 6)])\n",
            "('COUNTRY', [('\"GYEAR\"', 1)])\n",
            "('CR', [('1963', 1), ('1965', 2), ('1967', 2), ('1969', 1), ('1971', 2), ('1974', 1), ('1975', 3), ('1976', 2), ('1977', 1), ('1978', 2), ('1979', 3), ('1980', 2), ('1981', 5), ('1982', 2), ('1985', 2), ('1987', 1), ('1988', 2), ('1989', 1), ('1990', 2), ('1991', 1), ('1992', 1), ('1993', 1), ('1994', 2), ('1995', 3), ('1996', 1), ('1997', 7), ('1998', 1), ('1999', 8)])\n",
            "('CS', [('1963', 44), ('1964', 34), ('1965', 52), ('1966', 38), ('1967', 96), ('1968', 96), ('1969', 132), ('1970', 118), ('1971', 153), ('1972', 110), ('1973', 94), ('1974', 112), ('1975', 117), ('1976', 111), ('1977', 93), ('1978', 91), ('1979', 50), ('1980', 55), ('1981', 41), ('1982', 50), ('1983', 38), ('1984', 33), ('1985', 54), ('1986', 35), ('1987', 46), ('1988', 33), ('1989', 34), ('1990', 39), ('1991', 27), ('1992', 17), ('1993', 13), ('1994', 19), ('1995', 15), ('1996', 8), ('1997', 9), ('1998', 9), ('1999', 5)])\n",
            "('CU', [('1963', 8), ('1964', 1), ('1965', 1), ('1970', 1), ('1971', 2), ('1972', 1), ('1974', 1), ('1977', 1), ('1978', 1), ('1979', 2), ('1980', 1), ('1981', 1), ('1984', 2), ('1985', 1), ('1986', 1), ('1987', 1), ('1989', 1), ('1993', 2), ('1994', 4), ('1997', 4), ('1998', 5), ('1999', 3)])\n",
            "('CY', [('1968', 1), ('1970', 1), ('1979', 1), ('1980', 1), ('1982', 1), ('1984', 1), ('1986', 2), ('1988', 1), ('1989', 2), ('1990', 3), ('1993', 1), ('1994', 3), ('1995', 3), ('1997', 2)])\n",
            "('CZ', [('1994', 1), ('1995', 1), ('1996', 5), ('1997', 14), ('1998', 13), ('1999', 24)])\n",
            "('DE', [('1963', 2338), ('1964', 2418), ('1965', 3338), ('1966', 3981), ('1967', 3766), ('1968', 3442), ('1969', 4524), ('1970', 4439), ('1971', 5525), ('1972', 5728), ('1973', 5588), ('1974', 6156), ('1975', 6057), ('1976', 6211), ('1977', 5563), ('1978', 5874), ('1979', 4545), ('1980', 5782), ('1981', 6304), ('1982', 5467), ('1983', 5478), ('1984', 6323), ('1985', 6718), ('1986', 6856), ('1987', 7884), ('1988', 7353), ('1989', 8352), ('1990', 7614), ('1991', 7680), ('1992', 7309), ('1993', 6893), ('1994', 6731), ('1995', 6600), ('1996', 6818), ('1997', 7008), ('1998', 9095), ('1999', 9337)])\n",
            "('DK', [('1963', 70), ('1964', 63), ('1965', 88), ('1966', 101), ('1967', 123), ('1968', 82), ('1969', 144), ('1970', 138), ('1971', 170), ('1972', 173), ('1973', 154), ('1974', 176), ('1975', 146), ('1976', 178), ('1977', 155), ('1978', 168), ('1979', 105), ('1980', 157), ('1981', 130), ('1982', 121), ('1983', 125), ('1984', 150), ('1985', 187), ('1986', 182), ('1987', 204), ('1988', 151), ('1989', 221), ('1990', 158), ('1991', 210), ('1992', 193), ('1993', 197), ('1994', 207), ('1995', 199), ('1996', 241), ('1997', 333), ('1998', 392), ('1999', 487)])\n",
            "('DO', [('1964', 2), ('1965', 1), ('1972', 1), ('1973', 2), ('1974', 1), ('1975', 1), ('1978', 1), ('1981', 1), ('1983', 1), ('1984', 2), ('1986', 1), ('1989', 2), ('1990', 1), ('1991', 2), ('1993', 1), ('1995', 1), ('1999', 2)])\n",
            "('DZ', [('1963', 3), ('1965', 2), ('1968', 1), ('1970', 1), ('1972', 1), ('1977', 1), ('1998', 1)])\n",
            "('EC', [('1963', 1), ('1967', 1), ('1969', 1), ('1973', 2), ('1974', 1), ('1975', 1), ('1976', 1), ('1979', 1), ('1980', 1), ('1981', 1), ('1985', 1), ('1986', 2), ('1987', 1), ('1989', 1), ('1990', 2), ('1991', 2), ('1992', 1), ('1993', 1), ('1994', 2), ('1998', 3), ('1999', 4)])\n",
            "('EE', [('1994', 1), ('1995', 1), ('1996', 1), ('1999', 1)])\n",
            "('EG', [('1964', 1), ('1965', 1), ('1966', 3), ('1967', 4), ('1968', 1), ('1971', 2), ('1972', 3), ('1973', 2), ('1974', 2), ('1975', 2), ('1976', 1), ('1980', 2), ('1981', 2), ('1982', 1), ('1984', 2), ('1985', 3), ('1986', 2), ('1987', 1), ('1989', 4), ('1990', 1), ('1991', 3), ('1992', 1), ('1993', 1), ('1994', 4), ('1995', 3), ('1996', 3), ('1997', 1), ('1999', 3)])\n",
            "('ES', [('1963', 26), ('1964', 19), ('1965', 49), ('1966', 50), ('1967', 46), ('1968', 48), ('1969', 59), ('1970', 57), ('1971', 74), ('1972', 60), ('1973', 87), ('1974', 89), ('1975', 93), ('1976', 102), ('1977', 96), ('1978', 92), ('1979', 49), ('1980', 65), ('1981', 58), ('1982', 49), ('1983', 50), ('1984', 69), ('1985', 78), ('1986', 97), ('1987', 115), ('1988', 126), ('1989', 131), ('1990', 130), ('1991', 153), ('1992', 133), ('1993', 158), ('1994', 141), ('1995', 148), ('1996', 157), ('1997', 177), ('1998', 248), ('1999', 222)])\n",
            "('ET', [('1970', 1)])\n",
            "('FI', [('1963', 18), ('1964', 9), ('1965', 22), ('1966', 27), ('1967', 34), ('1968', 31), ('1969', 43), ('1970', 46), ('1971', 59), ('1972', 69), ('1973', 88), ('1974', 109), ('1975', 98), ('1976', 109), ('1977', 105), ('1978', 125), ('1979', 77), ('1980', 121), ('1981', 140), ('1982', 125), ('1983', 116), ('1984', 167), ('1985', 200), ('1986', 210), ('1987', 275), ('1988', 232), ('1989', 230), ('1990', 304), ('1991', 331), ('1992', 361), ('1993', 293), ('1994', 312), ('1995', 358), ('1996', 444), ('1997', 452), ('1998', 595), ('1999', 649)])\n",
            "('FO', [('1993', 1)])\n",
            "('FR', [('1963', 853), ('1964', 1013), ('1965', 1372), ('1966', 1435), ('1967', 1558), ('1968', 1446), ('1969', 1809), ('1970', 1731), ('1971', 2214), ('1972', 2230), ('1973', 2144), ('1974', 2569), ('1975', 2367), ('1976', 2408), ('1977', 2108), ('1978', 2119), ('1979', 1604), ('1980', 2087), ('1981', 2181), ('1982', 1975), ('1983', 1895), ('1984', 2162), ('1985', 2400), ('1986', 2369), ('1987', 2874), ('1988', 2661), ('1989', 3140), ('1990', 2866), ('1991', 3030), ('1992', 3029), ('1993', 2909), ('1994', 2779), ('1995', 2821), ('1996', 2788), ('1997', 2958), ('1998', 3674), ('1999', 3820)])\n",
            "('GB', [('1963', 1813), ('1964', 1852), ('1965', 2558), ('1966', 2675), ('1967', 2800), ('1968', 2481), ('1969', 3181), ('1970', 2954), ('1971', 3465), ('1972', 3168), ('1973', 2855), ('1974', 3146), ('1975', 3042), ('1976', 2993), ('1977', 2653), ('1978', 2723), ('1979', 1909), ('1980', 2405), ('1981', 2473), ('1982', 2132), ('1983', 1930), ('1984', 2269), ('1985', 2494), ('1986', 2405), ('1987', 2775), ('1988', 2579), ('1989', 3094), ('1990', 2789), ('1991', 2800), ('1992', 2425), ('1993', 2295), ('1994', 2234), ('1995', 2478), ('1996', 2453), ('1997', 2678), ('1998', 3464), ('1999', 3572)])\n",
            "('GE', [('1995', 1), ('1997', 1), ('1999', 1)])\n",
            "('GF', [('1996', 1)])\n",
            "('GH', [('1977', 1), ('1994', 1), ('1999', 1)])\n",
            "('GL', [('1985', 1)])\n",
            "('GN', [('1974', 1)])\n",
            "('GP', [('1988', 1)])\n",
            "('GR', [('1963', 7), ('1964', 1), ('1965', 5), ('1966', 5), ('1967', 13), ('1968', 3), ('1969', 11), ('1970', 8), ('1971', 6), ('1972', 16), ('1973', 14), ('1974', 17), ('1975', 9), ('1976', 11), ('1977', 10), ('1978', 6), ('1979', 6), ('1980', 3), ('1981', 5), ('1982', 9), ('1983', 7), ('1984', 9), ('1985', 7), ('1986', 11), ('1987', 4), ('1988', 8), ('1989', 10), ('1990', 8), ('1991', 13), ('1992', 9), ('1993', 7), ('1994', 16), ('1995', 7), ('1996', 18), ('1997', 12), ('1998', 16), ('1999', 23)])\n",
            "('GT', [('1963', 2), ('1965', 1), ('1966', 5), ('1967', 5), ('1969', 4), ('1970', 2), ('1971', 3), ('1973', 7), ('1974', 4), ('1975', 1), ('1976', 1), ('1977', 4), ('1981', 1), ('1984', 2), ('1985', 1), ('1987', 2), ('1989', 1), ('1990', 2), ('1993', 1), ('1994', 2), ('1996', 2), ('1997', 2), ('1998', 2), ('1999', 1)])\n",
            "('GY', [('1976', 1), ('1977', 1), ('1991', 1), ('1992', 1)])\n",
            "('HK', [('1963', 6), ('1964', 5), ('1965', 6), ('1966', 8), ('1967', 12), ('1968', 7), ('1969', 7), ('1970', 8), ('1971', 20), ('1972', 7), ('1973', 15), ('1974', 9), ('1975', 10), ('1976', 21), ('1977', 9), ('1978', 21), ('1979', 14), ('1980', 27), ('1981', 33), ('1982', 18), ('1983', 14), ('1984', 24), ('1985', 25), ('1986', 31), ('1987', 34), ('1988', 41), ('1989', 48), ('1990', 52), ('1991', 50), ('1992', 60), ('1993', 60), ('1994', 57), ('1995', 86), ('1996', 88), ('1997', 81), ('1998', 160), ('1999', 155)])\n",
            "('HN', [('1966', 1), ('1968', 1), ('1969', 5), ('1970', 3), ('1971', 1), ('1972', 1), ('1973', 2), ('1978', 1), ('1989', 2), ('1990', 1), ('1992', 1), ('1995', 1), ('1996', 1), ('1998', 4), ('1999', 2)])\n",
            "('HR', [('1993', 2), ('1994', 1), ('1995', 6), ('1996', 4), ('1997', 10), ('1998', 13), ('1999', 16)])\n",
            "('HT', [('1966', 2), ('1967', 2), ('1968', 2), ('1969', 2), ('1970', 1), ('1971', 3), ('1974', 3), ('1976', 1), ('1979', 1), ('1980', 2), ('1981', 1), ('1982', 3), ('1985', 1), ('1987', 1), ('1989', 1), ('1997', 1), ('1999', 1)])\n",
            "('HU', [('1963', 13), ('1964', 20), ('1965', 20), ('1966', 31), ('1967', 23), ('1968', 21), ('1969', 22), ('1970', 37), ('1971', 38), ('1972', 48), ('1973', 46), ('1974', 62), ('1975', 51), ('1976', 75), ('1977', 80), ('1978', 66), ('1979', 63), ('1980', 87), ('1981', 98), ('1982', 112), ('1983', 106), ('1984', 111), ('1985', 108), ('1986', 131), ('1987', 127), ('1988', 94), ('1989', 129), ('1990', 93), ('1991', 85), ('1992', 88), ('1993', 61), ('1994', 46), ('1995', 50), ('1996', 43), ('1997', 25), ('1998', 50), ('1999', 39)])\n",
            "('ID', [('1966', 5), ('1967', 12), ('1968', 25), ('1970', 1), ('1971', 2), ('1972', 2), ('1973', 6), ('1974', 8), ('1976', 2), ('1978', 2), ('1979', 1), ('1980', 1), ('1981', 1), ('1982', 2), ('1984', 1), ('1985', 1), ('1986', 3), ('1988', 2), ('1989', 4), ('1990', 3), ('1991', 2), ('1992', 8), ('1993', 4), ('1994', 9), ('1995', 4), ('1996', 1), ('1997', 5), ('1998', 3), ('1999', 5)])\n",
            "('IE', [('1963', 2), ('1965', 5), ('1966', 9), ('1967', 8), ('1968', 10), ('1969', 13), ('1970', 12), ('1971', 29), ('1972', 18), ('1973', 28), ('1974', 17), ('1975', 15), ('1976', 20), ('1977', 17), ('1978', 21), ('1979', 10), ('1980', 17), ('1981', 17), ('1982', 24), ('1983', 18), ('1984', 29), ('1985', 30), ('1986', 28), ('1987', 38), ('1988', 43), ('1989', 65), ('1990', 54), ('1991', 56), ('1992', 55), ('1993', 53), ('1994', 50), ('1995', 50), ('1996', 78), ('1997', 73), ('1998', 74), ('1999', 94)])\n",
            "('IL', [('1963', 20), ('1964', 26), ('1965', 33), ('1966', 45), ('1967', 53), ('1968', 38), ('1969', 61), ('1970', 46), ('1971', 54), ('1972', 55), ('1973', 84), ('1974', 89), ('1975', 95), ('1976', 105), ('1977', 93), ('1978', 99), ('1979', 84), ('1980', 113), ('1981', 123), ('1982', 114), ('1983', 109), ('1984', 162), ('1985', 179), ('1986', 189), ('1987', 245), ('1988', 238), ('1989', 325), ('1990', 299), ('1991', 304), ('1992', 335), ('1993', 314), ('1994', 350), ('1995', 384), ('1996', 484), ('1997', 534), ('1998', 754), ('1999', 743)])\n",
            "('IN', [('1963', 4), ('1964', 7), ('1965', 8), ('1966', 5), ('1967', 10), ('1968', 15), ('1969', 18), ('1970', 16), ('1971', 10), ('1972', 19), ('1973', 21), ('1974', 17), ('1975', 13), ('1976', 17), ('1977', 13), ('1978', 14), ('1979', 14), ('1980', 4), ('1981', 6), ('1982', 4), ('1983', 14), ('1984', 12), ('1985', 10), ('1986', 18), ('1987', 12), ('1988', 14), ('1989', 14), ('1990', 23), ('1991', 22), ('1992', 24), ('1993', 30), ('1994', 27), ('1995', 37), ('1996', 35), ('1997', 47), ('1998', 85), ('1999', 112)])\n",
            "('IQ', [('1977', 1), ('1980', 1), ('1984', 1), ('1985', 1), ('1987', 1), ('1988', 2), ('1989', 2)])\n",
            "('IR', [('1963', 1), ('1964', 1), ('1965', 1), ('1966', 2), ('1967', 3), ('1968', 1), ('1969', 1), ('1970', 4), ('1971', 3), ('1972', 3), ('1973', 5), ('1974', 4), ('1975', 4), ('1976', 2), ('1977', 1), ('1978', 7), ('1979', 3), ('1980', 2), ('1981', 2), ('1987', 1), ('1988', 1), ('1989', 1), ('1990', 2), ('1991', 2), ('1992', 1), ('1993', 1), ('1994', 2), ('1995', 2), ('1997', 1), ('1999', 1)])\n",
            "('IS', [('1964', 2), ('1965', 3), ('1966', 2), ('1967', 1), ('1968', 4), ('1969', 1), ('1970', 7), ('1971', 9), ('1972', 7), ('1973', 2), ('1974', 3), ('1975', 2), ('1978', 2), ('1979', 2), ('1983', 2), ('1984', 2), ('1985', 3), ('1986', 3), ('1987', 4), ('1988', 3), ('1989', 5), ('1990', 3), ('1992', 6), ('1993', 5), ('1994', 4), ('1995', 4), ('1996', 4), ('1997', 3), ('1998', 7), ('1999', 11)])\n",
            "('IT', [('1963', 345), ('1964', 308), ('1965', 414), ('1966', 429), ('1967', 471), ('1968', 477), ('1969', 556), ('1970', 571), ('1971', 726), ('1972', 839), ('1973', 759), ('1974', 807), ('1975', 738), ('1976', 754), ('1977', 756), ('1978', 725), ('1979', 596), ('1980', 806), ('1981', 883), ('1982', 752), ('1983', 625), ('1984', 794), ('1985', 919), ('1986', 995), ('1987', 1183), ('1988', 1076), ('1989', 1297), ('1990', 1259), ('1991', 1209), ('1992', 1271), ('1993', 1285), ('1994', 1215), ('1995', 1078), ('1996', 1200), ('1997', 1239), ('1998', 1584), ('1999', 1492)])\n",
            "('JM', [('1963', 1), ('1967', 1), ('1968', 1), ('1970', 1), ('1972', 4), ('1973', 1), ('1974', 1), ('1975', 2), ('1976', 1), ('1977', 2), ('1978', 2), ('1980', 2), ('1984', 1), ('1985', 2), ('1987', 1), ('1990', 1), ('1991', 1), ('1992', 1), ('1995', 2), ('1996', 1), ('1998', 1), ('1999', 1)])\n",
            "('JO', [('1972', 1), ('1978', 1), ('1986', 1), ('1992', 1), ('1996', 1), ('1997', 4), ('1998', 2), ('1999', 1)])\n",
            "('JP', [('1963', 407), ('1964', 544), ('1965', 919), ('1966', 1122), ('1967', 1424), ('1968', 1464), ('1969', 2152), ('1970', 2625), ('1971', 4029), ('1972', 5151), ('1973', 4941), ('1974', 5894), ('1975', 6352), ('1976', 6542), ('1977', 6217), ('1978', 6912), ('1979', 5251), ('1980', 7124), ('1981', 8388), ('1982', 8149), ('1983', 8793), ('1984', 11110), ('1985', 12746), ('1986', 13209), ('1987', 16557), ('1988', 16158), ('1989', 20168), ('1990', 19525), ('1991', 21026), ('1992', 21925), ('1993', 22293), ('1994', 22384), ('1995', 21764), ('1996', 23053), ('1997', 23179), ('1998', 30840), ('1999', 31104)])\n",
            "('KE', [('1964', 3), ('1966', 2), ('1967', 1), ('1968', 2), ('1969', 1), ('1970', 4), ('1971', 1), ('1973', 1), ('1974', 4), ('1975', 1), ('1976', 1), ('1980', 1), ('1982', 1), ('1991', 1), ('1993', 2), ('1994', 1), ('1996', 2), ('1997', 1), ('1999', 2)])\n",
            "('KG', [('1996', 1)])\n",
            "('KN', [('1996', 1), ('1998', 2)])\n",
            "('KP', [('1994', 1)])\n",
            "('KR', [('1964', 3), ('1965', 2), ('1966', 2), ('1968', 2), ('1970', 3), ('1971', 2), ('1972', 7), ('1973', 5), ('1974', 7), ('1975', 13), ('1976', 7), ('1977', 6), ('1978', 13), ('1979', 5), ('1980', 8), ('1981', 17), ('1982', 14), ('1983', 26), ('1984', 30), ('1985', 41), ('1986', 46), ('1987', 84), ('1988', 97), ('1989', 159), ('1990', 225), ('1991', 405), ('1992', 538), ('1993', 779), ('1994', 943), ('1995', 1161), ('1996', 1493), ('1997', 1891), ('1998', 3259), ('1999', 3562)])\n",
            "('KW', [('1969', 1), ('1974', 1), ('1986', 3), ('1987', 6), ('1988', 1), ('1989', 4), ('1990', 2), ('1991', 1), ('1992', 1), ('1993', 2), ('1994', 1), ('1995', 1), ('1996', 2), ('1997', 2), ('1998', 1), ('1999', 10)])\n",
            "('KY', [('1976', 2), ('1977', 1), ('1979', 1), ('1982', 2), ('1983', 1), ('1985', 1), ('1988', 1), ('1990', 1), ('1991', 1), ('1992', 4), ('1993', 1), ('1995', 1), ('1996', 3), ('1997', 6), ('1998', 6), ('1999', 1)])\n",
            "('KZ', [('1994', 1), ('1997', 1), ('1998', 1), ('1999', 1)])\n",
            "('LB', [('1963', 4), ('1966', 1), ('1968', 3), ('1969', 2), ('1970', 1), ('1971', 4), ('1972', 1), ('1973', 1), ('1974', 3), ('1975', 4), ('1978', 3), ('1981', 1), ('1982', 1), ('1983', 1), ('1985', 5), ('1986', 1), ('1989', 1), ('1992', 1), ('1993', 1), ('1994', 1), ('1995', 1), ('1997', 1), ('1998', 3), ('1999', 2)])\n",
            "('LC', [('1971', 1)])\n",
            "('LI', [('1963', 5), ('1964', 10), ('1965', 14), ('1966', 12), ('1967', 13), ('1968', 15), ('1969', 14), ('1970', 23), ('1971', 28), ('1972', 10), ('1973', 14), ('1974', 15), ('1975', 13), ('1976', 21), ('1977', 11), ('1978', 10), ('1979', 8), ('1980', 18), ('1981', 20), ('1982', 19), ('1983', 12), ('1984', 16), ('1985', 13), ('1986', 17), ('1987', 16), ('1988', 10), ('1989', 11), ('1990', 15), ('1991', 11), ('1992', 16), ('1993', 11), ('1994', 17), ('1995', 17), ('1996', 12), ('1997', 11), ('1998', 16), ('1999', 15)])\n",
            "('LK', [('1963', 1), ('1969', 1), ('1973', 1), ('1977', 2), ('1988', 1), ('1989', 1), ('1991', 2), ('1992', 2), ('1993', 1), ('1995', 1), ('1996', 1), ('1997', 1), ('1998', 1)])\n",
            "('LR', [('1968', 1), ('1981', 1), ('1983', 1)])\n",
            "('LT', [('1995', 1), ('1997', 2), ('1998', 3), ('1999', 1)])\n",
            "('LU', [('1963', 5), ('1964', 4), ('1965', 3), ('1966', 6), ('1967', 7), ('1968', 7), ('1969', 2), ('1970', 1), ('1971', 6), ('1972', 8), ('1973', 6), ('1974', 19), ('1975', 16), ('1976', 15), ('1977', 16), ('1978', 16), ('1979', 21), ('1980', 13), ('1981', 27), ('1982', 26), ('1983', 27), ('1984', 24), ('1985', 37), ('1986', 31), ('1987', 22), ('1988', 29), ('1989', 29), ('1990', 17), ('1991', 27), ('1992', 26), ('1993', 28), ('1994', 22), ('1995', 24), ('1996', 18), ('1997', 22), ('1998', 20), ('1999', 22)])\n",
            "('LV', [('1998', 1), ('1999', 3)])\n",
            "('LY', [('1963', 1), ('1965', 1), ('1972', 1), ('1974', 1)])\n",
            "('MA', [('1963', 3), ('1964', 3), ('1965', 6), ('1966', 6), ('1967', 3), ('1968', 4), ('1969', 1), ('1970', 2), ('1972', 3), ('1973', 3), ('1977', 5), ('1978', 1), ('1983', 1), ('1984', 2), ('1985', 2), ('1988', 2), ('1989', 2), ('1991', 1), ('1993', 1), ('1995', 2), ('1996', 1), ('1998', 1), ('1999', 2)])\n",
            "('MC', [('1963', 1), ('1964', 2), ('1965', 2), ('1966', 6), ('1967', 3), ('1968', 4), ('1969', 4), ('1970', 2), ('1971', 4), ('1972', 2), ('1973', 1), ('1974', 8), ('1975', 4), ('1976', 5), ('1977', 8), ('1978', 8), ('1979', 2), ('1980', 8), ('1981', 5), ('1982', 4), ('1983', 2), ('1984', 5), ('1985', 9), ('1986', 3), ('1987', 3), ('1988', 4), ('1989', 7), ('1990', 6), ('1991', 6), ('1992', 4), ('1993', 5), ('1994', 6), ('1995', 2), ('1996', 4), ('1997', 5), ('1998', 7), ('1999', 13)])\n",
            "('MG', [('1978', 1), ('1999', 1)])\n",
            "('MH', [('1999', 1)])\n",
            "('ML', [('1965', 19), ('1966', 5), ('1974', 1)])\n",
            "('MM', [('1975', 1), ('1978', 1), ('1979', 1), ('1998', 1)])\n",
            "('MO', [('1995', 1), ('1996', 1)])\n",
            "('MQ', [('1965', 1), ('1977', 1)])\n",
            "('MR', [('1966', 1), ('1970', 1), ('1975', 1)])\n",
            "('MT', [('1988', 1), ('1989', 1), ('1992', 1), ('1993', 1), ('1994', 1), ('1995', 1), ('1997', 1), ('1998', 1)])\n",
            "('MU', [('1985', 1), ('1988', 1), ('1992', 1), ('1993', 1), ('1995', 1), ('1999', 1)])\n",
            "('MW', [('1975', 1), ('1976', 1), ('1981', 1)])\n",
            "('MX', [('1963', 92), ('1964', 73), ('1965', 87), ('1966', 99), ('1967', 43), ('1968', 41), ('1969', 67), ('1970', 43), ('1971', 64), ('1972', 43), ('1973', 42), ('1974', 51), ('1975', 67), ('1976', 78), ('1977', 42), ('1978', 24), ('1979', 36), ('1980', 41), ('1981', 43), ('1982', 35), ('1983', 32), ('1984', 42), ('1985', 32), ('1986', 37), ('1987', 49), ('1988', 44), ('1989', 39), ('1990', 32), ('1991', 29), ('1992', 39), ('1993', 45), ('1994', 44), ('1995', 40), ('1996', 39), ('1997', 45), ('1998', 57), ('1999', 76)])\n",
            "('MY', [('1963', 1), ('1965', 2), ('1966', 2), ('1970', 1), ('1974', 1), ('1975', 3), ('1976', 3), ('1977', 3), ('1978', 1), ('1979', 2), ('1981', 1), ('1982', 1), ('1983', 2), ('1984', 2), ('1985', 3), ('1986', 4), ('1987', 2), ('1988', 2), ('1989', 2), ('1990', 3), ('1991', 12), ('1992', 5), ('1993', 13), ('1994', 10), ('1995', 7), ('1996', 12), ('1997', 17), ('1998', 23), ('1999', 30)])\n",
            "('NC', [('1980', 1)])\n",
            "('NF', [('1986', 4), ('1987', 1), ('1999', 1)])\n",
            "('NG', [('1967', 2), ('1968', 2), ('1969', 1), ('1970', 1), ('1971', 4), ('1974', 1), ('1975', 1), ('1976', 1), ('1977', 1), ('1978', 3), ('1980', 2), ('1981', 2), ('1985', 1), ('1991', 1), ('1992', 2), ('1994', 1), ('1997', 2), ('1998', 2)])\n",
            "('NI', [('1966', 2), ('1967', 4), ('1968', 2), ('1969', 2), ('1970', 1), ('1971', 2), ('1972', 2), ('1973', 2), ('1978', 1), ('1993', 1), ('1999', 1)])\n",
            "('NL', [('1963', 329), ('1964', 356), ('1965', 519), ('1966', 481), ('1967', 507), ('1968', 476), ('1969', 559), ('1970', 544), ('1971', 695), ('1972', 673), ('1973', 686), ('1974', 731), ('1975', 617), ('1976', 744), ('1977', 708), ('1978', 659), ('1979', 525), ('1980', 654), ('1981', 641), ('1982', 619), ('1983', 626), ('1984', 726), ('1985', 766), ('1986', 722), ('1987', 922), ('1988', 806), ('1989', 1060), ('1990', 960), ('1991', 992), ('1992', 855), ('1993', 800), ('1994', 852), ('1995', 799), ('1996', 797), ('1997', 808), ('1998', 1226), ('1999', 1247)])\n",
            "('NO', [('1963', 33), ('1964', 43), ('1965', 52), ('1966', 59), ('1967', 49), ('1968', 49), ('1969', 69), ('1970', 68), ('1971', 77), ('1972', 88), ('1973', 84), ('1974', 91), ('1975', 103), ('1976', 103), ('1977', 106), ('1978', 89), ('1979', 80), ('1980', 79), ('1981', 93), ('1982', 65), ('1983', 66), ('1984', 87), ('1985', 90), ('1986', 81), ('1987', 135), ('1988', 121), ('1989', 126), ('1990', 112), ('1991', 111), ('1992', 108), ('1993', 117), ('1994', 126), ('1995', 130), ('1996', 139), ('1997', 142), ('1998', 198), ('1999', 224)])\n",
            "('NZ', [('1963', 12), ('1964', 12), ('1965', 17), ('1966', 10), ('1967', 15), ('1968', 13), ('1969', 16), ('1970', 14), ('1971', 17), ('1972', 26), ('1973', 25), ('1974', 20), ('1975', 28), ('1976', 33), ('1977', 32), ('1978', 41), ('1979', 23), ('1980', 51), ('1981', 47), ('1982', 44), ('1983', 38), ('1984', 50), ('1985', 33), ('1986', 52), ('1987', 68), ('1988', 55), ('1989', 58), ('1990', 51), ('1991', 41), ('1992', 44), ('1993', 39), ('1994', 37), ('1995', 44), ('1996', 52), ('1997', 85), ('1998', 114), ('1999', 114)])\n",
            "('OM', [('1993', 1)])\n",
            "('PA', [('1963', 2), ('1964', 2), ('1965', 1), ('1966', 1), ('1970', 1), ('1971', 1), ('1972', 6), ('1974', 3), ('1975', 5), ('1976', 3), ('1977', 2), ('1978', 2), ('1980', 2), ('1982', 1), ('1983', 1), ('1985', 2), ('1986', 1), ('1987', 2), ('1988', 1), ('1990', 1), ('1991', 2), ('1993', 1), ('1995', 1), ('1996', 1), ('1999', 1)])\n",
            "('PE', [('1963', 1), ('1964', 5), ('1965', 5), ('1966', 2), ('1967', 5), ('1968', 5), ('1969', 5), ('1970', 6), ('1971', 3), ('1972', 4), ('1973', 3), ('1974', 1), ('1975', 4), ('1976', 5), ('1977', 3), ('1979', 3), ('1981', 3), ('1982', 2), ('1983', 1), ('1984', 1), ('1987', 1), ('1988', 1), ('1989', 4), ('1990', 5), ('1991', 2), ('1992', 5), ('1993', 2), ('1994', 1), ('1995', 3), ('1996', 3), ('1997', 1), ('1998', 5), ('1999', 3)])\n",
            "('PF', [('1979', 2), ('1991', 1)])\n",
            "('PG', [('1977', 1), ('1980', 1)])\n",
            "('PH', [('1963', 7), ('1964', 5), ('1965', 2), ('1966', 4), ('1967', 1), ('1968', 2), ('1969', 4), ('1970', 2), ('1971', 5), ('1972', 11), ('1973', 13), ('1974', 6), ('1975', 7), ('1976', 9), ('1977', 8), ('1978', 8), ('1979', 5), ('1980', 2), ('1981', 7), ('1982', 7), ('1983', 5), ('1984', 1), ('1985', 5), ('1986', 1), ('1987', 5), ('1988', 4), ('1989', 7), ('1990', 4), ('1991', 5), ('1992', 7), ('1993', 4), ('1994', 1), ('1995', 4), ('1996', 4), ('1997', 4), ('1998', 8), ('1999', 11)])\n",
            "('PK', [('1963', 2), ('1965', 1), ('1966', 2), ('1967', 2), ('1969', 1), ('1970', 1), ('1974', 1), ('1982', 1), ('1984', 1), ('1985', 1), ('1986', 1), ('1987', 1), ('1992', 1), ('1993', 1), ('1994', 1), ('1995', 1), ('1996', 1), ('1998', 2)])\n",
            "('PL', [('1963', 3), ('1964', 1), ('1965', 9), ('1966', 10), ('1967', 12), ('1968', 25), ('1969', 31), ('1970', 33), ('1971', 31), ('1972', 21), ('1973', 25), ('1974', 27), ('1975', 36), ('1976', 26), ('1977', 24), ('1978', 33), ('1979', 29), ('1980', 37), ('1981', 38), ('1982', 26), ('1983', 20), ('1984', 15), ('1985', 11), ('1986', 14), ('1987', 13), ('1988', 8), ('1989', 14), ('1990', 17), ('1991', 8), ('1992', 5), ('1993', 8), ('1994', 8), ('1995', 8), ('1996', 15), ('1997', 11), ('1998', 15), ('1999', 19)])\n",
            "('PT', [('1963', 3), ('1964', 2), ('1965', 2), ('1966', 4), ('1967', 1), ('1968', 7), ('1969', 6), ('1970', 3), ('1971', 7), ('1972', 7), ('1973', 2), ('1974', 6), ('1975', 7), ('1976', 2), ('1977', 4), ('1978', 4), ('1980', 1), ('1981', 4), ('1982', 6), ('1983', 5), ('1984', 1), ('1985', 4), ('1986', 2), ('1987', 5), ('1988', 5), ('1989', 11), ('1990', 7), ('1991', 8), ('1992', 1), ('1993', 2), ('1994', 6), ('1995', 3), ('1996', 3), ('1997', 8), ('1998', 11), ('1999', 5)])\n",
            "('PY', [('1972', 1), ('1973', 1), ('1979', 1), ('1982', 1), ('1983', 1), ('1989', 1), ('1990', 1), ('1999', 1)])\n",
            "('RO', [('1963', 2), ('1964', 2), ('1965', 2), ('1966', 4), ('1967', 6), ('1968', 21), ('1969', 21), ('1970', 37), ('1971', 35), ('1972', 33), ('1973', 25), ('1974', 35), ('1975', 17), ('1976', 15), ('1977', 18), ('1978', 11), ('1979', 10), ('1980', 14), ('1981', 10), ('1982', 5), ('1983', 2), ('1984', 5), ('1985', 3), ('1986', 2), ('1987', 5), ('1988', 1), ('1990', 1), ('1991', 1), ('1993', 2), ('1994', 1), ('1995', 3), ('1996', 4), ('1997', 1), ('1998', 3), ('1999', 4)])\n",
            "('RU', [('1993', 3), ('1994', 38), ('1995', 98), ('1996', 116), ('1997', 111), ('1998', 189), ('1999', 181)])\n",
            "('SA', [('1964', 1), ('1966', 1), ('1968', 1), ('1970', 3), ('1971', 1), ('1972', 2), ('1973', 1), ('1976', 3), ('1977', 1), ('1980', 2), ('1981', 1), ('1983', 5), ('1984', 4), ('1985', 4), ('1986', 7), ('1987', 6), ('1988', 2), ('1989', 7), ('1990', 7), ('1991', 5), ('1992', 8), ('1993', 3), ('1994', 11), ('1995', 10), ('1996', 12), ('1997', 14), ('1998', 14), ('1999', 12)])\n",
            "('SD', [('1968', 2), ('1970', 2), ('1971', 1), ('1972', 1), ('1974', 1)])\n",
            "('SE', [('1963', 386), ('1964', 369), ('1965', 562), ('1966', 536), ('1967', 574), ('1968', 569), ('1969', 675), ('1970', 628), ('1971', 842), ('1972', 777), ('1973', 762), ('1974', 925), ('1975', 914), ('1976', 1002), ('1977', 862), ('1978', 826), ('1979', 573), ('1980', 822), ('1981', 766), ('1982', 685), ('1983', 623), ('1984', 701), ('1985', 857), ('1986', 883), ('1987', 948), ('1988', 777), ('1989', 837), ('1990', 768), ('1991', 716), ('1992', 626), ('1993', 636), ('1994', 706), ('1995', 806), ('1996', 854), ('1997', 867), ('1998', 1225), ('1999', 1401)])\n",
            "('SG', [('1967', 1), ('1968', 1), ('1969', 2), ('1971', 4), ('1972', 4), ('1973', 7), ('1974', 6), ('1975', 1), ('1976', 3), ('1977', 3), ('1978', 2), ('1980', 3), ('1981', 4), ('1982', 3), ('1983', 5), ('1984', 4), ('1985', 9), ('1986', 3), ('1987', 11), ('1988', 6), ('1989', 18), ('1990', 12), ('1991', 15), ('1992', 32), ('1993', 38), ('1994', 51), ('1995', 53), ('1996', 88), ('1997', 94), ('1998', 120), ('1999', 144)])\n",
            "('SI', [('1993', 3), ('1994', 6), ('1995', 4), ('1996', 10), ('1997', 7), ('1998', 18), ('1999', 10)])\n",
            "('SK', [('1996', 1), ('1997', 3), ('1998', 2), ('1999', 5)])\n",
            "('SM', [('1994', 1), ('1999', 1)])\n",
            "('SN', [('1963', 1), ('1966', 1), ('1979', 1), ('1983', 1), ('1984', 1), ('1992', 1)])\n",
            "('SR', [('1999', 2)])\n",
            "('SU', [('1963', 15), ('1964', 13), ('1965', 28), ('1966', 66), ('1967', 115), ('1968', 97), ('1969', 160), ('1970', 220), ('1971', 336), ('1972', 359), ('1973', 384), ('1974', 496), ('1975', 421), ('1976', 426), ('1977', 394), ('1978', 412), ('1979', 354), ('1980', 460), ('1981', 373), ('1982', 209), ('1983', 222), ('1984', 214), ('1985', 147), ('1986', 116), ('1987', 121), ('1988', 96), ('1989', 161), ('1990', 174), ('1991', 178), ('1992', 66), ('1993', 65), ('1994', 53), ('1995', 12), ('1996', 16), ('1997', 4), ('1998', 6), ('1999', 3)])\n",
            "('SV', [('1963', 1), ('1965', 1), ('1966', 1), ('1967', 4), ('1968', 2), ('1969', 3), ('1970', 1), ('1971', 1), ('1974', 1), ('1975', 2), ('1976', 2), ('1977', 2), ('1978', 3), ('1983', 1), ('1988', 2), ('1995', 1), ('1997', 1), ('1998', 1)])\n",
            "('SY', [('1972', 1), ('1975', 1), ('1985', 1), ('1986', 1), ('1987', 1), ('1992', 2), ('1999', 1)])\n",
            "('SZ', [('1978', 1)])\n",
            "('TC', [('1996', 1), ('1998', 1)])\n",
            "('TD', [('1977', 1)])\n",
            "('TH', [('1971', 1), ('1972', 1), ('1974', 2), ('1975', 1), ('1977', 1), ('1979', 1), ('1980', 2), ('1981', 2), ('1983', 2), ('1984', 1), ('1985', 1), ('1986', 3), ('1987', 1), ('1988', 2), ('1989', 4), ('1990', 2), ('1991', 2), ('1992', 1), ('1993', 5), ('1994', 5), ('1995', 8), ('1996', 11), ('1997', 5), ('1998', 13), ('1999', 20)])\n",
            "('TN', [('1963', 1), ('1965', 1), ('1967', 1), ('1972', 1), ('1973', 1), ('1977', 1), ('1979', 1), ('1980', 2), ('1981', 1), ('1982', 1), ('1984', 1), ('1985', 1), ('1991', 1), ('1993', 1), ('1997', 1)])\n",
            "('TR', [('1964', 2), ('1966', 2), ('1967', 4), ('1968', 3), ('1969', 1), ('1971', 3), ('1972', 3), ('1973', 5), ('1974', 1), ('1975', 1), ('1977', 1), ('1978', 1), ('1979', 3), ('1980', 1), ('1981', 2), ('1984', 2), ('1985', 1), ('1986', 10), ('1987', 3), ('1988', 2), ('1989', 3), ('1990', 2), ('1991', 1), ('1992', 4), ('1994', 2), ('1995', 2), ('1996', 3), ('1997', 5), ('1998', 2), ('1999', 4)])\n",
            "('TT', [('1963', 2), ('1964', 2), ('1965', 1), ('1966', 2), ('1968', 1), ('1969', 1), ('1970', 2), ('1971', 3), ('1972', 3), ('1973', 4), ('1974', 1), ('1975', 1), ('1976', 3), ('1977', 5), ('1978', 4), ('1979', 3), ('1981', 2), ('1987', 2), ('1988', 3), ('1989', 1), ('1991', 1), ('1992', 2), ('1994', 4), ('1997', 1), ('1998', 1), ('1999', 1)])\n",
            "('TW', [('1973', 1), ('1975', 23), ('1976', 28), ('1977', 52), ('1978', 29), ('1979', 38), ('1980', 65), ('1981', 80), ('1982', 88), ('1983', 65), ('1984', 99), ('1985', 174), ('1986', 208), ('1987', 343), ('1988', 457), ('1989', 591), ('1990', 732), ('1991', 906), ('1992', 1001), ('1993', 1189), ('1994', 1443), ('1995', 1620), ('1996', 1897), ('1997', 2057), ('1998', 3100), ('1999', 3693)])\n",
            "('TZ', [('1968', 1), ('1969', 3), ('1971', 3), ('1972', 1), ('1983', 1), ('1992', 1)])\n",
            "('UA', [('1994', 9), ('1995', 8), ('1996', 15), ('1997', 8), ('1998', 17), ('1999', 20)])\n",
            "('UG', [('1966', 1), ('1968', 1), ('1975', 1), ('1993', 2), ('1994', 1)])\n",
            "('US', [('1963', 37174), ('1964', 38410), ('1965', 50331), ('1966', 54634), ('1967', 51274), ('1968', 45781), ('1969', 50394), ('1970', 47073), ('1971', 55976), ('1972', 51518), ('1973', 51501), ('1974', 50646), ('1975', 46715), ('1976', 44280), ('1977', 41490), ('1978', 41254), ('1979', 30078), ('1980', 37354), ('1981', 39223), ('1982', 33896), ('1983', 32871), ('1984', 38367), ('1985', 39556), ('1986', 38126), ('1987', 43520), ('1988', 40496), ('1989', 50186), ('1990', 47390), ('1991', 51178), ('1992', 52253), ('1993', 53231), ('1994', 56066), ('1995', 55739), ('1996', 61104), ('1997', 61707), ('1998', 80291), ('1999', 83906)])\n",
            "('UY', [('1963', 3), ('1964', 3), ('1965', 3), ('1966', 2), ('1967', 1), ('1968', 1), ('1970', 1), ('1971', 2), ('1973', 2), ('1974', 1), ('1975', 1), ('1976', 2), ('1983', 1), ('1984', 1), ('1987', 1), ('1988', 1), ('1989', 2), ('1990', 3), ('1992', 2), ('1995', 2), ('1996', 2), ('1997', 4), ('1998', 3), ('1999', 2)])\n",
            "('UZ', [('1994', 1), ('1995', 1), ('1996', 1), ('1998', 1), ('1999', 1)])\n",
            "('VC', [('1994', 1)])\n",
            "('VE', [('1963', 9), ('1964', 12), ('1965', 11), ('1966', 7), ('1967', 5), ('1968', 13), ('1969', 6), ('1970', 3), ('1971', 13), ('1972', 7), ('1973', 6), ('1974', 7), ('1978', 2), ('1979', 11), ('1980', 11), ('1981', 12), ('1982', 10), ('1983', 5), ('1984', 11), ('1985', 15), ('1986', 21), ('1987', 24), ('1988', 20), ('1989', 23), ('1990', 20), ('1991', 25), ('1992', 22), ('1993', 31), ('1994', 23), ('1995', 29), ('1996', 25), ('1997', 25), ('1998', 27), ('1999', 39)])\n",
            "('VG', [('1984', 1), ('1986', 1), ('1993', 1), ('1994', 1), ('1997', 1), ('1998', 2), ('1999', 1)])\n",
            "('VN', [('1969', 1), ('1971', 1), ('1972', 2), ('1973', 1), ('1974', 2), ('1975', 1), ('1976', 1), ('1999', 2)])\n",
            "('VU', [('1981', 1)])\n",
            "('YE', [('1980', 1), ('1994', 1)])\n",
            "('YU', [('1963', 2), ('1964', 4), ('1965', 3), ('1966', 4), ('1967', 4), ('1968', 4), ('1969', 3), ('1970', 6), ('1971', 9), ('1972', 6), ('1973', 5), ('1974', 11), ('1975', 5), ('1976', 9), ('1977', 6), ('1978', 9), ('1979', 6), ('1980', 15), ('1981', 8), ('1982', 10), ('1983', 9), ('1984', 15), ('1985', 16), ('1986', 3), ('1987', 13), ('1988', 16), ('1989', 15), ('1990', 22), ('1991', 22), ('1992', 17), ('1993', 20), ('1994', 15), ('1995', 5), ('1996', 5), ('1997', 5), ('1998', 2), ('1999', 2)])\n",
            "('ZA', [('1963', 30), ('1964', 37), ('1965', 69), ('1966', 48), ('1967', 52), ('1968', 35), ('1969', 65), ('1970', 50), ('1971', 71), ('1972', 54), ('1973', 86), ('1974', 86), ('1975', 74), ('1976', 83), ('1977', 68), ('1978', 81), ('1979', 64), ('1980', 74), ('1981', 111), ('1982', 73), ('1983', 60), ('1984', 82), ('1985', 96), ('1986', 88), ('1987', 107), ('1988', 103), ('1989', 134), ('1990', 114), ('1991', 105), ('1992', 97), ('1993', 93), ('1994', 101), ('1995', 123), ('1996', 111), ('1997', 101), ('1998', 115), ('1999', 110)])\n",
            "('ZM', [('1965', 3), ('1966', 1), ('1967', 1), ('1970', 2), ('1971', 1), ('1972', 2), ('1973', 1)])\n",
            "('ZW', [('1963', 5), ('1964', 3), ('1965', 1), ('1966', 2), ('1967', 2), ('1969', 3), ('1971', 5), ('1972', 1), ('1974', 3), ('1976', 2), ('1977', 3), ('1978', 1), ('1980', 2), ('1983', 2), ('1986', 1), ('1988', 3), ('1989', 2), ('1991', 1), ('1993', 1), ('1994', 3), ('1995', 1), ('1996', 1)])\n"
          ]
        }
      ]
    },
    {
      "cell_type": "markdown",
      "metadata": {
        "id": "g0LiWoc4VQdh"
      },
      "source": [
        "## Exercise 12.4\n",
        "\n",
        "From the Parquet files created in Exercise 12.1, create a DataFrame that gives the patent or patents with the higher number of citations per country and year, as well as the average of the number of citations per country and year, and the difference between the maximum and the average values. The resulting DataFrame should look like this:\n",
        "\n",
        "\n",
        "|Country|Year|PatentNum|max  |average       |diff              |\n",
        "|-------|----|---------|-----|--------------|------------------|\n",
        "|AD     |1987|4688621  |3    |3.0           |0.0               |\n",
        "|AD     |1993|5193231  |1    |1.0           |0.0               |\n",
        "|AD     |1998|5765303  |1    |1.0           |0.0               |\n",
        "|AE     |1984|4482959  |5    |5.0           |0.0               |\n",
        "|AE     |1985|4554981  |14   |14.0          |0.0               |\n",
        "|AE     |1987|4663181  |3    |3.0           |0.0               |\n",
        "|AE     |1989|4805221  |7    |5.0           |2.0               |\n",
        "|AE     |1990|4909321  |2    |2.0           |0.0               |\n",
        "|AE     |1991|5004552  |3    |2.0           |1.0               |\n",
        "|AE     |1992|5104556  |4    |4.0           |0.0               |\n",
        "|AE     |1993|5181569  |8    |8.0           |0.0               |\n",
        "|AE     |1996|5580125  |1    |1.0           |0.0               |\n",
        "|AG     |1978|4126850  |6    |6.0           |0.0               |\n",
        "|AG     |1979|4172981  |14   |14.0          |0.0               |\n",
        "|AG     |1991|5013035  |8    |8.0           |0.0               |\n",
        "|AG     |1994|5345071  |19   |19.0          |0.0               |\n",
        "|AG     |1995|5457307  |11   |6.0           |5.0               |\n",
        "|AG     |1996|5525786  |2    |1.5           |0.5               |\n",
        "\n",
        "**Requirements:**\n",
        "\n",
        "- The DataFrame must be sorted by country code and year.\n",
        "- Do **NOT** replace the country code by its whole name.\n",
        "- The output must be saved as a single CSV file, with a header and without any compression.\n"
      ]
    },
    {
      "cell_type": "code",
      "source": [
        "!ls -a"
      ],
      "metadata": {
        "id": "zs_ACJIlbw9x",
        "outputId": "995eba89-6692-4078-a8b7-de2a4107cf8a",
        "colab": {
          "base_uri": "https://localhost:8080/"
        }
      },
      "execution_count": 35,
      "outputs": [
        {
          "output_type": "stream",
          "name": "stdout",
          "text": [
            ".  ..  apat63_99.txt  cite75_99.txt  country_codes.txt\n"
          ]
        }
      ]
    },
    {
      "cell_type": "code",
      "source": [
        "from pyspark.sql import functions as F\n",
        "from pyspark.sql import SparkSession\n",
        "\n",
        "# If a SparkSession doesn't already exist, create one\n",
        "if not 'spark' in locals():\n",
        "    spark = SparkSession.builder.appName(\"Exercise 12.4\").getOrCreate()\n",
        "else: # otherwise, get the existing one\n",
        "    spark = SparkSession.builder.appName(\"Exercise 12.4\").getOrCreate()\n",
        "\n",
        "\n",
        "# Load the Parquet files\n",
        "ncitations_df = spark.read.parquet(\"/tmp/ncitations.parquet\")\n",
        "patent_info_df = spark.read.parquet(\"/tmp/patent_info.parquet\")\n",
        "\n",
        "# Join the dataframes on PatentNum\n",
        "joined_df = patent_info_df.join(ncitations_df, on=\"PatentNum\", how=\"inner\")\n",
        "\n",
        "# Aggregating by country and year\n",
        "agg_df = joined_df.groupBy(\"Country\", \"Year\").agg(\n",
        "    F.max(\"ncitations\").alias(\"max\"),  # Max citations\n",
        "    F.avg(\"ncitations\").alias(\"average\")  # Average citations\n",
        ")\n",
        "\n",
        "# Calculate the difference between max and average\n",
        "agg_df = agg_df.withColumn(\"diff\", F.col(\"max\") - F.col(\"average\"))\n",
        "\n",
        "# For each country and year, get the patent with the max number of citations\n",
        "max_citation_patents_df = joined_df.join(agg_df, on=[\"Country\", \"Year\"]) \\\n",
        "    .filter(joined_df[\"ncitations\"] == agg_df[\"max\"]) \\\n",
        "    .select(\"Country\", \"Year\", \"PatentNum\", \"max\", \"average\", \"diff\")\n",
        "\n",
        "# Sort the DataFrame by country and year\n",
        "sorted_final_df = max_citation_patents_df.orderBy(\"Country\", \"Year\")\n",
        "\n",
        "# Save the result as a CSV file\n",
        "output_path = \"/tmp/exercise_12_2_output.csv\"\n",
        "sorted_final_df.write.csv(output_path, mode=\"overwrite\", header=True)\n",
        "\n",
        "# Show the final output DataFrame (optional)\n",
        "sorted_final_df.show(10)\n"
      ],
      "metadata": {
        "id": "PYvbjhBZa0Uh",
        "outputId": "06e3d7d5-e5ef-4047-9ff8-3f2d039727a3",
        "colab": {
          "base_uri": "https://localhost:8080/"
        }
      },
      "execution_count": 38,
      "outputs": [
        {
          "output_type": "stream",
          "name": "stdout",
          "text": [
            "+-------+----+---------+---+-------+----+\n",
            "|Country|Year|PatentNum|max|average|diff|\n",
            "+-------+----+---------+---+-------+----+\n",
            "|     AD|1987|  4688621|  3|    3.0| 0.0|\n",
            "|     AD|1993|  5193231|  1|    1.0| 0.0|\n",
            "|     AD|1998|  5765303|  1|    1.0| 0.0|\n",
            "|     AE|1984|  4482959|  5|    5.0| 0.0|\n",
            "|     AE|1985|  4554981| 14|   14.0| 0.0|\n",
            "|     AE|1987|  4663181|  3|    3.0| 0.0|\n",
            "|     AE|1989|  4805221|  7|    5.0| 2.0|\n",
            "|     AE|1990|  4909321|  2|    2.0| 0.0|\n",
            "|     AE|1991|  5004552|  3|    2.0| 1.0|\n",
            "|     AE|1992|  5104556|  4|    4.0| 0.0|\n",
            "+-------+----+---------+---+-------+----+\n",
            "only showing top 10 rows\n",
            "\n"
          ]
        }
      ]
    },
    {
      "cell_type": "markdown",
      "metadata": {
        "id": "ektPyLWzaImT"
      },
      "source": [
        "## Exercise 12.5\n",
        "\n",
        "From the Parquet file with the (PatentNum,Country,Year) information from Exercise 12.1, create a DataFrame that shows the number of patents associated to each country per decade (understanding as a *decade* the years from 0 to 9; e.g. from 1970 to 1979). In addition, the DataFrame must show the increase or decrease of the number of patents per country and decade with respect to the previous decade. The resulting DataFrame must look like this:\n",
        "\n",
        "|Country|Decade|PatentsNum|Diff|\n",
        "|-------|------|----------|----|\n",
        "|AD     |1980  |1         |0   |\n",
        "|AD     |1990  |5         |4   |\n",
        "|AE     |1980  |7         |0   |\n",
        "|AE     |1990  |11        |4   |\n",
        "|AG     |1970  |2         |0   |\n",
        "|AG     |1990  |7         |5   |\n",
        "|AI     |1990  |1         |0   |\n",
        "|AL     |1990  |1         |0   |\n",
        "|AM     |1990  |2         |0   |\n",
        "|AN     |1970  |1         |0   |\n",
        "|AN     |1980  |2         |1   |\n",
        "|AN     |1990  |5         |3   |\n",
        "|AR     |1960  |135       |0   |\n",
        "|AR     |1970  |239       |104 |\n",
        "|AR     |1980  |184       |-55 |\n",
        "|AR     |1990  |292       |108 |\n",
        "\n",
        "**Requirements**\n",
        "\n",
        "- The DataFrame must be sorted by country code and year.\n",
        "- Do **NOT** replace the country code by its whole name.\n",
        "- The output must be saved as a single CSV file, with a header and without any compression."
      ]
    },
    {
      "cell_type": "code",
      "source": [
        "from pyspark.sql import functions as F\n",
        "from pyspark.sql import SparkSession\n",
        "from pyspark.sql.window import Window\n",
        "\n",
        "# If a SparkSession doesn't already exist, create one\n",
        "if not 'spark' in locals():\n",
        "    spark = SparkSession.builder.appName(\"Exercise 12.4\").getOrCreate()\n",
        "else: # otherwise, get the existing one\n",
        "    spark = SparkSession.builder.appName(\"Exercise 12.4\").getOrCreate()\n",
        "\n",
        "\n",
        "# Load the Parquet file\n",
        "patent_info_df = spark.read.parquet(\"/tmp/patent_info.parquet\")\n",
        "\n",
        "# Add the Decade column based on the Year column\n",
        "result_df = patent_info_df.withColumn(\"Decade\", (F.floor(F.col(\"Year\") / 10) * 10))\n",
        "\n",
        "# Group by Country and Decade, and count patents\n",
        "result_df = result_df.groupBy(\"Country\", \"Decade\") \\\n",
        "    .agg(F.count(\"PatentNum\").alias(\"PatentsNum\"))\n",
        "\n",
        "# Sort by Country and Decade\n",
        "result_df = result_df.orderBy(\"Country\", \"Decade\")\n",
        "\n",
        "# Define the window specification\n",
        "window_spec = Window.partitionBy(\"Country\").orderBy(\"Decade\")\n",
        "\n",
        "# Calculate the difference using lag function and handle first decade with coalesce\n",
        "result_df = result_df.withColumn(\"Diff\",\n",
        "                                 F.coalesce(\n",
        "                                     result_df[\"PatentsNum\"] - F.lag(result_df[\"PatentsNum\"], 1).over(window_spec),\n",
        "                                     F.lit(0)  # Default to 0 for the first decade\n",
        "                                 )\n",
        "                                )\n",
        "\n",
        "# Show the result\n",
        "result_df.show(20)"
      ],
      "metadata": {
        "id": "Ny_lrulj9GRF"
      },
      "execution_count": null,
      "outputs": []
    },
    {
      "cell_type": "code",
      "source": [
        "from pyspark.sql import functions as F\n",
        "from pyspark.sql import SparkSession\n",
        "from pyspark.sql.window import Window\n",
        "\n",
        "# If a SparkSession doesn't already exist, create one\n",
        "if not 'spark' in locals():\n",
        "    spark = SparkSession.builder.appName(\"Exercise 12.4\").getOrCreate()\n",
        "else: # otherwise, get the existing one\n",
        "    spark = SparkSession.builder.appName(\"Exercise 12.4\").getOrCreate()\n",
        "\n",
        "\n",
        "# Load the Parquet file\n",
        "patent_info_df = spark.read.parquet(\"/tmp/patent_info.parquet\")\n",
        "\n",
        "# Add the Decade column based on the Year column\n",
        "result_df = patent_info_df.withColumn(\"Decade\", (F.floor(F.col(\"Year\") / 10) * 10))\n",
        "\n",
        "# Group by Country and Decade, and count patents\n",
        "result_df = result_df.groupBy(\"Country\", \"Decade\") \\\n",
        "    .agg(F.count(\"PatentNum\").alias(\"PatentsNum\"))\n",
        "\n",
        "\n",
        "# Calculate the difference using lag function and handle first decade with coalesce\n",
        "result_df = result_df.withColumn(\"Diff\",\n",
        "                                 F.coalesce(\n",
        "                                     result_df[\"PatentsNum\"] - F.lag(result_df[\"PatentsNum\"], 1).over(window_spec),\n",
        "                                     F.lit(0)  # Default to 0 for the first decade\n",
        "                                 )\n",
        "                                )\n",
        "\n",
        "# Show the result\n",
        "result_df.show(20)"
      ],
      "metadata": {
        "id": "pGuO7d0i82RQ",
        "outputId": "06723c7f-2930-4998-9fc3-2a65aad8c02f",
        "colab": {
          "base_uri": "https://localhost:8080/"
        }
      },
      "execution_count": 62,
      "outputs": [
        {
          "output_type": "stream",
          "name": "stdout",
          "text": [
            "+-------+------+----------+----+\n",
            "|Country|Decade|PatentsNum|Diff|\n",
            "+-------+------+----------+----+\n",
            "|     AD|  1980|         1|   0|\n",
            "|     AD|  1990|         5|   4|\n",
            "|     AE|  1980|         7|   0|\n",
            "|     AE|  1990|        11|   4|\n",
            "|     AG|  1970|         2|   0|\n",
            "|     AG|  1990|         7|   5|\n",
            "|     AI|  1990|         1|   0|\n",
            "|     AL|  1990|         1|   0|\n",
            "|     AM|  1990|         2|   0|\n",
            "|     AN|  1970|         1|   0|\n",
            "|     AN|  1980|         2|   1|\n",
            "|     AN|  1990|         5|   3|\n",
            "|     AR|  1960|       135|   0|\n",
            "|     AR|  1970|       239| 104|\n",
            "|     AR|  1980|       184| -55|\n",
            "|     AR|  1990|       292| 108|\n",
            "|     AT|  1960|       950|   0|\n",
            "|     AT|  1970|      2588|1638|\n",
            "|     AT|  1980|      3057| 469|\n",
            "|     AT|  1990|      3665| 608|\n",
            "+-------+------+----------+----+\n",
            "only showing top 20 rows\n",
            "\n"
          ]
        }
      ]
    }
  ]
}