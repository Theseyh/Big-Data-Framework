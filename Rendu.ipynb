{
  "nbformat": 4,
  "nbformat_minor": 0,
  "metadata": {
    "colab": {
      "provenance": [],
      "authorship_tag": "ABX9TyO1vnDsfsH53P6dVYkm4oyb",
      "include_colab_link": true
    },
    "kernelspec": {
      "name": "python3",
      "display_name": "Python 3"
    },
    "language_info": {
      "name": "python"
    }
  },
  "cells": [
    {
      "cell_type": "markdown",
      "metadata": {
        "id": "view-in-github",
        "colab_type": "text"
      },
      "source": [
        "<a href=\"https://colab.research.google.com/github/Theseyh/Big-Data-Framework/blob/main/Rendu.ipynb\" target=\"_parent\"><img src=\"https://colab.research.google.com/assets/colab-badge.svg\" alt=\"Open In Colab\"/></a>"
      ]
    },
    {
      "cell_type": "code",
      "execution_count": 18,
      "metadata": {
        "colab": {
          "base_uri": "https://localhost:8080/"
        },
        "id": "Jd6TuQI-hqgn",
        "outputId": "29199ccc-4cfb-4993-d19a-133ba0b3ec9b"
      },
      "outputs": [
        {
          "output_type": "stream",
          "name": "stdout",
          "text": [
            "\r0% [Working]\r            \rHit:1 http://archive.ubuntu.com/ubuntu jammy InRelease\n",
            "\r0% [Connecting to security.ubuntu.com] [Waiting for headers] [Waiting for headers] [Waiting for head\r                                                                                                    \rHit:2 https://developer.download.nvidia.com/compute/cuda/repos/ubuntu2204/x86_64  InRelease\n",
            "\r0% [Waiting for headers] [Connecting to security.ubuntu.com (91.189.91.81)] [Waiting for headers] [W\r                                                                                                    \rHit:3 https://cloud.r-project.org/bin/linux/ubuntu jammy-cran40/ InRelease\n",
            "\r0% [Waiting for headers] [Connecting to security.ubuntu.com (91.189.91.81)] [Waiting for headers] [C\r                                                                                                    \rHit:4 http://archive.ubuntu.com/ubuntu jammy-updates InRelease\n",
            "\r0% [Waiting for headers] [Waiting for headers] [Waiting for headers] [Connecting to ppa.launchpadcon\r                                                                                                    \rHit:5 http://archive.ubuntu.com/ubuntu jammy-backports InRelease\n",
            "Get:6 http://security.ubuntu.com/ubuntu jammy-security InRelease [129 kB]\n",
            "Hit:7 https://r2u.stat.illinois.edu/ubuntu jammy InRelease\n",
            "Hit:8 https://ppa.launchpadcontent.net/deadsnakes/ppa/ubuntu jammy InRelease\n",
            "Hit:9 https://ppa.launchpadcontent.net/graphics-drivers/ppa/ubuntu jammy InRelease\n",
            "Hit:10 https://ppa.launchpadcontent.net/ubuntugis/ppa/ubuntu jammy InRelease\n",
            "Fetched 129 kB in 1s (86.4 kB/s)\n",
            "Reading package lists... Done\n",
            "W: Skipping acquire of configured file 'main/source/Sources' as repository 'https://r2u.stat.illinois.edu/ubuntu jammy InRelease' does not seem to provide it (sources.list entry misspelt?)\n",
            "--2024-11-26 13:17:34--  http://apache.osuosl.org/spark/spark-3.5.3/spark-3.5.3-bin-hadoop3.tgz\n",
            "Resolving apache.osuosl.org (apache.osuosl.org)... 64.50.236.52, 64.50.233.100, 140.211.166.134, ...\n",
            "Connecting to apache.osuosl.org (apache.osuosl.org)|64.50.236.52|:80... connected.\n",
            "HTTP request sent, awaiting response... 200 OK\n",
            "Length: 400864419 (382M) [application/x-gzip]\n",
            "Saving to: ‘spark-3.5.3-bin-hadoop3.tgz’\n",
            "\n",
            "spark-3.5.3-bin-had 100%[===================>] 382.29M  46.2MB/s    in 25s     \n",
            "\n",
            "2024-11-26 13:17:59 (15.4 MB/s) - ‘spark-3.5.3-bin-hadoop3.tgz’ saved [400864419/400864419]\n",
            "\n",
            "spark-3.5.3-bin-hadoop3.tgz\n"
          ]
        }
      ],
      "source": [
        "import os\n",
        "\n",
        "os.environ[\"SPARK_VERSION\"] = \"spark-3.5.3\"\n",
        "!apt-get update\n",
        "!apt-get install openjdk-8-jdk-headless -qq > /dev/null\n",
        "!wget  http://apache.osuosl.org/spark/$SPARK_VERSION/$SPARK_VERSION-bin-hadoop3.tgz\n",
        "!tar xf $SPARK_VERSION-bin-hadoop3.tgz\n",
        "!echo $SPARK_VERSION-bin-hadoop3.tgz\n",
        "!rm $SPARK_VERSION-bin-hadoop3.tgz\n",
        "!pip install -q findspark"
      ]
    },
    {
      "cell_type": "markdown",
      "metadata": {
        "id": "b4Kjvk_h1AHl"
      },
      "source": [
        "### Set Environment Variables\n",
        "Set the locations where Spark and Java are installed."
      ]
    },
    {
      "cell_type": "code",
      "source": [
        "import os\n",
        "os.environ[\"JAVA_HOME\"] = \"/usr/lib/jvm/java-8-openjdk-amd64\"\n",
        "os.environ[\"SPARK_HOME\"] = \"/content/spark/\"\n",
        "os.environ[\"DRIVE_DATA\"] = \"/content/gdrive/My Drive/Big Data Framework/data\"\n",
        "\n",
        "!rm /content/spark\n",
        "!ln -s /content/$SPARK_VERSION-bin-hadoop3 /content/spark\n",
        "!export PATH=$PATH:$SPARK_HOME/bin:$SPARK_HOME/sbin\n",
        "!echo $SPARK_HOME\n",
        "!env |grep  \"DRIVE_DATA\""
      ],
      "metadata": {
        "colab": {
          "base_uri": "https://localhost:8080/"
        },
        "id": "noonVi8nh0sa",
        "outputId": "f757f598-7a0a-4d2f-ac81-fcc1943286f2"
      },
      "execution_count": 19,
      "outputs": [
        {
          "output_type": "stream",
          "name": "stdout",
          "text": [
            "/content/spark/\n",
            "DRIVE_DATA=/content/gdrive/My Drive/Big Data Framework/data\n"
          ]
        }
      ]
    },
    {
      "cell_type": "markdown",
      "metadata": {
        "id": "NwU28K5f1H3P"
      },
      "source": [
        "### Start a SparkSession\n",
        "This will start a local Spark session."
      ]
    },
    {
      "cell_type": "code",
      "source": [
        "!python -V\n",
        "\n",
        "import findspark\n",
        "findspark.init()\n",
        "\n",
        "from pyspark import SparkContext\n",
        "sc = SparkContext.getOrCreate()\n",
        "\n",
        "# Example: shows the PySpark version\n",
        "print(\"PySpark version {0}\".format(sc.version))\n",
        "\n",
        "# Example: parallelise an array and show the 2 first elements\n",
        "sc.parallelize([2, 3, 4, 5, 6]).cache().take(2)"
      ],
      "metadata": {
        "colab": {
          "base_uri": "https://localhost:8080/"
        },
        "id": "5c1sBuRviLX1",
        "outputId": "dee233f1-a948-42ba-9e50-5fc819dc86e7"
      },
      "execution_count": 20,
      "outputs": [
        {
          "output_type": "stream",
          "name": "stdout",
          "text": [
            "Python 3.10.12\n",
            "PySpark version 3.5.3\n"
          ]
        },
        {
          "output_type": "execute_result",
          "data": {
            "text/plain": [
              "[2, 3]"
            ]
          },
          "metadata": {},
          "execution_count": 20
        }
      ]
    },
    {
      "cell_type": "code",
      "source": [
        "from pyspark.sql import SparkSession\n",
        "# We create a SparkSession object (or we retrieve it if it is already created)\n",
        "spark = SparkSession \\\n",
        ".builder \\\n",
        ".appName(\"My application\") \\\n",
        ".config(\"spark.some.config.option\", \"some-value\") \\\n",
        ".master(\"local[4]\") \\\n",
        ".getOrCreate()\n",
        "# We get the SparkContext\n",
        "sc = spark.sparkContext"
      ],
      "metadata": {
        "id": "9vLVCvnFiWp-"
      },
      "execution_count": 21,
      "outputs": []
    },
    {
      "cell_type": "markdown",
      "metadata": {
        "id": "T3ULPx4Y1LiR"
      },
      "source": [
        "## Exercise 3.1: Word count\n",
        "\n",
        "Count the number of words *per line* in the $DRIVE_DATA/quijote.txt file.\n",
        "\n",
        "Repeat the exercise but this time counting the number of words *in the whole file*."
      ]
    },
    {
      "cell_type": "code",
      "source": [
        "from google.colab import drive\n",
        "drive.mount('/content/gdrive')"
      ],
      "metadata": {
        "colab": {
          "base_uri": "https://localhost:8080/"
        },
        "id": "sUYzQZTpmdwI",
        "outputId": "8af9e6d1-5a03-4c81-bb9b-e58a400b41a8"
      },
      "execution_count": 22,
      "outputs": [
        {
          "output_type": "stream",
          "name": "stdout",
          "text": [
            "Drive already mounted at /content/gdrive; to attempt to forcibly remount, call drive.mount(\"/content/gdrive\", force_remount=True).\n"
          ]
        }
      ]
    },
    {
      "cell_type": "code",
      "source": [
        "!head \"$DRIVE_DATA/quijote.txt\""
      ],
      "metadata": {
        "colab": {
          "base_uri": "https://localhost:8080/"
        },
        "id": "aRzNDo68mhGd",
        "outputId": "c0b963f7-c08f-463a-a787-dace4175086a"
      },
      "execution_count": 23,
      "outputs": [
        {
          "output_type": "stream",
          "name": "stdout",
          "text": [
            "﻿The Project Gutenberg EBook of Don Quijote, by Miguel de Cervantes Saavedra\r\n",
            "\r\n",
            "This eBook is for the use of anyone anywhere at no cost and with\r\n",
            "almost no restrictions whatsoever.  You may copy it, give it away or\r\n",
            "re-use it under the terms of the Project Gutenberg License included\r\n",
            "with this eBook or online at www.gutenberg.net\r\n",
            "\r\n",
            "\r\n",
            "Title: Don Quijote\r\n",
            "\r\n"
          ]
        }
      ]
    },
    {
      "cell_type": "code",
      "source": [
        "from pyspark.sql import SparkSession\n",
        "from pyspark.sql import functions as F\n",
        "\n",
        "# Initialize Spark session\n",
        "spark = SparkSession.builder.appName(\"WordCount\").getOrCreate()\n",
        "\n",
        "# Define file path\n",
        "file_path = \"/content/gdrive/My Drive/Big Data Framework/data/quijote.txt\"\n",
        "\n",
        "# Load the file into a DataFrame, with one line per row\n",
        "lines_df = spark.read.text(file_path)\n",
        "\n",
        "# Count words per line\n",
        "words_per_line_df = lines_df.withColumn(\"word_count\", F.size(F.split(F.col(\"value\"), \" \")))\n",
        "\n",
        "# Show the word counts per line\n",
        "words_per_line_df.show(truncate=False)\n",
        "\n",
        "# Count total words in the whole file\n",
        "total_words = words_per_line_df.select(F.sum(\"word_count\").alias(\"total_word_count\")).collect()[0][\"total_word_count\"]\n",
        "\n",
        "print(f\"Total number of words in the file: {total_words}\")\n",
        "\n",
        "# Stop the Spark session\n",
        "spark.stop()\n"
      ],
      "metadata": {
        "colab": {
          "base_uri": "https://localhost:8080/"
        },
        "id": "oy31rgVLnW_p",
        "outputId": "4e314a5a-81f1-49e6-8adc-00d15ebcf3c9"
      },
      "execution_count": 24,
      "outputs": [
        {
          "output_type": "stream",
          "name": "stdout",
          "text": [
            "+---------------------------------------------------------------------------+----------+\n",
            "|value                                                                      |word_count|\n",
            "+---------------------------------------------------------------------------+----------+\n",
            "|The Project Gutenberg EBook of Don Quijote, by Miguel de Cervantes Saavedra|12        |\n",
            "|                                                                           |1         |\n",
            "|This eBook is for the use of anyone anywhere at no cost and with           |14        |\n",
            "|almost no restrictions whatsoever.  You may copy it, give it away or       |13        |\n",
            "|re-use it under the terms of the Project Gutenberg License included        |11        |\n",
            "|with this eBook or online at www.gutenberg.net                             |7         |\n",
            "|                                                                           |1         |\n",
            "|                                                                           |1         |\n",
            "|Title: Don Quijote                                                         |3         |\n",
            "|                                                                           |1         |\n",
            "|Author: Miguel de Cervantes Saavedra                                       |5         |\n",
            "|                                                                           |1         |\n",
            "|Posting Date: April 27, 2010 [EBook #2000]                                 |7         |\n",
            "|Release Date: December, 1999                                               |4         |\n",
            "|                                                                           |1         |\n",
            "|Language: Spanish                                                          |2         |\n",
            "|                                                                           |1         |\n",
            "|                                                                           |1         |\n",
            "|*** START OF THIS PROJECT GUTENBERG EBOOK DON QUIJOTE ***                  |10        |\n",
            "|                                                                           |1         |\n",
            "+---------------------------------------------------------------------------+----------+\n",
            "only showing top 20 rows\n",
            "\n",
            "Total number of words in the file: 393764\n"
          ]
        }
      ]
    },
    {
      "cell_type": "markdown",
      "source": [
        "V2\n"
      ],
      "metadata": {
        "id": "2DF9yDSDp6-V"
      }
    },
    {
      "cell_type": "code",
      "source": [
        "from pyspark.sql import SparkSession\n",
        "from pyspark.sql import functions as F\n",
        "\n",
        "# Initialize Spark session\n",
        "spark = SparkSession.builder.appName(\"WordCount\").getOrCreate()\n",
        "\n",
        "# Define file path\n",
        "file_path = \"/content/gdrive/My Drive/Big Data Framework/data/quijote.txt\"\n",
        "\n",
        "# Load the file into a DataFrame, with one line per row\n",
        "lines_df = spark.read.text(file_path)\n",
        "\n",
        "# Filter out empty lines (lines that are empty or only contain whitespace)\n",
        "non_empty_lines_df = lines_df.filter(F.trim(F.col(\"value\")) != \"\")\n",
        "\n",
        "# Count words per line\n",
        "words_per_line_df = non_empty_lines_df.withColumn(\"word_count\", F.size(F.split(F.col(\"value\"), \" \")))\n",
        "\n",
        "# Show the word counts per line\n",
        "words_per_line_df.show(truncate=False)\n",
        "\n",
        "# Count total words in the whole file\n",
        "total_words = words_per_line_df.select(F.sum(\"word_count\").alias(\"total_word_count\")).collect()[0][\"total_word_count\"]\n",
        "\n",
        "print(f\"Total number of words in the file: {total_words}\")\n",
        "\n",
        "# Stop the Spark session\n",
        "spark.stop()\n"
      ],
      "metadata": {
        "colab": {
          "base_uri": "https://localhost:8080/"
        },
        "id": "QjIk_AOOqEhA",
        "outputId": "587f489e-7f17-4388-c16d-3134b67ccee3"
      },
      "execution_count": 25,
      "outputs": [
        {
          "output_type": "stream",
          "name": "stdout",
          "text": [
            "+---------------------------------------------------------------------------+----------+\n",
            "|value                                                                      |word_count|\n",
            "+---------------------------------------------------------------------------+----------+\n",
            "|The Project Gutenberg EBook of Don Quijote, by Miguel de Cervantes Saavedra|12        |\n",
            "|This eBook is for the use of anyone anywhere at no cost and with           |14        |\n",
            "|almost no restrictions whatsoever.  You may copy it, give it away or       |13        |\n",
            "|re-use it under the terms of the Project Gutenberg License included        |11        |\n",
            "|with this eBook or online at www.gutenberg.net                             |7         |\n",
            "|Title: Don Quijote                                                         |3         |\n",
            "|Author: Miguel de Cervantes Saavedra                                       |5         |\n",
            "|Posting Date: April 27, 2010 [EBook #2000]                                 |7         |\n",
            "|Release Date: December, 1999                                               |4         |\n",
            "|Language: Spanish                                                          |2         |\n",
            "|*** START OF THIS PROJECT GUTENBERG EBOOK DON QUIJOTE ***                  |10        |\n",
            "|Produced by an anonymous Project Gutenberg volunteer. Text                 |8         |\n",
            "|file corrections and new HTML file by Joaquin Cuenca Abela.                |10        |\n",
            "|El ingenioso hidalgo don Quijote de la Mancha                              |8         |\n",
            "|TASA                                                                       |1         |\n",
            "|Yo, Juan Gallo de Andrada, escribano de Cámara del Rey nuestro señor, de   |13        |\n",
            "|los que residen en su Consejo, certifico y doy fe que, habiendo visto por  |14        |\n",
            "|los señores dél un libro intitulado El ingenioso hidalgo de la Mancha,     |12        |\n",
            "|compuesto por Miguel de Cervantes Saavedra, tasaron cada pliego del dicho  |11        |\n",
            "|libro a tres maravedís y medio; el cual tiene ochenta y tres pliegos, que  |14        |\n",
            "+---------------------------------------------------------------------------+----------+\n",
            "only showing top 20 rows\n",
            "\n",
            "Total number of words in the file: 387834\n"
          ]
        }
      ]
    },
    {
      "cell_type": "markdown",
      "source": [
        "V3"
      ],
      "metadata": {
        "id": "1XRUIfmhm72E"
      }
    },
    {
      "cell_type": "code",
      "source": [
        "from pyspark.sql import SparkSession\n",
        "from pyspark.sql import functions as F\n",
        "\n",
        "# Initialize Spark session\n",
        "spark = SparkSession.builder.appName(\"WordCount\").getOrCreate()\n",
        "\n",
        "# Define file path\n",
        "file_path = \"/content/gdrive/My Drive/Big Data Framework/data/quijote.txt\"\n",
        "\n",
        "# Load the file into a DataFrame, with one line per row\n",
        "lines_df = spark.read.text(file_path)\n",
        "\n",
        "# Filter out empty lines (lines that are empty or only contain whitespace)\n",
        "non_empty_lines_df = lines_df.filter(F.trim(F.col(\"value\")) != \"\")\n",
        "\n",
        "# Count words per line\n",
        "words_per_line_df = non_empty_lines_df.withColumn(\"word_count\", F.size(F.split(F.col(\"value\"), \"\\s+\")))\n",
        "\n",
        "# Show the word counts per line\n",
        "words_per_line_df.show(truncate=False)\n",
        "\n",
        "# Count total words in the whole file\n",
        "total_words = words_per_line_df.select(F.sum(\"word_count\").alias(\"total_word_count\")).collect()[0][\"total_word_count\"]\n",
        "\n",
        "print(f\"Total number of words in the file: {total_words}\")\n",
        "\n",
        "# Stop the Spark session\n",
        "spark.stop()\n"
      ],
      "metadata": {
        "colab": {
          "base_uri": "https://localhost:8080/"
        },
        "id": "8Cr5MhFrs-mI",
        "outputId": "1dd6bbf8-3430-4e0e-e44d-5d53c7b6b379"
      },
      "execution_count": 26,
      "outputs": [
        {
          "output_type": "stream",
          "name": "stdout",
          "text": [
            "+---------------------------------------------------------------------------+----------+\n",
            "|value                                                                      |word_count|\n",
            "+---------------------------------------------------------------------------+----------+\n",
            "|The Project Gutenberg EBook of Don Quijote, by Miguel de Cervantes Saavedra|12        |\n",
            "|This eBook is for the use of anyone anywhere at no cost and with           |14        |\n",
            "|almost no restrictions whatsoever.  You may copy it, give it away or       |12        |\n",
            "|re-use it under the terms of the Project Gutenberg License included        |11        |\n",
            "|with this eBook or online at www.gutenberg.net                             |7         |\n",
            "|Title: Don Quijote                                                         |3         |\n",
            "|Author: Miguel de Cervantes Saavedra                                       |5         |\n",
            "|Posting Date: April 27, 2010 [EBook #2000]                                 |7         |\n",
            "|Release Date: December, 1999                                               |4         |\n",
            "|Language: Spanish                                                          |2         |\n",
            "|*** START OF THIS PROJECT GUTENBERG EBOOK DON QUIJOTE ***                  |10        |\n",
            "|Produced by an anonymous Project Gutenberg volunteer. Text                 |8         |\n",
            "|file corrections and new HTML file by Joaquin Cuenca Abela.                |10        |\n",
            "|El ingenioso hidalgo don Quijote de la Mancha                              |8         |\n",
            "|TASA                                                                       |1         |\n",
            "|Yo, Juan Gallo de Andrada, escribano de Cámara del Rey nuestro señor, de   |13        |\n",
            "|los que residen en su Consejo, certifico y doy fe que, habiendo visto por  |14        |\n",
            "|los señores dél un libro intitulado El ingenioso hidalgo de la Mancha,     |12        |\n",
            "|compuesto por Miguel de Cervantes Saavedra, tasaron cada pliego del dicho  |11        |\n",
            "|libro a tres maravedís y medio; el cual tiene ochenta y tres pliegos, que  |14        |\n",
            "+---------------------------------------------------------------------------+----------+\n",
            "only showing top 20 rows\n",
            "\n",
            "Total number of words in the file: 385422\n"
          ]
        }
      ]
    },
    {
      "cell_type": "markdown",
      "metadata": {
        "id": "7ppnan-_ELFI"
      },
      "source": [
        "## Exercise 4.1: Pi Estimation\n",
        "\n",
        "Using the Monte Carlo method, estimate the value of Pi. Use the random() method from the random class."
      ]
    },
    {
      "cell_type": "code",
      "source": [
        "from pyspark.sql import SparkSession\n",
        "import random\n",
        "\n",
        "# Initialize Spark session\n",
        "spark = SparkSession.builder.appName(\"MonteCarloPi\").getOrCreate()\n",
        "\n",
        "# Number of random points to generate\n",
        "NUM_SAMPLES = 10_000_000\n",
        "\n",
        "# Function to generate a random point and check if it's inside the unit circle\n",
        "def is_point_inside_unit_circle(_):\n",
        "    x = random.uniform(-1, 1)\n",
        "    y = random.uniform(-1, 1)\n",
        "    return 1 if x**2 + y**2 <= 1 else 0\n",
        "\n",
        "# Parallelize the calculation across Spark workers\n",
        "rdd = spark.sparkContext.parallelize(range(NUM_SAMPLES))\n",
        "points_inside_circle = rdd.map(is_point_inside_unit_circle).reduce(lambda a, b: a + b)\n",
        "\n",
        "# Approximate π\n",
        "pi_estimate = (4 * points_inside_circle) / NUM_SAMPLES\n",
        "\n",
        "print(f\"Estimated value of π: {pi_estimate}\")\n",
        "\n",
        "# Stop the Spark session\n",
        "spark.stop()\n"
      ],
      "metadata": {
        "colab": {
          "base_uri": "https://localhost:8080/"
        },
        "id": "9-JfVUSesWYQ",
        "outputId": "76cc99aa-abee-4612-b86e-6ed238dc318f"
      },
      "execution_count": 27,
      "outputs": [
        {
          "output_type": "stream",
          "name": "stdout",
          "text": [
            "Estimated value of π: 3.1417692\n"
          ]
        }
      ]
    },
    {
      "cell_type": "markdown",
      "metadata": {
        "id": "2vPYCnS8ERmg"
      },
      "source": [
        "## Exercise 4.2: Inspect a log file\n",
        "\n",
        "Upload the file /var/log/syslog from your computer to this notebook. Then, select only the \"bad lines\": WARNING and ERROR messages."
      ]
    },
    {
      "cell_type": "code",
      "source": [
        "from pyspark.sql import SparkSession\n",
        "from pyspark.sql import functions as F\n",
        "\n",
        "# Initialize Spark session\n",
        "spark = SparkSession.builder.appName(\"SyslogFilter\").getOrCreate()\n",
        "\n",
        "# Load the syslog file into a DataFrame\n",
        "#file_path = \"/content/syslog\"  # Adjust path if necessary after upload\n",
        "#syslog_df = spark.read.text(file_path)\n",
        "\n",
        "syslog_df = spark.read.text(os.environ[\"DRIVE_DATA\"] + \"/syslog\")\n",
        "\n",
        "# Filter lines containing WARNING or ERROR\n",
        "bad_lines_df = syslog_df.filter(\n",
        "    F.col(\"value\").contains(\"WARNING\") | F.col(\"value\").contains(\"ERROR\")\n",
        ")\n",
        "\n",
        "# Show the filtered \"bad lines\"\n",
        "bad_lines_df.show(truncate=False)\n",
        "\n",
        "# Stop the Spark session\n",
        "spark.stop()\n"
      ],
      "metadata": {
        "id": "vr7OqhMrMSrO",
        "colab": {
          "base_uri": "https://localhost:8080/"
        },
        "outputId": "a781fcb7-da79-419d-91d5-11386a7235ac"
      },
      "execution_count": 31,
      "outputs": [
        {
          "output_type": "stream",
          "name": "stdout",
          "text": [
            "+-------------------------------------------------------------------------------------------------+\n",
            "|value                                                                                            |\n",
            "+-------------------------------------------------------------------------------------------------+\n",
            "|Nov 26 00:01:13 student-laptop ovpn-cytech.students[1260]: WARNING: Your certificate has expired!|\n",
            "|Nov 26 00:12:13 student-laptop ovpn-cytech.students[1260]: WARNING: Your certificate has expired!|\n",
            "|Nov 26 00:23:14 student-laptop ovpn-cytech.students[1260]: WARNING: Your certificate has expired!|\n",
            "|Nov 26 00:34:14 student-laptop ovpn-cytech.students[1260]: WARNING: Your certificate has expired!|\n",
            "|Nov 26 00:45:14 student-laptop ovpn-cytech.students[1260]: WARNING: Your certificate has expired!|\n",
            "|Nov 26 00:56:14 student-laptop ovpn-cytech.students[1260]: WARNING: Your certificate has expired!|\n",
            "|Nov 26 01:07:15 student-laptop ovpn-cytech.students[1260]: WARNING: Your certificate has expired!|\n",
            "|Nov 26 01:18:15 student-laptop ovpn-cytech.students[1260]: WARNING: Your certificate has expired!|\n",
            "|Nov 26 01:29:15 student-laptop ovpn-cytech.students[1260]: WARNING: Your certificate has expired!|\n",
            "|Nov 26 01:40:15 student-laptop ovpn-cytech.students[1260]: WARNING: Your certificate has expired!|\n",
            "|Nov 26 01:51:15 student-laptop ovpn-cytech.students[1260]: WARNING: Your certificate has expired!|\n",
            "|Nov 26 02:02:15 student-laptop ovpn-cytech.students[1260]: WARNING: Your certificate has expired!|\n",
            "|Nov 26 02:13:15 student-laptop ovpn-cytech.students[1260]: WARNING: Your certificate has expired!|\n",
            "|Nov 26 02:24:15 student-laptop ovpn-cytech.students[1260]: WARNING: Your certificate has expired!|\n",
            "|Nov 26 02:35:15 student-laptop ovpn-cytech.students[1260]: WARNING: Your certificate has expired!|\n",
            "|Nov 26 02:46:15 student-laptop ovpn-cytech.students[1260]: WARNING: Your certificate has expired!|\n",
            "|Nov 26 02:57:15 student-laptop ovpn-cytech.students[1260]: WARNING: Your certificate has expired!|\n",
            "|Nov 26 03:08:15 student-laptop ovpn-cytech.students[1260]: WARNING: Your certificate has expired!|\n",
            "|Nov 26 03:19:15 student-laptop ovpn-cytech.students[1260]: WARNING: Your certificate has expired!|\n",
            "|Nov 26 03:30:15 student-laptop ovpn-cytech.students[1260]: WARNING: Your certificate has expired!|\n",
            "+-------------------------------------------------------------------------------------------------+\n",
            "only showing top 20 rows\n",
            "\n"
          ]
        }
      ]
    }
  ]
}