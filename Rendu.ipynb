{
  "nbformat": 4,
  "nbformat_minor": 0,
  "metadata": {
    "colab": {
      "provenance": [],
      "authorship_tag": "ABX9TyMNpRr3hccv0mm1yDG5cSKV",
      "include_colab_link": true
    },
    "kernelspec": {
      "name": "python3",
      "display_name": "Python 3"
    },
    "language_info": {
      "name": "python"
    }
  },
  "cells": [
    {
      "cell_type": "markdown",
      "metadata": {
        "id": "view-in-github",
        "colab_type": "text"
      },
      "source": [
        "<a href=\"https://colab.research.google.com/github/Theseyh/Big-Data-Framework/blob/main/Rendu.ipynb\" target=\"_parent\"><img src=\"https://colab.research.google.com/assets/colab-badge.svg\" alt=\"Open In Colab\"/></a>"
      ]
    },
    {
      "cell_type": "code",
      "execution_count": null,
      "metadata": {
        "colab": {
          "base_uri": "https://localhost:8080/"
        },
        "id": "Jd6TuQI-hqgn",
        "outputId": "09db395d-fd0c-4713-ebda-bfffb06b7caa"
      },
      "outputs": [
        {
          "output_type": "stream",
          "name": "stdout",
          "text": [
            "\r0% [Working]\r            \rHit:1 https://cloud.r-project.org/bin/linux/ubuntu jammy-cran40/ InRelease\n",
            "Hit:2 https://developer.download.nvidia.com/compute/cuda/repos/ubuntu2204/x86_64  InRelease\n",
            "Hit:3 http://archive.ubuntu.com/ubuntu jammy InRelease\n",
            "Hit:4 http://security.ubuntu.com/ubuntu jammy-security InRelease\n",
            "Hit:5 http://archive.ubuntu.com/ubuntu jammy-updates InRelease\n",
            "Hit:6 http://archive.ubuntu.com/ubuntu jammy-backports InRelease\n",
            "Hit:7 https://r2u.stat.illinois.edu/ubuntu jammy InRelease\n",
            "Hit:8 https://ppa.launchpadcontent.net/deadsnakes/ppa/ubuntu jammy InRelease\n",
            "Hit:9 https://ppa.launchpadcontent.net/graphics-drivers/ppa/ubuntu jammy InRelease\n",
            "Hit:10 https://ppa.launchpadcontent.net/ubuntugis/ppa/ubuntu jammy InRelease\n",
            "Reading package lists... Done\n",
            "W: Skipping acquire of configured file 'main/source/Sources' as repository 'https://r2u.stat.illinois.edu/ubuntu jammy InRelease' does not seem to provide it (sources.list entry misspelt?)\n",
            "--2024-11-25 14:01:48--  http://apache.osuosl.org/spark/spark-3.5.3/spark-3.5.3-bin-hadoop3.tgz\n",
            "Resolving apache.osuosl.org (apache.osuosl.org)... 140.211.166.134, 64.50.236.52, 64.50.233.100, ...\n",
            "Connecting to apache.osuosl.org (apache.osuosl.org)|140.211.166.134|:80... connected.\n",
            "HTTP request sent, awaiting response... 200 OK\n",
            "Length: 400864419 (382M) [application/x-gzip]\n",
            "Saving to: ‘spark-3.5.3-bin-hadoop3.tgz’\n",
            "\n",
            "       spark-3.5.3-  33%[=====>              ] 128.26M   922KB/s    eta 4m 47s ^C\n",
            "^C\n",
            "spark-3.5.3-bin-hadoop3.tgz\n",
            "\u001b[31mERROR: Operation cancelled by user\u001b[0m\u001b[31m\n",
            "\u001b[0m"
          ]
        }
      ],
      "source": [
        "import os\n",
        "\n",
        "os.environ[\"SPARK_VERSION\"] = \"spark-3.5.3\"\n",
        "!apt-get update\n",
        "!apt-get install openjdk-8-jdk-headless -qq > /dev/null\n",
        "!wget  http://apache.osuosl.org/spark/$SPARK_VERSION/$SPARK_VERSION-bin-hadoop3.tgz\n",
        "!tar xf $SPARK_VERSION-bin-hadoop3.tgz\n",
        "!echo $SPARK_VERSION-bin-hadoop3.tgz\n",
        "!rm $SPARK_VERSION-bin-hadoop3.tgz\n",
        "!pip install -q findspark"
      ]
    },
    {
      "cell_type": "markdown",
      "metadata": {
        "id": "b4Kjvk_h1AHl"
      },
      "source": [
        "### Set Environment Variables\n",
        "Set the locations where Spark and Java are installed."
      ]
    },
    {
      "cell_type": "code",
      "source": [
        "import os\n",
        "os.environ[\"JAVA_HOME\"] = \"/usr/lib/jvm/java-8-openjdk-amd64\"\n",
        "os.environ[\"SPARK_HOME\"] = \"/content/spark/\"\n",
        "os.environ[\"DRIVE_DATA\"] = \"/content/gdrive/My Drive/Big Data Framework/data\"\n",
        "\n",
        "!rm /content/spark\n",
        "!ln -s /content/$SPARK_VERSION-bin-hadoop3 /content/spark\n",
        "!export PATH=$PATH:$SPARK_HOME/bin:$SPARK_HOME/sbin\n",
        "!echo $SPARK_HOME\n",
        "!env |grep  \"DRIVE_DATA\""
      ],
      "metadata": {
        "colab": {
          "base_uri": "https://localhost:8080/"
        },
        "id": "noonVi8nh0sa",
        "outputId": "4067725e-3dd6-4037-fef0-6d1563e47734"
      },
      "execution_count": null,
      "outputs": [
        {
          "output_type": "stream",
          "name": "stdout",
          "text": [
            "/content/spark/\n",
            "DRIVE_DATA=/content/gdrive/My Drive/Big Data Framework/data\n"
          ]
        }
      ]
    },
    {
      "cell_type": "markdown",
      "metadata": {
        "id": "NwU28K5f1H3P"
      },
      "source": [
        "### Start a SparkSession\n",
        "This will start a local Spark session."
      ]
    },
    {
      "cell_type": "code",
      "source": [
        "!python -V\n",
        "\n",
        "import findspark\n",
        "findspark.init()\n",
        "\n",
        "from pyspark import SparkContext\n",
        "sc = SparkContext.getOrCreate()\n",
        "\n",
        "# Example: shows the PySpark version\n",
        "print(\"PySpark version {0}\".format(sc.version))\n",
        "\n",
        "# Example: parallelise an array and show the 2 first elements\n",
        "sc.parallelize([2, 3, 4, 5, 6]).cache().take(2)"
      ],
      "metadata": {
        "colab": {
          "base_uri": "https://localhost:8080/"
        },
        "id": "5c1sBuRviLX1",
        "outputId": "26919fe9-e8eb-4f5c-e507-3f11deab1a4d"
      },
      "execution_count": null,
      "outputs": [
        {
          "output_type": "stream",
          "name": "stdout",
          "text": [
            "Python 3.10.12\n",
            "PySpark version 3.5.3\n"
          ]
        },
        {
          "output_type": "execute_result",
          "data": {
            "text/plain": [
              "[2, 3]"
            ]
          },
          "metadata": {},
          "execution_count": 17
        }
      ]
    },
    {
      "cell_type": "code",
      "source": [
        "from pyspark.sql import SparkSession\n",
        "# We create a SparkSession object (or we retrieve it if it is already created)\n",
        "spark = SparkSession \\\n",
        ".builder \\\n",
        ".appName(\"My application\") \\\n",
        ".config(\"spark.some.config.option\", \"some-value\") \\\n",
        ".master(\"local[4]\") \\\n",
        ".getOrCreate()\n",
        "# We get the SparkContext\n",
        "sc = spark.sparkContext"
      ],
      "metadata": {
        "id": "9vLVCvnFiWp-"
      },
      "execution_count": null,
      "outputs": []
    },
    {
      "cell_type": "markdown",
      "metadata": {
        "id": "T3ULPx4Y1LiR"
      },
      "source": [
        "## Exercise 3.1: Word count\n",
        "\n",
        "Count the number of words *per line* in the $DRIVE_DATA/quijote.txt file.\n",
        "\n",
        "Repeat the exercise but this time counting the number of words *in the whole file*."
      ]
    },
    {
      "cell_type": "code",
      "source": [
        "from google.colab import drive\n",
        "drive.mount('/content/gdrive')"
      ],
      "metadata": {
        "colab": {
          "base_uri": "https://localhost:8080/"
        },
        "id": "sUYzQZTpmdwI",
        "outputId": "68578793-37a0-4f32-af22-a8a4dc0069a0"
      },
      "execution_count": null,
      "outputs": [
        {
          "output_type": "stream",
          "name": "stdout",
          "text": [
            "Drive already mounted at /content/gdrive; to attempt to forcibly remount, call drive.mount(\"/content/gdrive\", force_remount=True).\n"
          ]
        }
      ]
    },
    {
      "cell_type": "code",
      "source": [
        "!head \"$DRIVE_DATA/quijote.txt\""
      ],
      "metadata": {
        "colab": {
          "base_uri": "https://localhost:8080/"
        },
        "id": "aRzNDo68mhGd",
        "outputId": "097be95c-be01-4b87-a218-a4f673e87e5b"
      },
      "execution_count": null,
      "outputs": [
        {
          "output_type": "stream",
          "name": "stdout",
          "text": [
            "﻿The Project Gutenberg EBook of Don Quijote, by Miguel de Cervantes Saavedra\r\n",
            "\r\n",
            "This eBook is for the use of anyone anywhere at no cost and with\r\n",
            "almost no restrictions whatsoever.  You may copy it, give it away or\r\n",
            "re-use it under the terms of the Project Gutenberg License included\r\n",
            "with this eBook or online at www.gutenberg.net\r\n",
            "\r\n",
            "\r\n",
            "Title: Don Quijote\r\n",
            "\r\n"
          ]
        }
      ]
    },
    {
      "cell_type": "code",
      "source": [
        "from pyspark.sql import SparkSession\n",
        "from pyspark.sql import functions as F\n",
        "\n",
        "# Initialize Spark session\n",
        "spark = SparkSession.builder.appName(\"WordCount\").getOrCreate()\n",
        "\n",
        "# Define file path\n",
        "file_path = \"/content/gdrive/My Drive/Big Data Framework/data/quijote.txt\"\n",
        "\n",
        "# Load the file into a DataFrame, with one line per row\n",
        "lines_df = spark.read.text(file_path)\n",
        "\n",
        "# Count words per line\n",
        "words_per_line_df = lines_df.withColumn(\"word_count\", F.size(F.split(F.col(\"value\"), \" \")))\n",
        "\n",
        "# Show the word counts per line\n",
        "words_per_line_df.show(truncate=False)\n",
        "\n",
        "# Count total words in the whole file\n",
        "total_words = words_per_line_df.select(F.sum(\"word_count\").alias(\"total_word_count\")).collect()[0][\"total_word_count\"]\n",
        "\n",
        "print(f\"Total number of words in the file: {total_words}\")\n",
        "\n",
        "# Stop the Spark session\n",
        "spark.stop()\n"
      ],
      "metadata": {
        "colab": {
          "base_uri": "https://localhost:8080/"
        },
        "id": "oy31rgVLnW_p",
        "outputId": "4c2b1494-77e1-4fec-b78f-edc28b60ea20"
      },
      "execution_count": null,
      "outputs": [
        {
          "output_type": "stream",
          "name": "stdout",
          "text": [
            "+---------------------------------------------------------------------------+----------+\n",
            "|value                                                                      |word_count|\n",
            "+---------------------------------------------------------------------------+----------+\n",
            "|The Project Gutenberg EBook of Don Quijote, by Miguel de Cervantes Saavedra|12        |\n",
            "|                                                                           |1         |\n",
            "|This eBook is for the use of anyone anywhere at no cost and with           |14        |\n",
            "|almost no restrictions whatsoever.  You may copy it, give it away or       |13        |\n",
            "|re-use it under the terms of the Project Gutenberg License included        |11        |\n",
            "|with this eBook or online at www.gutenberg.net                             |7         |\n",
            "|                                                                           |1         |\n",
            "|                                                                           |1         |\n",
            "|Title: Don Quijote                                                         |3         |\n",
            "|                                                                           |1         |\n",
            "|Author: Miguel de Cervantes Saavedra                                       |5         |\n",
            "|                                                                           |1         |\n",
            "|Posting Date: April 27, 2010 [EBook #2000]                                 |7         |\n",
            "|Release Date: December, 1999                                               |4         |\n",
            "|                                                                           |1         |\n",
            "|Language: Spanish                                                          |2         |\n",
            "|                                                                           |1         |\n",
            "|                                                                           |1         |\n",
            "|*** START OF THIS PROJECT GUTENBERG EBOOK DON QUIJOTE ***                  |10        |\n",
            "|                                                                           |1         |\n",
            "+---------------------------------------------------------------------------+----------+\n",
            "only showing top 20 rows\n",
            "\n",
            "Total number of words in the file: 393764\n"
          ]
        }
      ]
    },
    {
      "cell_type": "markdown",
      "source": [
        "V2\n"
      ],
      "metadata": {
        "id": "2DF9yDSDp6-V"
      }
    },
    {
      "cell_type": "code",
      "source": [
        "from pyspark.sql import SparkSession\n",
        "from pyspark.sql import functions as F\n",
        "\n",
        "# Initialize Spark session\n",
        "spark = SparkSession.builder.appName(\"WordCount\").getOrCreate()\n",
        "\n",
        "# Define file path\n",
        "file_path = \"/content/gdrive/My Drive/Big Data Framework/data/quijote.txt\"\n",
        "\n",
        "# Load the file into a DataFrame, with one line per row\n",
        "lines_df = spark.read.text(file_path)\n",
        "\n",
        "# Filter out empty lines (lines that are empty or only contain whitespace)\n",
        "non_empty_lines_df = lines_df.filter(F.trim(F.col(\"value\")) != \"\")\n",
        "\n",
        "# Count words per line\n",
        "words_per_line_df = non_empty_lines_df.withColumn(\"word_count\", F.size(F.split(F.col(\"value\"), \" \")))\n",
        "\n",
        "# Show the word counts per line\n",
        "words_per_line_df.show(truncate=False)\n",
        "\n",
        "# Count total words in the whole file\n",
        "total_words = words_per_line_df.select(F.sum(\"word_count\").alias(\"total_word_count\")).collect()[0][\"total_word_count\"]\n",
        "\n",
        "print(f\"Total number of words in the file: {total_words}\")\n",
        "\n",
        "# Stop the Spark session\n",
        "spark.stop()\n"
      ],
      "metadata": {
        "colab": {
          "base_uri": "https://localhost:8080/"
        },
        "id": "QjIk_AOOqEhA",
        "outputId": "57655254-c9ee-40c4-8389-ec256c572ed4"
      },
      "execution_count": null,
      "outputs": [
        {
          "output_type": "stream",
          "name": "stdout",
          "text": [
            "+---------------------------------------------------------------------------+----------+\n",
            "|value                                                                      |word_count|\n",
            "+---------------------------------------------------------------------------+----------+\n",
            "|The Project Gutenberg EBook of Don Quijote, by Miguel de Cervantes Saavedra|12        |\n",
            "|This eBook is for the use of anyone anywhere at no cost and with           |14        |\n",
            "|almost no restrictions whatsoever.  You may copy it, give it away or       |13        |\n",
            "|re-use it under the terms of the Project Gutenberg License included        |11        |\n",
            "|with this eBook or online at www.gutenberg.net                             |7         |\n",
            "|Title: Don Quijote                                                         |3         |\n",
            "|Author: Miguel de Cervantes Saavedra                                       |5         |\n",
            "|Posting Date: April 27, 2010 [EBook #2000]                                 |7         |\n",
            "|Release Date: December, 1999                                               |4         |\n",
            "|Language: Spanish                                                          |2         |\n",
            "|*** START OF THIS PROJECT GUTENBERG EBOOK DON QUIJOTE ***                  |10        |\n",
            "|Produced by an anonymous Project Gutenberg volunteer. Text                 |8         |\n",
            "|file corrections and new HTML file by Joaquin Cuenca Abela.                |10        |\n",
            "|El ingenioso hidalgo don Quijote de la Mancha                              |8         |\n",
            "|TASA                                                                       |1         |\n",
            "|Yo, Juan Gallo de Andrada, escribano de Cámara del Rey nuestro señor, de   |13        |\n",
            "|los que residen en su Consejo, certifico y doy fe que, habiendo visto por  |14        |\n",
            "|los señores dél un libro intitulado El ingenioso hidalgo de la Mancha,     |12        |\n",
            "|compuesto por Miguel de Cervantes Saavedra, tasaron cada pliego del dicho  |11        |\n",
            "|libro a tres maravedís y medio; el cual tiene ochenta y tres pliegos, que  |14        |\n",
            "+---------------------------------------------------------------------------+----------+\n",
            "only showing top 20 rows\n",
            "\n",
            "Total number of words in the file: 387834\n"
          ]
        }
      ]
    },
    {
      "cell_type": "code",
      "source": [
        "from pyspark.sql import SparkSession\n",
        "from pyspark.sql import functions as F\n",
        "\n",
        "# Initialize Spark session\n",
        "spark = SparkSession.builder.appName(\"WordCount\").getOrCreate()\n",
        "\n",
        "# Define file path\n",
        "file_path = \"/content/gdrive/My Drive/Big Data Framework/data/quijote.txt\"\n",
        "\n",
        "# Load the file into a DataFrame, with one line per row\n",
        "lines_df = spark.read.text(file_path)\n",
        "\n",
        "# Filter out empty lines (lines that are empty or only contain whitespace)\n",
        "non_empty_lines_df = lines_df.filter(F.trim(F.col(\"value\")) != \"\")\n",
        "\n",
        "# Count words per line\n",
        "words_per_line_df = non_empty_lines_df.withColumn(\"word_count\", F.size(F.split(F.col(\"value\"), \"\\s+\")))\n",
        "\n",
        "# Show the word counts per line\n",
        "words_per_line_df.show(truncate=False)\n",
        "\n",
        "# Count total words in the whole file\n",
        "total_words = words_per_line_df.select(F.sum(\"word_count\").alias(\"total_word_count\")).collect()[0][\"total_word_count\"]\n",
        "\n",
        "print(f\"Total number of words in the file: {total_words}\")\n",
        "\n",
        "# Stop the Spark session\n",
        "spark.stop()\n"
      ],
      "metadata": {
        "colab": {
          "base_uri": "https://localhost:8080/"
        },
        "id": "8Cr5MhFrs-mI",
        "outputId": "f9add08c-2224-4298-fa9a-3aac2413d18a"
      },
      "execution_count": null,
      "outputs": [
        {
          "output_type": "stream",
          "name": "stdout",
          "text": [
            "+---------------------------------------------------------------------------+----------+\n",
            "|value                                                                      |word_count|\n",
            "+---------------------------------------------------------------------------+----------+\n",
            "|The Project Gutenberg EBook of Don Quijote, by Miguel de Cervantes Saavedra|12        |\n",
            "|This eBook is for the use of anyone anywhere at no cost and with           |14        |\n",
            "|almost no restrictions whatsoever.  You may copy it, give it away or       |12        |\n",
            "|re-use it under the terms of the Project Gutenberg License included        |11        |\n",
            "|with this eBook or online at www.gutenberg.net                             |7         |\n",
            "|Title: Don Quijote                                                         |3         |\n",
            "|Author: Miguel de Cervantes Saavedra                                       |5         |\n",
            "|Posting Date: April 27, 2010 [EBook #2000]                                 |7         |\n",
            "|Release Date: December, 1999                                               |4         |\n",
            "|Language: Spanish                                                          |2         |\n",
            "|*** START OF THIS PROJECT GUTENBERG EBOOK DON QUIJOTE ***                  |10        |\n",
            "|Produced by an anonymous Project Gutenberg volunteer. Text                 |8         |\n",
            "|file corrections and new HTML file by Joaquin Cuenca Abela.                |10        |\n",
            "|El ingenioso hidalgo don Quijote de la Mancha                              |8         |\n",
            "|TASA                                                                       |1         |\n",
            "|Yo, Juan Gallo de Andrada, escribano de Cámara del Rey nuestro señor, de   |13        |\n",
            "|los que residen en su Consejo, certifico y doy fe que, habiendo visto por  |14        |\n",
            "|los señores dél un libro intitulado El ingenioso hidalgo de la Mancha,     |12        |\n",
            "|compuesto por Miguel de Cervantes Saavedra, tasaron cada pliego del dicho  |11        |\n",
            "|libro a tres maravedís y medio; el cual tiene ochenta y tres pliegos, que  |14        |\n",
            "+---------------------------------------------------------------------------+----------+\n",
            "only showing top 20 rows\n",
            "\n",
            "Total number of words in the file: 385422\n"
          ]
        }
      ]
    },
    {
      "cell_type": "markdown",
      "metadata": {
        "id": "7ppnan-_ELFI"
      },
      "source": [
        "## Exercise 4.1: Pi Estimation\n",
        "\n",
        "Using the Monte Carlo method, estimate the value of Pi. Use the random() method from the random class."
      ]
    },
    {
      "cell_type": "code",
      "source": [
        "from pyspark.sql import SparkSession\n",
        "import random\n",
        "\n",
        "# Initialize Spark session\n",
        "spark = SparkSession.builder.appName(\"MonteCarloPi\").getOrCreate()\n",
        "\n",
        "# Number of random points to generate\n",
        "NUM_SAMPLES = 10_000_000\n",
        "\n",
        "# Function to generate a random point and check if it's inside the unit circle\n",
        "def is_point_inside_unit_circle(_):\n",
        "    x = random.uniform(-1, 1)\n",
        "    y = random.uniform(-1, 1)\n",
        "    return 1 if x**2 + y**2 <= 1 else 0\n",
        "\n",
        "# Parallelize the calculation across Spark workers\n",
        "rdd = spark.sparkContext.parallelize(range(NUM_SAMPLES))\n",
        "points_inside_circle = rdd.map(is_point_inside_unit_circle).reduce(lambda a, b: a + b)\n",
        "\n",
        "# Approximate π\n",
        "pi_estimate = (4 * points_inside_circle) / NUM_SAMPLES\n",
        "\n",
        "print(f\"Estimated value of π: {pi_estimate}\")\n",
        "\n",
        "# Stop the Spark session\n",
        "spark.stop()\n"
      ],
      "metadata": {
        "colab": {
          "base_uri": "https://localhost:8080/"
        },
        "id": "9-JfVUSesWYQ",
        "outputId": "c0dd8212-3666-4e2d-b169-5c31a9661ecd"
      },
      "execution_count": null,
      "outputs": [
        {
          "output_type": "stream",
          "name": "stdout",
          "text": [
            "Estimated value of π: 3.1410296\n"
          ]
        }
      ]
    },
    {
      "cell_type": "markdown",
      "metadata": {
        "id": "2vPYCnS8ERmg"
      },
      "source": [
        "## Exercise 4.2: Inspect a log file\n",
        "\n",
        "Upload the file /var/log/syslog from your computer to this notebook. Then, select only the \"bad lines\": WARNING and ERROR messages."
      ]
    },
    {
      "cell_type": "code",
      "source": [
        "from google.colab import files\n",
        "\n",
        "# Upload file\n",
        "uploaded = files.upload()\n"
      ],
      "metadata": {
        "colab": {
          "base_uri": "https://localhost:8080/",
          "height": 75
        },
        "id": "oWA88cXSsX5h",
        "outputId": "dff09813-8111-4a4e-b344-331633a54184"
      },
      "execution_count": 1,
      "outputs": [
        {
          "output_type": "display_data",
          "data": {
            "text/plain": [
              "<IPython.core.display.HTML object>"
            ],
            "text/html": [
              "\n",
              "     <input type=\"file\" id=\"files-28a45c8b-a539-4f71-a5ac-63f175103659\" name=\"files[]\" multiple disabled\n",
              "        style=\"border:none\" />\n",
              "     <output id=\"result-28a45c8b-a539-4f71-a5ac-63f175103659\">\n",
              "      Upload widget is only available when the cell has been executed in the\n",
              "      current browser session. Please rerun this cell to enable.\n",
              "      </output>\n",
              "      <script>// Copyright 2017 Google LLC\n",
              "//\n",
              "// Licensed under the Apache License, Version 2.0 (the \"License\");\n",
              "// you may not use this file except in compliance with the License.\n",
              "// You may obtain a copy of the License at\n",
              "//\n",
              "//      http://www.apache.org/licenses/LICENSE-2.0\n",
              "//\n",
              "// Unless required by applicable law or agreed to in writing, software\n",
              "// distributed under the License is distributed on an \"AS IS\" BASIS,\n",
              "// WITHOUT WARRANTIES OR CONDITIONS OF ANY KIND, either express or implied.\n",
              "// See the License for the specific language governing permissions and\n",
              "// limitations under the License.\n",
              "\n",
              "/**\n",
              " * @fileoverview Helpers for google.colab Python module.\n",
              " */\n",
              "(function(scope) {\n",
              "function span(text, styleAttributes = {}) {\n",
              "  const element = document.createElement('span');\n",
              "  element.textContent = text;\n",
              "  for (const key of Object.keys(styleAttributes)) {\n",
              "    element.style[key] = styleAttributes[key];\n",
              "  }\n",
              "  return element;\n",
              "}\n",
              "\n",
              "// Max number of bytes which will be uploaded at a time.\n",
              "const MAX_PAYLOAD_SIZE = 100 * 1024;\n",
              "\n",
              "function _uploadFiles(inputId, outputId) {\n",
              "  const steps = uploadFilesStep(inputId, outputId);\n",
              "  const outputElement = document.getElementById(outputId);\n",
              "  // Cache steps on the outputElement to make it available for the next call\n",
              "  // to uploadFilesContinue from Python.\n",
              "  outputElement.steps = steps;\n",
              "\n",
              "  return _uploadFilesContinue(outputId);\n",
              "}\n",
              "\n",
              "// This is roughly an async generator (not supported in the browser yet),\n",
              "// where there are multiple asynchronous steps and the Python side is going\n",
              "// to poll for completion of each step.\n",
              "// This uses a Promise to block the python side on completion of each step,\n",
              "// then passes the result of the previous step as the input to the next step.\n",
              "function _uploadFilesContinue(outputId) {\n",
              "  const outputElement = document.getElementById(outputId);\n",
              "  const steps = outputElement.steps;\n",
              "\n",
              "  const next = steps.next(outputElement.lastPromiseValue);\n",
              "  return Promise.resolve(next.value.promise).then((value) => {\n",
              "    // Cache the last promise value to make it available to the next\n",
              "    // step of the generator.\n",
              "    outputElement.lastPromiseValue = value;\n",
              "    return next.value.response;\n",
              "  });\n",
              "}\n",
              "\n",
              "/**\n",
              " * Generator function which is called between each async step of the upload\n",
              " * process.\n",
              " * @param {string} inputId Element ID of the input file picker element.\n",
              " * @param {string} outputId Element ID of the output display.\n",
              " * @return {!Iterable<!Object>} Iterable of next steps.\n",
              " */\n",
              "function* uploadFilesStep(inputId, outputId) {\n",
              "  const inputElement = document.getElementById(inputId);\n",
              "  inputElement.disabled = false;\n",
              "\n",
              "  const outputElement = document.getElementById(outputId);\n",
              "  outputElement.innerHTML = '';\n",
              "\n",
              "  const pickedPromise = new Promise((resolve) => {\n",
              "    inputElement.addEventListener('change', (e) => {\n",
              "      resolve(e.target.files);\n",
              "    });\n",
              "  });\n",
              "\n",
              "  const cancel = document.createElement('button');\n",
              "  inputElement.parentElement.appendChild(cancel);\n",
              "  cancel.textContent = 'Cancel upload';\n",
              "  const cancelPromise = new Promise((resolve) => {\n",
              "    cancel.onclick = () => {\n",
              "      resolve(null);\n",
              "    };\n",
              "  });\n",
              "\n",
              "  // Wait for the user to pick the files.\n",
              "  const files = yield {\n",
              "    promise: Promise.race([pickedPromise, cancelPromise]),\n",
              "    response: {\n",
              "      action: 'starting',\n",
              "    }\n",
              "  };\n",
              "\n",
              "  cancel.remove();\n",
              "\n",
              "  // Disable the input element since further picks are not allowed.\n",
              "  inputElement.disabled = true;\n",
              "\n",
              "  if (!files) {\n",
              "    return {\n",
              "      response: {\n",
              "        action: 'complete',\n",
              "      }\n",
              "    };\n",
              "  }\n",
              "\n",
              "  for (const file of files) {\n",
              "    const li = document.createElement('li');\n",
              "    li.append(span(file.name, {fontWeight: 'bold'}));\n",
              "    li.append(span(\n",
              "        `(${file.type || 'n/a'}) - ${file.size} bytes, ` +\n",
              "        `last modified: ${\n",
              "            file.lastModifiedDate ? file.lastModifiedDate.toLocaleDateString() :\n",
              "                                    'n/a'} - `));\n",
              "    const percent = span('0% done');\n",
              "    li.appendChild(percent);\n",
              "\n",
              "    outputElement.appendChild(li);\n",
              "\n",
              "    const fileDataPromise = new Promise((resolve) => {\n",
              "      const reader = new FileReader();\n",
              "      reader.onload = (e) => {\n",
              "        resolve(e.target.result);\n",
              "      };\n",
              "      reader.readAsArrayBuffer(file);\n",
              "    });\n",
              "    // Wait for the data to be ready.\n",
              "    let fileData = yield {\n",
              "      promise: fileDataPromise,\n",
              "      response: {\n",
              "        action: 'continue',\n",
              "      }\n",
              "    };\n",
              "\n",
              "    // Use a chunked sending to avoid message size limits. See b/62115660.\n",
              "    let position = 0;\n",
              "    do {\n",
              "      const length = Math.min(fileData.byteLength - position, MAX_PAYLOAD_SIZE);\n",
              "      const chunk = new Uint8Array(fileData, position, length);\n",
              "      position += length;\n",
              "\n",
              "      const base64 = btoa(String.fromCharCode.apply(null, chunk));\n",
              "      yield {\n",
              "        response: {\n",
              "          action: 'append',\n",
              "          file: file.name,\n",
              "          data: base64,\n",
              "        },\n",
              "      };\n",
              "\n",
              "      let percentDone = fileData.byteLength === 0 ?\n",
              "          100 :\n",
              "          Math.round((position / fileData.byteLength) * 100);\n",
              "      percent.textContent = `${percentDone}% done`;\n",
              "\n",
              "    } while (position < fileData.byteLength);\n",
              "  }\n",
              "\n",
              "  // All done.\n",
              "  yield {\n",
              "    response: {\n",
              "      action: 'complete',\n",
              "    }\n",
              "  };\n",
              "}\n",
              "\n",
              "scope.google = scope.google || {};\n",
              "scope.google.colab = scope.google.colab || {};\n",
              "scope.google.colab._files = {\n",
              "  _uploadFiles,\n",
              "  _uploadFilesContinue,\n",
              "};\n",
              "})(self);\n",
              "</script> "
            ]
          },
          "metadata": {}
        },
        {
          "output_type": "stream",
          "name": "stdout",
          "text": [
            "Saving syslog to syslog\n"
          ]
        }
      ]
    },
    {
      "cell_type": "code",
      "source": [
        "from pyspark.sql import SparkSession\n",
        "from pyspark.sql import functions as F\n",
        "\n",
        "# Initialize Spark session\n",
        "spark = SparkSession.builder.appName(\"SyslogFilter\").getOrCreate()\n",
        "\n",
        "# Load the syslog file into a DataFrame\n",
        "file_path = \"/content/syslog\"  # Adjust path if necessary after upload\n",
        "syslog_df = spark.read.text(file_path)\n",
        "\n",
        "# Filter lines containing WARNING or ERROR\n",
        "bad_lines_df = syslog_df.filter(\n",
        "    F.col(\"value\").contains(\"WARNING\") | F.col(\"value\").contains(\"ERROR\")\n",
        ")\n",
        "\n",
        "# Show the filtered \"bad lines\"\n",
        "bad_lines_df.show(truncate=False)\n",
        "\n",
        "# Save the filtered lines to a new file if needed\n",
        "output_path = \"/content/bad_lines.txt\"\n",
        "bad_lines_df.write.text(output_path)\n",
        "print(f\"Filtered lines saved to: {output_path}\")\n",
        "\n",
        "# Stop the Spark session\n",
        "spark.stop()\n"
      ],
      "metadata": {
        "id": "vr7OqhMrMSrO",
        "colab": {
          "base_uri": "https://localhost:8080/"
        },
        "outputId": "5b969ee1-9067-46cc-d76d-32ca5264dfb5"
      },
      "execution_count": 2,
      "outputs": [
        {
          "output_type": "stream",
          "name": "stdout",
          "text": [
            "+--------------------------------------------------------------------------------------------------------------------------------------------------------------------------------------------------------------------------------------------------------------------+\n",
            "|value                                                                                                                                                                                                                                                               |\n",
            "+--------------------------------------------------------------------------------------------------------------------------------------------------------------------------------------------------------------------------------------------------------------------+\n",
            "|Nov 24 10:34:40 student-laptop ovpn-cytech.students[1270]: WARNING: file '/data/CYTECH-VPN-CLE-PERSONNELLE/client.p12' is group or others accessible                                                                                                                |\n",
            "|Nov 24 10:34:40 student-laptop ovpn-cytech.students[1270]: WARNING: Your certificate has expired!                                                                                                                                                                   |\n",
            "|Nov 24 10:34:40 student-laptop ntpd[1336]: kernel reports TIME_ERROR: 0x41: Clock Unsynchronized                                                                                                                                                                    |\n",
            "|Nov 24 10:34:40 student-laptop ntpd[1336]: kernel reports TIME_ERROR: 0x41: Clock Unsynchronized                                                                                                                                                                    |\n",
            "|Nov 24 10:34:40 student-laptop gnome-session[1433]: gnome-session-binary[1433]: WARNING: Falling back to non-systemd startup procedure due to error: GDBus.Error:org.freedesktop.DBus.Error.Spawn.ChildExited: Process org.freedesktop.systemd1 exited with status 1|\n",
            "|Nov 24 10:34:40 student-laptop gnome-session-binary[1433]: WARNING: Falling back to non-systemd startup procedure due to error: GDBus.Error:org.freedesktop.DBus.Error.Spawn.ChildExited: Process org.freedesktop.systemd1 exited with status 1                     |\n",
            "|Nov 24 10:34:40 student-laptop ntpd[1620]: kernel reports TIME_ERROR: 0x41: Clock Unsynchronized                                                                                                                                                                    |\n",
            "|Nov 24 10:34:40 student-laptop ntpd[1620]: kernel reports TIME_ERROR: 0x41: Clock Unsynchronized                                                                                                                                                                    |\n",
            "|Nov 24 10:34:41 student-laptop dockerd[1267]: time=\"2024-11-24T10:34:41.042425570+01:00\" level=warning msg=\"WARNING: bridge-nf-call-iptables is disabled\"                                                                                                           |\n",
            "|Nov 24 10:34:41 student-laptop dockerd[1267]: time=\"2024-11-24T10:34:41.042446019+01:00\" level=warning msg=\"WARNING: bridge-nf-call-ip6tables is disabled\"                                                                                                          |\n",
            "|Nov 24 10:34:47 student-laptop gnome-shell[1459]: JS WARNING: [resource:///org/gnome/shell/ui/layout.js 24]: reference to undefined property \"MetaWindowXwayland\"                                                                                                   |\n",
            "|Nov 25 09:55:54 student-laptop ntpd[992]: kernel reports TIME_ERROR: 0x41: Clock Unsynchronized                                                                                                                                                                     |\n",
            "|Nov 25 09:55:54 student-laptop ntpd[992]: kernel reports TIME_ERROR: 0x41: Clock Unsynchronized                                                                                                                                                                     |\n",
            "|Nov 25 09:55:55 student-laptop networkd-dispatcher[1070]: WARNING: systemd-networkd is not running, output will be incomplete.                                                                                                                                      |\n",
            "|Nov 25 09:55:55 student-laptop networkd-dispatcher[840]: ERROR:Unknown state for interface NetworkctlListState(idx=1, name='lo', type='loopback', operational='n/a', administrative='unmanaged'): n/a                                                               |\n",
            "|Nov 25 09:55:55 student-laptop networkd-dispatcher[840]: ERROR:Unknown state for interface NetworkctlListState(idx=2, name='wlp0s20f3', type='wlan', operational='n/a', administrative='unmanaged'): n/a                                                            |\n",
            "|Nov 25 09:56:11 student-laptop ovpn-cytech.students[1286]: WARNING: file '/data/CYTECH-VPN-CLE-PERSONNELLE/client.p12' is group or others accessible                                                                                                                |\n",
            "|Nov 25 09:56:11 student-laptop ovpn-cytech.students[1286]: WARNING: Your certificate has expired!                                                                                                                                                                   |\n",
            "|Nov 25 09:56:12 student-laptop gnome-session[1396]: gnome-session-binary[1396]: WARNING: Falling back to non-systemd startup procedure due to error: GDBus.Error:org.freedesktop.DBus.Error.Spawn.ChildExited: Process org.freedesktop.systemd1 exited with status 1|\n",
            "|Nov 25 09:56:12 student-laptop gnome-session-binary[1396]: WARNING: Falling back to non-systemd startup procedure due to error: GDBus.Error:org.freedesktop.DBus.Error.Spawn.ChildExited: Process org.freedesktop.systemd1 exited with status 1                     |\n",
            "+--------------------------------------------------------------------------------------------------------------------------------------------------------------------------------------------------------------------------------------------------------------------+\n",
            "only showing top 20 rows\n",
            "\n",
            "Filtered lines saved to: /content/bad_lines.txt\n"
          ]
        }
      ]
    }
  ]
}